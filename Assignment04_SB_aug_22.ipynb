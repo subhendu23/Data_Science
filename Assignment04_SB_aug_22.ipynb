{
 "cells": [
  {
   "cell_type": "markdown",
   "id": "1b398977",
   "metadata": {},
   "source": [
    "### Assignment 4 ###\n"
   ]
  },
  {
   "cell_type": "code",
   "execution_count": 1,
   "id": "dc40644a",
   "metadata": {},
   "outputs": [],
   "source": [
    "# Import required libraries \n",
    "import numpy as np\n",
    "import pandas as pd\n",
    "\n",
    "import math\n",
    "import scipy.stats as st\n",
    "import matplotlib.pyplot as plt\n",
    "import seaborn as sns\n"
   ]
  },
  {
   "cell_type": "code",
   "execution_count": 2,
   "id": "537f3eb1",
   "metadata": {},
   "outputs": [
    {
     "data": {
      "text/html": [
       "<div>\n",
       "<style scoped>\n",
       "    .dataframe tbody tr th:only-of-type {\n",
       "        vertical-align: middle;\n",
       "    }\n",
       "\n",
       "    .dataframe tbody tr th {\n",
       "        vertical-align: top;\n",
       "    }\n",
       "\n",
       "    .dataframe thead th {\n",
       "        text-align: right;\n",
       "    }\n",
       "</style>\n",
       "<table border=\"1\" class=\"dataframe\">\n",
       "  <thead>\n",
       "    <tr style=\"text-align: right;\">\n",
       "      <th></th>\n",
       "      <th>Person</th>\n",
       "      <th>Rating</th>\n",
       "    </tr>\n",
       "  </thead>\n",
       "  <tbody>\n",
       "    <tr>\n",
       "      <th>24</th>\n",
       "      <td>25</td>\n",
       "      <td>72</td>\n",
       "    </tr>\n",
       "    <tr>\n",
       "      <th>38</th>\n",
       "      <td>39</td>\n",
       "      <td>78</td>\n",
       "    </tr>\n",
       "    <tr>\n",
       "      <th>53</th>\n",
       "      <td>54</td>\n",
       "      <td>100</td>\n",
       "    </tr>\n",
       "    <tr>\n",
       "      <th>48</th>\n",
       "      <td>49</td>\n",
       "      <td>91</td>\n",
       "    </tr>\n",
       "    <tr>\n",
       "      <th>55</th>\n",
       "      <td>56</td>\n",
       "      <td>73</td>\n",
       "    </tr>\n",
       "    <tr>\n",
       "      <th>9</th>\n",
       "      <td>10</td>\n",
       "      <td>82</td>\n",
       "    </tr>\n",
       "    <tr>\n",
       "      <th>0</th>\n",
       "      <td>1</td>\n",
       "      <td>100</td>\n",
       "    </tr>\n",
       "    <tr>\n",
       "      <th>15</th>\n",
       "      <td>16</td>\n",
       "      <td>86</td>\n",
       "    </tr>\n",
       "    <tr>\n",
       "      <th>6</th>\n",
       "      <td>7</td>\n",
       "      <td>81</td>\n",
       "    </tr>\n",
       "    <tr>\n",
       "      <th>49</th>\n",
       "      <td>50</td>\n",
       "      <td>73</td>\n",
       "    </tr>\n",
       "  </tbody>\n",
       "</table>\n",
       "</div>"
      ],
      "text/plain": [
       "    Person  Rating\n",
       "24      25      72\n",
       "38      39      78\n",
       "53      54     100\n",
       "48      49      91\n",
       "55      56      73\n",
       "9       10      82\n",
       "0        1     100\n",
       "15      16      86\n",
       "6        7      81\n",
       "49      50      73"
      ]
     },
     "execution_count": 2,
     "metadata": {},
     "output_type": "execute_result"
    }
   ],
   "source": [
    "# Q5_ read the beer file \n",
    "beerrating_df=pd.read_excel('Q5_Beer_Taste.xlsx')\n",
    "\n",
    "beerrating_df.sample(10)"
   ]
  },
  {
   "cell_type": "code",
   "execution_count": 3,
   "id": "d323cc8e",
   "metadata": {},
   "outputs": [
    {
     "name": "stdout",
     "output_type": "stream",
     "text": [
      "<class 'pandas.core.frame.DataFrame'>\n",
      "Int64Index: 60 entries, 1 to 60\n",
      "Data columns (total 1 columns):\n",
      " #   Column  Non-Null Count  Dtype\n",
      "---  ------  --------------  -----\n",
      " 0   Rating  60 non-null     int64\n",
      "dtypes: int64(1)\n",
      "memory usage: 960.0 bytes\n"
     ]
    }
   ],
   "source": [
    "#Q5 Check Data Quality\n",
    "beerrating_df.set_index('Person', inplace=True )\n",
    "beerrating_df.info()"
   ]
  },
  {
   "cell_type": "code",
   "execution_count": 4,
   "id": "008390dd",
   "metadata": {},
   "outputs": [
    {
     "data": {
      "text/html": [
       "<div>\n",
       "<style scoped>\n",
       "    .dataframe tbody tr th:only-of-type {\n",
       "        vertical-align: middle;\n",
       "    }\n",
       "\n",
       "    .dataframe tbody tr th {\n",
       "        vertical-align: top;\n",
       "    }\n",
       "\n",
       "    .dataframe thead th {\n",
       "        text-align: right;\n",
       "    }\n",
       "</style>\n",
       "<table border=\"1\" class=\"dataframe\">\n",
       "  <thead>\n",
       "    <tr style=\"text-align: right;\">\n",
       "      <th></th>\n",
       "      <th>Rating</th>\n",
       "    </tr>\n",
       "    <tr>\n",
       "      <th>Person</th>\n",
       "      <th></th>\n",
       "    </tr>\n",
       "  </thead>\n",
       "  <tbody>\n",
       "    <tr>\n",
       "      <th>14</th>\n",
       "      <td>58</td>\n",
       "    </tr>\n",
       "    <tr>\n",
       "      <th>5</th>\n",
       "      <td>94</td>\n",
       "    </tr>\n",
       "    <tr>\n",
       "      <th>22</th>\n",
       "      <td>76</td>\n",
       "    </tr>\n",
       "    <tr>\n",
       "      <th>26</th>\n",
       "      <td>70</td>\n",
       "    </tr>\n",
       "    <tr>\n",
       "      <th>37</th>\n",
       "      <td>76</td>\n",
       "    </tr>\n",
       "  </tbody>\n",
       "</table>\n",
       "</div>"
      ],
      "text/plain": [
       "        Rating\n",
       "Person        \n",
       "14          58\n",
       "5           94\n",
       "22          76\n",
       "26          70\n",
       "37          76"
      ]
     },
     "execution_count": 4,
     "metadata": {},
     "output_type": "execute_result"
    }
   ],
   "source": [
    "beerrating_df.sample(5)"
   ]
  },
  {
   "cell_type": "code",
   "execution_count": 5,
   "id": "63d714cf",
   "metadata": {},
   "outputs": [
    {
     "name": "stdout",
     "output_type": "stream",
     "text": [
      "The beerrating mean is 79.750000 and the stad deviation is 14.502630 \n"
     ]
    }
   ],
   "source": [
    "beerrating_mean=beerrating_df['Rating'].mean()\n",
    "beerrating_sd=beerrating_df['Rating'].std()\n",
    "print('The beerrating mean is %2f and the stad deviation is %2f ' %(beerrating_mean,beerrating_sd) )"
   ]
  },
  {
   "cell_type": "code",
   "execution_count": 6,
   "id": "75287cd1",
   "metadata": {},
   "outputs": [
    {
     "data": {
      "text/plain": [
       "<matplotlib.collections.LineCollection at 0x1c3f1760640>"
      ]
     },
     "execution_count": 6,
     "metadata": {},
     "output_type": "execute_result"
    },
    {
     "data": {
      "image/png": "[encoded data removed]",
      "text/plain": [
       "<Figure size 432x288 with 1 Axes>"
      ]
     },
     "metadata": {
      "needs_background": "light"
     },
     "output_type": "display_data"
    }
   ],
   "source": [
    "# let us draw  the population \n",
    "pop_rating=st.norm.rvs(loc=beerrating_mean,scale=beerrating_sd/math.sqrt(60),size=6000 )\n",
    "sns.kdeplot(pop_rating)\n",
    "plt.vlines(x=76,ymin=0,ymax=0.026,colors='r')"
   ]
  },
  {
   "cell_type": "markdown",
   "id": "0657b8ed",
   "metadata": {},
   "source": [
    "$$ Null Hypothesis: \\mu \\le 76$$\n",
    "$$ Alternate Hypotesis: \\mu > 76$$\n",
    "\n",
    "$$P(Sample Mean > 76 \\mid mean \\le 76)$$"
   ]
  },
  {
   "cell_type": "code",
   "execution_count": 7,
   "id": "5de6ddec",
   "metadata": {},
   "outputs": [
    {
     "name": "stdout",
     "output_type": "stream",
     "text": [
      "-4.403752319687284\n"
     ]
    }
   ],
   "source": [
    "z= (76-beerrating_mean)/math.sqrt(beerrating_sd/20)\n",
    "print(z)"
   ]
  },
  {
   "cell_type": "code",
   "execution_count": 8,
   "id": "9ac1734e",
   "metadata": {},
   "outputs": [
    {
     "name": "stdout",
     "output_type": "stream",
     "text": [
      "Calculated P-value is 0.000005 \n"
     ]
    }
   ],
   "source": [
    "p_val =st.norm.cdf(z)\n",
    "print('Calculated P-value is %3f ' % p_val)"
   ]
  },
  {
   "cell_type": "code",
   "execution_count": 9,
   "id": "c033286d",
   "metadata": {},
   "outputs": [],
   "source": [
    "# Q5 Since the the p value is very low , we may reject the \"Null Hypothesis\"\n",
    "# The 2 0 smaple  beer rating will have a scaore of higher than 76"
   ]
  },
  {
   "cell_type": "markdown",
   "id": "9fe08263",
   "metadata": {},
   "source": [
    " ## Q6 {Low calorie Drink Priference} ##"
   ]
  },
  {
   "cell_type": "code",
   "execution_count": 10,
   "id": "e373eeb7",
   "metadata": {},
   "outputs": [
    {
     "data": {
      "text/html": [
       "<div>\n",
       "<style scoped>\n",
       "    .dataframe tbody tr th:only-of-type {\n",
       "        vertical-align: middle;\n",
       "    }\n",
       "\n",
       "    .dataframe tbody tr th {\n",
       "        vertical-align: top;\n",
       "    }\n",
       "\n",
       "    .dataframe thead th {\n",
       "        text-align: right;\n",
       "    }\n",
       "</style>\n",
       "<table border=\"1\" class=\"dataframe\">\n",
       "  <thead>\n",
       "    <tr style=\"text-align: right;\">\n",
       "      <th></th>\n",
       "      <th>Consumer</th>\n",
       "      <th>Gender</th>\n",
       "      <th>Age</th>\n",
       "      <th>Preference</th>\n",
       "    </tr>\n",
       "  </thead>\n",
       "  <tbody>\n",
       "    <tr>\n",
       "      <th>208</th>\n",
       "      <td>209</td>\n",
       "      <td>M</td>\n",
       "      <td>Between 20 and 40</td>\n",
       "      <td>Competing brand</td>\n",
       "    </tr>\n",
       "    <tr>\n",
       "      <th>133</th>\n",
       "      <td>134</td>\n",
       "      <td>F</td>\n",
       "      <td>Between 20 and 40</td>\n",
       "      <td>Competing brand</td>\n",
       "    </tr>\n",
       "    <tr>\n",
       "      <th>38</th>\n",
       "      <td>39</td>\n",
       "      <td>F</td>\n",
       "      <td>Between 20 and 40</td>\n",
       "      <td>Competing brand</td>\n",
       "    </tr>\n",
       "    <tr>\n",
       "      <th>158</th>\n",
       "      <td>159</td>\n",
       "      <td>F</td>\n",
       "      <td>Over 60</td>\n",
       "      <td>Our brand</td>\n",
       "    </tr>\n",
       "    <tr>\n",
       "      <th>63</th>\n",
       "      <td>64</td>\n",
       "      <td>M</td>\n",
       "      <td>Between 40 and 60</td>\n",
       "      <td>Our brand</td>\n",
       "    </tr>\n",
       "    <tr>\n",
       "      <th>149</th>\n",
       "      <td>150</td>\n",
       "      <td>M</td>\n",
       "      <td>Over 60</td>\n",
       "      <td>Our brand</td>\n",
       "    </tr>\n",
       "    <tr>\n",
       "      <th>66</th>\n",
       "      <td>67</td>\n",
       "      <td>F</td>\n",
       "      <td>Between 40 and 60</td>\n",
       "      <td>Our brand</td>\n",
       "    </tr>\n",
       "    <tr>\n",
       "      <th>91</th>\n",
       "      <td>92</td>\n",
       "      <td>M</td>\n",
       "      <td>Between 20 and 40</td>\n",
       "      <td>Our brand</td>\n",
       "    </tr>\n",
       "    <tr>\n",
       "      <th>202</th>\n",
       "      <td>203</td>\n",
       "      <td>F</td>\n",
       "      <td>Over 60</td>\n",
       "      <td>Competing brand</td>\n",
       "    </tr>\n",
       "    <tr>\n",
       "      <th>71</th>\n",
       "      <td>72</td>\n",
       "      <td>M</td>\n",
       "      <td>Over 60</td>\n",
       "      <td>Competing brand</td>\n",
       "    </tr>\n",
       "  </tbody>\n",
       "</table>\n",
       "</div>"
      ],
      "text/plain": [
       "     Consumer Gender                Age       Preference\n",
       "208       209      M  Between 20 and 40  Competing brand\n",
       "133       134      F  Between 20 and 40  Competing brand\n",
       "38         39      F  Between 20 and 40  Competing brand\n",
       "158       159      F            Over 60        Our brand\n",
       "63         64      M  Between 40 and 60        Our brand\n",
       "149       150      M            Over 60        Our brand\n",
       "66         67      F  Between 40 and 60        Our brand\n",
       "91         92      M  Between 20 and 40        Our brand\n",
       "202       203      F            Over 60  Competing brand\n",
       "71         72      M            Over 60  Competing brand"
      ]
     },
     "execution_count": 10,
     "metadata": {},
     "output_type": "execute_result"
    }
   ],
   "source": [
    "drink_pref_df=pd.read_excel('Q6_LowcalorieDrink.xlsx')\n",
    "drink_pref_df.sample(10)"
   ]
  },
  {
   "cell_type": "code",
   "execution_count": 11,
   "id": "52d87f52",
   "metadata": {},
   "outputs": [
    {
     "name": "stdout",
     "output_type": "stream",
     "text": [
      "<class 'pandas.core.frame.DataFrame'>\n",
      "RangeIndex: 250 entries, 0 to 249\n",
      "Data columns (total 4 columns):\n",
      " #   Column      Non-Null Count  Dtype \n",
      "---  ------      --------------  ----- \n",
      " 0   Consumer    250 non-null    int64 \n",
      " 1   Gender      250 non-null    object\n",
      " 2   Age         250 non-null    object\n",
      " 3   Preference  250 non-null    object\n",
      "dtypes: int64(1), object(3)\n",
      "memory usage: 7.9+ KB\n"
     ]
    }
   ],
   "source": [
    "drink_pref_df.info()"
   ]
  },
  {
   "cell_type": "code",
   "execution_count": 12,
   "id": "82bef564",
   "metadata": {},
   "outputs": [],
   "source": [
    "drink_pref_df.set_index('Consumer',inplace=True)"
   ]
  },
  {
   "cell_type": "code",
   "execution_count": 13,
   "id": "e47d7458",
   "metadata": {},
   "outputs": [
    {
     "data": {
      "text/html": [
       "<div>\n",
       "<style scoped>\n",
       "    .dataframe tbody tr th:only-of-type {\n",
       "        vertical-align: middle;\n",
       "    }\n",
       "\n",
       "    .dataframe tbody tr th {\n",
       "        vertical-align: top;\n",
       "    }\n",
       "\n",
       "    .dataframe thead th {\n",
       "        text-align: right;\n",
       "    }\n",
       "</style>\n",
       "<table border=\"1\" class=\"dataframe\">\n",
       "  <thead>\n",
       "    <tr style=\"text-align: right;\">\n",
       "      <th></th>\n",
       "      <th>Gender</th>\n",
       "      <th>Age</th>\n",
       "      <th>Preference</th>\n",
       "    </tr>\n",
       "    <tr>\n",
       "      <th>Consumer</th>\n",
       "      <th></th>\n",
       "      <th></th>\n",
       "      <th></th>\n",
       "    </tr>\n",
       "  </thead>\n",
       "  <tbody>\n",
       "    <tr>\n",
       "      <th>1</th>\n",
       "      <td>F</td>\n",
       "      <td>Over 60</td>\n",
       "      <td>Our brand</td>\n",
       "    </tr>\n",
       "    <tr>\n",
       "      <th>2</th>\n",
       "      <td>F</td>\n",
       "      <td>Between 40 and 60</td>\n",
       "      <td>Our brand</td>\n",
       "    </tr>\n",
       "    <tr>\n",
       "      <th>3</th>\n",
       "      <td>M</td>\n",
       "      <td>Between 40 and 60</td>\n",
       "      <td>Our brand</td>\n",
       "    </tr>\n",
       "    <tr>\n",
       "      <th>4</th>\n",
       "      <td>F</td>\n",
       "      <td>Over 60</td>\n",
       "      <td>Competing brand</td>\n",
       "    </tr>\n",
       "    <tr>\n",
       "      <th>5</th>\n",
       "      <td>M</td>\n",
       "      <td>Between 20 and 40</td>\n",
       "      <td>Our brand</td>\n",
       "    </tr>\n",
       "  </tbody>\n",
       "</table>\n",
       "</div>"
      ],
      "text/plain": [
       "         Gender                Age       Preference\n",
       "Consumer                                           \n",
       "1             F            Over 60        Our brand\n",
       "2             F  Between 40 and 60        Our brand\n",
       "3             M  Between 40 and 60        Our brand\n",
       "4             F            Over 60  Competing brand\n",
       "5             M  Between 20 and 40        Our brand"
      ]
     },
     "execution_count": 13,
     "metadata": {},
     "output_type": "execute_result"
    }
   ],
   "source": [
    "drink_pref_df.head()"
   ]
  },
  {
   "cell_type": "code",
   "execution_count": 14,
   "id": "b74b3c8b",
   "metadata": {},
   "outputs": [
    {
     "data": {
      "text/html": [
       "<div>\n",
       "<style scoped>\n",
       "    .dataframe tbody tr th:only-of-type {\n",
       "        vertical-align: middle;\n",
       "    }\n",
       "\n",
       "    .dataframe tbody tr th {\n",
       "        vertical-align: top;\n",
       "    }\n",
       "\n",
       "    .dataframe thead tr th {\n",
       "        text-align: left;\n",
       "    }\n",
       "\n",
       "    .dataframe thead tr:last-of-type th {\n",
       "        text-align: right;\n",
       "    }\n",
       "</style>\n",
       "<table border=\"1\" class=\"dataframe\">\n",
       "  <thead>\n",
       "    <tr>\n",
       "      <th></th>\n",
       "      <th>Gender</th>\n",
       "      <th>Age</th>\n",
       "    </tr>\n",
       "    <tr>\n",
       "      <th></th>\n",
       "      <th>count</th>\n",
       "      <th>count</th>\n",
       "    </tr>\n",
       "    <tr>\n",
       "      <th>Preference</th>\n",
       "      <th></th>\n",
       "      <th></th>\n",
       "    </tr>\n",
       "  </thead>\n",
       "  <tbody>\n",
       "    <tr>\n",
       "      <th>Competing brand</th>\n",
       "      <td>116</td>\n",
       "      <td>116</td>\n",
       "    </tr>\n",
       "    <tr>\n",
       "      <th>Our brand</th>\n",
       "      <td>134</td>\n",
       "      <td>134</td>\n",
       "    </tr>\n",
       "  </tbody>\n",
       "</table>\n",
       "</div>"
      ],
      "text/plain": [
       "                Gender   Age\n",
       "                 count count\n",
       "Preference                  \n",
       "Competing brand    116   116\n",
       "Our brand          134   134"
      ]
     },
     "execution_count": 14,
     "metadata": {},
     "output_type": "execute_result"
    }
   ],
   "source": [
    "drink_pref_df.groupby('Preference').agg([\"count\"])"
   ]
  },
  {
   "cell_type": "code",
   "execution_count": 15,
   "id": "af0f2c5a",
   "metadata": {},
   "outputs": [
    {
     "name": "stdout",
     "output_type": "stream",
     "text": [
      "our brand preference in the sample is  46.000000 percent\n"
     ]
    }
   ],
   "source": [
    "per_ourbrand =116/250\n",
    "per_compbrand=134/250\n",
    "\n",
    "#assume poulation s choice for our brand will be normally distributed\n",
    "#P-hat +/- z_a/2*sqrt((p-hat*q-hat)/n)\n",
    "\n",
    "print('our brand preference in the sample is  %2f percent'%round(per_ourbrand*100))"
   ]
  },
  {
   "cell_type": "code",
   "execution_count": 16,
   "id": "07c11288",
   "metadata": {},
   "outputs": [
    {
     "data": {
      "text/plain": [
       "(0.5217819857239956, 0.3982180142760044)"
      ]
     },
     "execution_count": 16,
     "metadata": {},
     "output_type": "execute_result"
    }
   ],
   "source": [
    "(0.46+(1.96*math.sqrt(.46*.54/250)),0.46-(1.96*math.sqrt(.46*.54/250)))"
   ]
  },
  {
   "cell_type": "code",
   "execution_count": 17,
   "id": "5bea9cef",
   "metadata": {},
   "outputs": [],
   "source": [
    "# In the poulation the choice for our brand will be between 52% to 40% given 95 percent confidence level \n",
    "\n",
    "#b) The sample data does not provide information on geographies (urban / rural )- so asserattion is false.\n",
    "\n",
    "#C) sample is unnecessary large to judge brand preference"
   ]
  },
  {
   "cell_type": "markdown",
   "id": "1bbed9bd",
   "metadata": {},
   "source": [
    "## Questtion 7 ##"
   ]
  },
  {
   "cell_type": "code",
   "execution_count": 20,
   "id": "c9b7391f",
   "metadata": {},
   "outputs": [
    {
     "data": {
      "text/html": [
       "<div>\n",
       "<style scoped>\n",
       "    .dataframe tbody tr th:only-of-type {\n",
       "        vertical-align: middle;\n",
       "    }\n",
       "\n",
       "    .dataframe tbody tr th {\n",
       "        vertical-align: top;\n",
       "    }\n",
       "\n",
       "    .dataframe thead th {\n",
       "        text-align: right;\n",
       "    }\n",
       "</style>\n",
       "<table border=\"1\" class=\"dataframe\">\n",
       "  <thead>\n",
       "    <tr style=\"text-align: right;\">\n",
       "      <th></th>\n",
       "      <th>Lifetime</th>\n",
       "    </tr>\n",
       "    <tr>\n",
       "      <th>Battery</th>\n",
       "      <th></th>\n",
       "    </tr>\n",
       "  </thead>\n",
       "  <tbody>\n",
       "    <tr>\n",
       "      <th>62</th>\n",
       "      <td>102.31</td>\n",
       "    </tr>\n",
       "    <tr>\n",
       "      <th>25</th>\n",
       "      <td>99.84</td>\n",
       "    </tr>\n",
       "    <tr>\n",
       "      <th>69</th>\n",
       "      <td>98.75</td>\n",
       "    </tr>\n",
       "    <tr>\n",
       "      <th>76</th>\n",
       "      <td>98.26</td>\n",
       "    </tr>\n",
       "    <tr>\n",
       "      <th>33</th>\n",
       "      <td>99.69</td>\n",
       "    </tr>\n",
       "    <tr>\n",
       "      <th>81</th>\n",
       "      <td>101.26</td>\n",
       "    </tr>\n",
       "    <tr>\n",
       "      <th>20</th>\n",
       "      <td>102.58</td>\n",
       "    </tr>\n",
       "    <tr>\n",
       "      <th>24</th>\n",
       "      <td>96.23</td>\n",
       "    </tr>\n",
       "    <tr>\n",
       "      <th>18</th>\n",
       "      <td>102.48</td>\n",
       "    </tr>\n",
       "    <tr>\n",
       "      <th>39</th>\n",
       "      <td>99.87</td>\n",
       "    </tr>\n",
       "  </tbody>\n",
       "</table>\n",
       "</div>"
      ],
      "text/plain": [
       "         Lifetime\n",
       "Battery          \n",
       "62         102.31\n",
       "25          99.84\n",
       "69          98.75\n",
       "76          98.26\n",
       "33          99.69\n",
       "81         101.26\n",
       "20         102.58\n",
       "24          96.23\n",
       "18         102.48\n",
       "39          99.87"
      ]
     },
     "execution_count": 20,
     "metadata": {},
     "output_type": "execute_result"
    }
   ],
   "source": [
    "brand1_df=pd.read_excel('Q7_Battery_life.xlsx',sheet_name='Brand1',index_col='Battery')\n",
    "brand2_df=pd.read_excel('Q7_Battery_life.xlsx',sheet_name='Brand2',index_col='Battery')\n",
    "brand1_df.sample(10)"
   ]
  },
  {
   "cell_type": "code",
   "execution_count": 21,
   "id": "73fdc15e",
   "metadata": {},
   "outputs": [
    {
     "data": {
      "text/html": [
       "<div>\n",
       "<style scoped>\n",
       "    .dataframe tbody tr th:only-of-type {\n",
       "        vertical-align: middle;\n",
       "    }\n",
       "\n",
       "    .dataframe tbody tr th {\n",
       "        vertical-align: top;\n",
       "    }\n",
       "\n",
       "    .dataframe thead th {\n",
       "        text-align: right;\n",
       "    }\n",
       "</style>\n",
       "<table border=\"1\" class=\"dataframe\">\n",
       "  <thead>\n",
       "    <tr style=\"text-align: right;\">\n",
       "      <th></th>\n",
       "      <th>Lifetime</th>\n",
       "    </tr>\n",
       "    <tr>\n",
       "      <th>Battery</th>\n",
       "      <th></th>\n",
       "    </tr>\n",
       "  </thead>\n",
       "  <tbody>\n",
       "    <tr>\n",
       "      <th>57</th>\n",
       "      <td>103.97</td>\n",
       "    </tr>\n",
       "    <tr>\n",
       "      <th>83</th>\n",
       "      <td>102.46</td>\n",
       "    </tr>\n",
       "    <tr>\n",
       "      <th>64</th>\n",
       "      <td>99.62</td>\n",
       "    </tr>\n",
       "    <tr>\n",
       "      <th>92</th>\n",
       "      <td>89.44</td>\n",
       "    </tr>\n",
       "    <tr>\n",
       "      <th>72</th>\n",
       "      <td>97.37</td>\n",
       "    </tr>\n",
       "    <tr>\n",
       "      <th>98</th>\n",
       "      <td>101.32</td>\n",
       "    </tr>\n",
       "    <tr>\n",
       "      <th>87</th>\n",
       "      <td>96.92</td>\n",
       "    </tr>\n",
       "    <tr>\n",
       "      <th>10</th>\n",
       "      <td>96.87</td>\n",
       "    </tr>\n",
       "    <tr>\n",
       "      <th>56</th>\n",
       "      <td>103.68</td>\n",
       "    </tr>\n",
       "    <tr>\n",
       "      <th>78</th>\n",
       "      <td>92.43</td>\n",
       "    </tr>\n",
       "  </tbody>\n",
       "</table>\n",
       "</div>"
      ],
      "text/plain": [
       "         Lifetime\n",
       "Battery          \n",
       "57         103.97\n",
       "83         102.46\n",
       "64          99.62\n",
       "92          89.44\n",
       "72          97.37\n",
       "98         101.32\n",
       "87          96.92\n",
       "10          96.87\n",
       "56         103.68\n",
       "78          92.43"
      ]
     },
     "execution_count": 21,
     "metadata": {},
     "output_type": "execute_result"
    }
   ],
   "source": [
    "brand2_df.sample(10)"
   ]
  },
  {
   "cell_type": "code",
   "execution_count": 22,
   "id": "933e4ef3",
   "metadata": {},
   "outputs": [],
   "source": [
    "brand1_mean=brand1_df['Lifetime'].mean()\n",
    "brand1_sd=brand1_df['Lifetime'].std()\n",
    "brand2_mean=brand2_df['Lifetime'].mean()\n",
    "brand2_sd=brand2_df['Lifetime'].std()"
   ]
  },
  {
   "cell_type": "code",
   "execution_count": 23,
   "id": "f89ea77c",
   "metadata": {},
   "outputs": [
    {
     "name": "stdout",
     "output_type": "stream",
     "text": [
      "The brand1_battery mean is 100.089800 and the std deviation is 2.821051 \n",
      "The brand2_battery mean is 99.559400 and the std deviation is 6.306306 \n"
     ]
    }
   ],
   "source": [
    "print('The brand1_battery mean is %2f and the std deviation is %2f ' %(brand1_mean,brand1_sd) )\n",
    "print('The brand2_battery mean is %2f and the std deviation is %2f ' %(brand2_mean,brand2_sd) )"
   ]
  },
  {
   "cell_type": "code",
   "execution_count": 31,
   "id": "e76e7fa7",
   "metadata": {},
   "outputs": [],
   "source": [
    "brand1_df = brand1_df.rename(columns={'Lifetime': 'Lifetime_Brand1'})\n",
    "brand2_df = brand2_df.rename(columns={'Lifetime': 'Lifetime_Brand2'})"
   ]
  },
  {
   "cell_type": "code",
   "execution_count": 35,
   "id": "57f25f1a",
   "metadata": {},
   "outputs": [],
   "source": [
    "combined_df=pd.concat([brand1_df,brand2_df],axis=1)"
   ]
  },
  {
   "cell_type": "code",
   "execution_count": 38,
   "id": "9ec4c699",
   "metadata": {},
   "outputs": [
    {
     "data": {
      "text/html": [
       "<div>\n",
       "<style scoped>\n",
       "    .dataframe tbody tr th:only-of-type {\n",
       "        vertical-align: middle;\n",
       "    }\n",
       "\n",
       "    .dataframe tbody tr th {\n",
       "        vertical-align: top;\n",
       "    }\n",
       "\n",
       "    .dataframe thead th {\n",
       "        text-align: right;\n",
       "    }\n",
       "</style>\n",
       "<table border=\"1\" class=\"dataframe\">\n",
       "  <thead>\n",
       "    <tr style=\"text-align: right;\">\n",
       "      <th></th>\n",
       "      <th>Lifetime_Brand1</th>\n",
       "      <th>Lifetime_Brand2</th>\n",
       "    </tr>\n",
       "    <tr>\n",
       "      <th>Battery</th>\n",
       "      <th></th>\n",
       "      <th></th>\n",
       "    </tr>\n",
       "  </thead>\n",
       "  <tbody>\n",
       "    <tr>\n",
       "      <th>85</th>\n",
       "      <td>99.30</td>\n",
       "      <td>101.97</td>\n",
       "    </tr>\n",
       "    <tr>\n",
       "      <th>4</th>\n",
       "      <td>97.07</td>\n",
       "      <td>99.45</td>\n",
       "    </tr>\n",
       "    <tr>\n",
       "      <th>5</th>\n",
       "      <td>99.97</td>\n",
       "      <td>102.55</td>\n",
       "    </tr>\n",
       "    <tr>\n",
       "      <th>54</th>\n",
       "      <td>101.69</td>\n",
       "      <td>102.49</td>\n",
       "    </tr>\n",
       "    <tr>\n",
       "      <th>74</th>\n",
       "      <td>102.56</td>\n",
       "      <td>95.82</td>\n",
       "    </tr>\n",
       "  </tbody>\n",
       "</table>\n",
       "</div>"
      ],
      "text/plain": [
       "         Lifetime_Brand1  Lifetime_Brand2\n",
       "Battery                                  \n",
       "85                 99.30           101.97\n",
       "4                  97.07            99.45\n",
       "5                  99.97           102.55\n",
       "54                101.69           102.49\n",
       "74                102.56            95.82"
      ]
     },
     "execution_count": 38,
     "metadata": {},
     "output_type": "execute_result"
    }
   ],
   "source": [
    "combined_df.sample(5)"
   ]
  },
  {
   "cell_type": "code",
   "execution_count": 49,
   "id": "bd7985cf",
   "metadata": {},
   "outputs": [
    {
     "data": {
      "image/png": "[encoded data removed]",
      "text/plain": [
       "<Figure size 864x432 with 1 Axes>"
      ]
     },
     "metadata": {
      "needs_background": "light"
     },
     "output_type": "display_data"
    }
   ],
   "source": [
    "fig, ax = plt.subplots(figsize=(12, 6))\n",
    "sns.kdeplot(data=combined_df.Lifetime_Brand1,color='crimson', fill='true', ax=ax)\n",
    "sns.kdeplot(data=combined_df.Lifetime_Brand2,color='green', fill='true', ax=ax)\n",
    "plt.xlabel(\"Life in  Hrs\")\n",
    "plt.ylabel (\"Kernel/Probability Density\")\n",
    "plt.title(\"Density Histogram of Brands \")\n",
    "\n",
    "plt.tight_layout()\n",
    "plt.show()"
   ]
  },
  {
   "cell_type": "code",
   "execution_count": null,
   "id": "d1f67391",
   "metadata": {},
   "outputs": [],
   "source": [
    "# let us condider \n",
    "# Ha: mean brand1 > mean brand2\n",
    "\n",
    "#H0:  mean brand1 <=  mean brand2 \n",
    "\n",
    "#let us do a T test onboth distribution  and man whitney test \n"
   ]
  },
  {
   "cell_type": "code",
   "execution_count": 50,
   "id": "75e46c70",
   "metadata": {},
   "outputs": [
    {
     "name": "stdout",
     "output_type": "stream",
     "text": [
      "t-test: statistic=0.7677, p-value=0.4436\n"
     ]
    }
   ],
   "source": [
    "stat, p_value = st.ttest_ind(combined_df.Lifetime_Brand1, combined_df.Lifetime_Brand2)\n",
    "print(f\"t-test: statistic={stat:.4f}, p-value={p_value:.4f}\")"
   ]
  },
  {
   "cell_type": "code",
   "execution_count": 52,
   "id": "01380c2d",
   "metadata": {},
   "outputs": [
    {
     "name": "stdout",
     "output_type": "stream",
     "text": [
      " Mann–Whitney U Test: statistic=5244.0000, p-value=0.5519\n"
     ]
    }
   ],
   "source": [
    "stat, p_value = st.mannwhitneyu(combined_df.Lifetime_Brand1, combined_df.Lifetime_Brand2)\n",
    "print(f\" Mann–Whitney U Test: statistic={stat:.4f}, p-value={p_value:.4f}\")"
   ]
  },
  {
   "cell_type": "code",
   "execution_count": null,
   "id": "691a8af8",
   "metadata": {},
   "outputs": [],
   "source": [
    "# We found out both cases the p value is higher than 0.05 ; so we can not reject the NULL Hypthesis  "
   ]
  },
  {
   "cell_type": "code",
   "execution_count": null,
   "id": "aab49694",
   "metadata": {},
   "outputs": [],
   "source": [
    "st.chi2.ppf(1-.05, df=1)"
   ]
  },
  {
   "cell_type": "code",
   "execution_count": null,
   "id": "27289db3",
   "metadata": {},
   "outputs": [],
   "source": []
  }
 ],
 "metadata": {
  "kernelspec": {
   "display_name": "Python 3 (ipykernel)",
   "language": "python",
   "name": "python3"
  },
  "language_info": {
   "codemirror_mode": {
    "name": "ipython",
    "version": 3
   },
   "file_extension": ".py",
   "mimetype": "text/x-python",
   "name": "python",
   "nbconvert_exporter": "python",
   "pygments_lexer": "ipython3",
   "version": "3.8.13"
  }
 },
 "nbformat": 4,
 "nbformat_minor": 5
}
