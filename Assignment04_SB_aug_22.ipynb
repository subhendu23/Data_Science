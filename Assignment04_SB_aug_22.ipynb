{
 "cells": [
  {
   "cell_type": "markdown",
   "id": "1b398977",
   "metadata": {},
   "source": [
    "### Assignment 4 ###\n"
   ]
  },
  {
   "cell_type": "code",
   "execution_count": 98,
   "id": "dc40644a",
   "metadata": {},
   "outputs": [],
   "source": [
    "# Import required libraries \n",
    "import numpy as np\n",
    "import pandas as pd\n",
    "\n",
    "import math\n",
    "import scipy.stats as st\n",
    "import matplotlib.pyplot as plt\n",
    "import seaborn as sns\n"
   ]
  },
  {
   "cell_type": "code",
   "execution_count": 99,
   "id": "537f3eb1",
   "metadata": {},
   "outputs": [
    {
     "data": {
      "text/html": [
       "<div>\n",
       "<style scoped>\n",
       "    .dataframe tbody tr th:only-of-type {\n",
       "        vertical-align: middle;\n",
       "    }\n",
       "\n",
       "    .dataframe tbody tr th {\n",
       "        vertical-align: top;\n",
       "    }\n",
       "\n",
       "    .dataframe thead th {\n",
       "        text-align: right;\n",
       "    }\n",
       "</style>\n",
       "<table border=\"1\" class=\"dataframe\">\n",
       "  <thead>\n",
       "    <tr style=\"text-align: right;\">\n",
       "      <th></th>\n",
       "      <th>Person</th>\n",
       "      <th>Rating</th>\n",
       "    </tr>\n",
       "  </thead>\n",
       "  <tbody>\n",
       "    <tr>\n",
       "      <th>6</th>\n",
       "      <td>7</td>\n",
       "      <td>81</td>\n",
       "    </tr>\n",
       "    <tr>\n",
       "      <th>1</th>\n",
       "      <td>2</td>\n",
       "      <td>57</td>\n",
       "    </tr>\n",
       "    <tr>\n",
       "      <th>22</th>\n",
       "      <td>23</td>\n",
       "      <td>59</td>\n",
       "    </tr>\n",
       "    <tr>\n",
       "      <th>57</th>\n",
       "      <td>58</td>\n",
       "      <td>62</td>\n",
       "    </tr>\n",
       "    <tr>\n",
       "      <th>4</th>\n",
       "      <td>5</td>\n",
       "      <td>94</td>\n",
       "    </tr>\n",
       "    <tr>\n",
       "      <th>23</th>\n",
       "      <td>24</td>\n",
       "      <td>91</td>\n",
       "    </tr>\n",
       "    <tr>\n",
       "      <th>34</th>\n",
       "      <td>35</td>\n",
       "      <td>93</td>\n",
       "    </tr>\n",
       "    <tr>\n",
       "      <th>28</th>\n",
       "      <td>29</td>\n",
       "      <td>76</td>\n",
       "    </tr>\n",
       "    <tr>\n",
       "      <th>8</th>\n",
       "      <td>9</td>\n",
       "      <td>95</td>\n",
       "    </tr>\n",
       "    <tr>\n",
       "      <th>10</th>\n",
       "      <td>11</td>\n",
       "      <td>67</td>\n",
       "    </tr>\n",
       "  </tbody>\n",
       "</table>\n",
       "</div>"
      ],
      "text/plain": [
       "    Person  Rating\n",
       "6        7      81\n",
       "1        2      57\n",
       "22      23      59\n",
       "57      58      62\n",
       "4        5      94\n",
       "23      24      91\n",
       "34      35      93\n",
       "28      29      76\n",
       "8        9      95\n",
       "10      11      67"
      ]
     },
     "execution_count": 99,
     "metadata": {},
     "output_type": "execute_result"
    }
   ],
   "source": [
    "# Q5_ read the beer file \n",
    "beerrating_df=pd.read_excel('Q5_Beer_Taste.xlsx')\n",
    "\n",
    "beerrating_df.sample(10)"
   ]
  },
  {
   "cell_type": "code",
   "execution_count": 100,
   "id": "d323cc8e",
   "metadata": {},
   "outputs": [
    {
     "name": "stdout",
     "output_type": "stream",
     "text": [
      "<class 'pandas.core.frame.DataFrame'>\n",
      "Int64Index: 60 entries, 1 to 60\n",
      "Data columns (total 1 columns):\n",
      " #   Column  Non-Null Count  Dtype\n",
      "---  ------  --------------  -----\n",
      " 0   Rating  60 non-null     int64\n",
      "dtypes: int64(1)\n",
      "memory usage: 960.0 bytes\n"
     ]
    }
   ],
   "source": [
    "#Q5 Check Data Quality\n",
    "beerrating_df.set_index('Person', inplace=True )\n",
    "beerrating_df.info()"
   ]
  },
  {
   "cell_type": "code",
   "execution_count": 101,
   "id": "008390dd",
   "metadata": {},
   "outputs": [
    {
     "data": {
      "text/html": [
       "<div>\n",
       "<style scoped>\n",
       "    .dataframe tbody tr th:only-of-type {\n",
       "        vertical-align: middle;\n",
       "    }\n",
       "\n",
       "    .dataframe tbody tr th {\n",
       "        vertical-align: top;\n",
       "    }\n",
       "\n",
       "    .dataframe thead th {\n",
       "        text-align: right;\n",
       "    }\n",
       "</style>\n",
       "<table border=\"1\" class=\"dataframe\">\n",
       "  <thead>\n",
       "    <tr style=\"text-align: right;\">\n",
       "      <th></th>\n",
       "      <th>Rating</th>\n",
       "    </tr>\n",
       "    <tr>\n",
       "      <th>Person</th>\n",
       "      <th></th>\n",
       "    </tr>\n",
       "  </thead>\n",
       "  <tbody>\n",
       "    <tr>\n",
       "      <th>14</th>\n",
       "      <td>58</td>\n",
       "    </tr>\n",
       "    <tr>\n",
       "      <th>49</th>\n",
       "      <td>91</td>\n",
       "    </tr>\n",
       "    <tr>\n",
       "      <th>7</th>\n",
       "      <td>81</td>\n",
       "    </tr>\n",
       "    <tr>\n",
       "      <th>10</th>\n",
       "      <td>82</td>\n",
       "    </tr>\n",
       "    <tr>\n",
       "      <th>45</th>\n",
       "      <td>90</td>\n",
       "    </tr>\n",
       "  </tbody>\n",
       "</table>\n",
       "</div>"
      ],
      "text/plain": [
       "        Rating\n",
       "Person        \n",
       "14          58\n",
       "49          91\n",
       "7           81\n",
       "10          82\n",
       "45          90"
      ]
     },
     "execution_count": 101,
     "metadata": {},
     "output_type": "execute_result"
    }
   ],
   "source": [
    "beerrating_df.sample(5)"
   ]
  },
  {
   "cell_type": "code",
   "execution_count": 102,
   "id": "63d714cf",
   "metadata": {},
   "outputs": [
    {
     "name": "stdout",
     "output_type": "stream",
     "text": [
      "The beerrating mean is 79.750000 and the stad deviation is 14.502630 \n"
     ]
    }
   ],
   "source": [
    "beerrating_mean=beerrating_df['Rating'].mean()\n",
    "beerrating_sd=beerrating_df['Rating'].std()\n",
    "print('The beerrating mean is %2f and the stad deviation is %2f ' %(beerrating_mean,beerrating_sd) )"
   ]
  },
  {
   "cell_type": "code",
   "execution_count": 103,
   "id": "75287cd1",
   "metadata": {},
   "outputs": [
    {
     "data": {
      "text/plain": [
       "<matplotlib.collections.LineCollection at 0x29a897cd280>"
      ]
     },
     "execution_count": 103,
     "metadata": {},
     "output_type": "execute_result"
    },
    {
     "data": {
      "image/png": "[encoded data removed]",
      "text/plain": [
       "<Figure size 432x288 with 1 Axes>"
      ]
     },
     "metadata": {
      "needs_background": "light"
     },
     "output_type": "display_data"
    }
   ],
   "source": [
    "# let us draw  the population \n",
    "pop_rating=st.norm.rvs(loc=beerrating_mean,scale=beerrating_sd/math.sqrt(60),size=6000 )\n",
    "sns.kdeplot(pop_rating)\n",
    "plt.vlines(x=76,ymin=0,ymax=0.026,colors='r')"
   ]
  },
  {
   "cell_type": "markdown",
   "id": "0657b8ed",
   "metadata": {},
   "source": [
    "$$ Null Hypothesis: \\mu \\le 76$$\n",
    "$$ Alternate Hypotesis: \\mu > 76$$\n",
    "\n",
    "$$P(Sample Mean > 76 \\mid mean \\le 76)$$"
   ]
  },
  {
   "cell_type": "code",
   "execution_count": 104,
   "id": "5de6ddec",
   "metadata": {},
   "outputs": [
    {
     "name": "stdout",
     "output_type": "stream",
     "text": [
      "-4.403752319687284\n"
     ]
    }
   ],
   "source": [
    "z= (76-beerrating_mean)/math.sqrt(beerrating_sd/20)\n",
    "print(z)"
   ]
  },
  {
   "cell_type": "code",
   "execution_count": 105,
   "id": "9ac1734e",
   "metadata": {},
   "outputs": [
    {
     "name": "stdout",
     "output_type": "stream",
     "text": [
      "Calculated P-value is 0.000005 \n"
     ]
    }
   ],
   "source": [
    "p_val =st.norm.cdf(z)\n",
    "print('Calculated P-value is %3f ' % p_val)"
   ]
  },
  {
   "cell_type": "code",
   "execution_count": 106,
   "id": "c033286d",
   "metadata": {},
   "outputs": [],
   "source": [
    "# Q5 Since the the p value is very low , we may reject the \"Null Hypothesis\"\n",
    "# The 2 0 smaple  beer rating will have a scaore of higher than 76"
   ]
  },
  {
   "cell_type": "markdown",
   "id": "9fe08263",
   "metadata": {},
   "source": [
    " ## Q6 {Low calorie Drink Priference} ##"
   ]
  },
  {
   "cell_type": "code",
   "execution_count": 40,
   "id": "e373eeb7",
   "metadata": {},
   "outputs": [
    {
     "data": {
      "text/html": [
       "<div>\n",
       "<style scoped>\n",
       "    .dataframe tbody tr th:only-of-type {\n",
       "        vertical-align: middle;\n",
       "    }\n",
       "\n",
       "    .dataframe tbody tr th {\n",
       "        vertical-align: top;\n",
       "    }\n",
       "\n",
       "    .dataframe thead th {\n",
       "        text-align: right;\n",
       "    }\n",
       "</style>\n",
       "<table border=\"1\" class=\"dataframe\">\n",
       "  <thead>\n",
       "    <tr style=\"text-align: right;\">\n",
       "      <th></th>\n",
       "      <th>Consumer</th>\n",
       "      <th>Gender</th>\n",
       "      <th>Age</th>\n",
       "      <th>Preference</th>\n",
       "    </tr>\n",
       "  </thead>\n",
       "  <tbody>\n",
       "    <tr>\n",
       "      <th>59</th>\n",
       "      <td>60</td>\n",
       "      <td>M</td>\n",
       "      <td>Over 60</td>\n",
       "      <td>Our brand</td>\n",
       "    </tr>\n",
       "    <tr>\n",
       "      <th>146</th>\n",
       "      <td>147</td>\n",
       "      <td>M</td>\n",
       "      <td>Between 20 and 40</td>\n",
       "      <td>Competing brand</td>\n",
       "    </tr>\n",
       "    <tr>\n",
       "      <th>128</th>\n",
       "      <td>129</td>\n",
       "      <td>F</td>\n",
       "      <td>Between 40 and 60</td>\n",
       "      <td>Our brand</td>\n",
       "    </tr>\n",
       "    <tr>\n",
       "      <th>83</th>\n",
       "      <td>84</td>\n",
       "      <td>F</td>\n",
       "      <td>Between 20 and 40</td>\n",
       "      <td>Our brand</td>\n",
       "    </tr>\n",
       "    <tr>\n",
       "      <th>143</th>\n",
       "      <td>144</td>\n",
       "      <td>F</td>\n",
       "      <td>Between 20 and 40</td>\n",
       "      <td>Competing brand</td>\n",
       "    </tr>\n",
       "    <tr>\n",
       "      <th>82</th>\n",
       "      <td>83</td>\n",
       "      <td>F</td>\n",
       "      <td>Between 40 and 60</td>\n",
       "      <td>Our brand</td>\n",
       "    </tr>\n",
       "    <tr>\n",
       "      <th>41</th>\n",
       "      <td>42</td>\n",
       "      <td>M</td>\n",
       "      <td>Less than 20</td>\n",
       "      <td>Our brand</td>\n",
       "    </tr>\n",
       "    <tr>\n",
       "      <th>247</th>\n",
       "      <td>248</td>\n",
       "      <td>F</td>\n",
       "      <td>Between 40 and 60</td>\n",
       "      <td>Our brand</td>\n",
       "    </tr>\n",
       "    <tr>\n",
       "      <th>199</th>\n",
       "      <td>200</td>\n",
       "      <td>F</td>\n",
       "      <td>Between 20 and 40</td>\n",
       "      <td>Our brand</td>\n",
       "    </tr>\n",
       "    <tr>\n",
       "      <th>173</th>\n",
       "      <td>174</td>\n",
       "      <td>M</td>\n",
       "      <td>Less than 20</td>\n",
       "      <td>Competing brand</td>\n",
       "    </tr>\n",
       "  </tbody>\n",
       "</table>\n",
       "</div>"
      ],
      "text/plain": [
       "     Consumer Gender                Age       Preference\n",
       "59         60      M            Over 60        Our brand\n",
       "146       147      M  Between 20 and 40  Competing brand\n",
       "128       129      F  Between 40 and 60        Our brand\n",
       "83         84      F  Between 20 and 40        Our brand\n",
       "143       144      F  Between 20 and 40  Competing brand\n",
       "82         83      F  Between 40 and 60        Our brand\n",
       "41         42      M       Less than 20        Our brand\n",
       "247       248      F  Between 40 and 60        Our brand\n",
       "199       200      F  Between 20 and 40        Our brand\n",
       "173       174      M       Less than 20  Competing brand"
      ]
     },
     "execution_count": 40,
     "metadata": {},
     "output_type": "execute_result"
    }
   ],
   "source": [
    "drink_pref_df=pd.read_excel('Q6_LowcalorieDrink.xlsx')\n",
    "drink_pref_df.sample(10)"
   ]
  },
  {
   "cell_type": "code",
   "execution_count": 41,
   "id": "52d87f52",
   "metadata": {},
   "outputs": [
    {
     "name": "stdout",
     "output_type": "stream",
     "text": [
      "<class 'pandas.core.frame.DataFrame'>\n",
      "RangeIndex: 250 entries, 0 to 249\n",
      "Data columns (total 4 columns):\n",
      " #   Column      Non-Null Count  Dtype \n",
      "---  ------      --------------  ----- \n",
      " 0   Consumer    250 non-null    int64 \n",
      " 1   Gender      250 non-null    object\n",
      " 2   Age         250 non-null    object\n",
      " 3   Preference  250 non-null    object\n",
      "dtypes: int64(1), object(3)\n",
      "memory usage: 7.9+ KB\n"
     ]
    }
   ],
   "source": [
    "drink_pref_df.info()"
   ]
  },
  {
   "cell_type": "code",
   "execution_count": 42,
   "id": "82bef564",
   "metadata": {},
   "outputs": [],
   "source": [
    "drink_pref_df.set_index('Consumer',inplace=True)"
   ]
  },
  {
   "cell_type": "code",
   "execution_count": 43,
   "id": "e47d7458",
   "metadata": {},
   "outputs": [
    {
     "data": {
      "text/html": [
       "<div>\n",
       "<style scoped>\n",
       "    .dataframe tbody tr th:only-of-type {\n",
       "        vertical-align: middle;\n",
       "    }\n",
       "\n",
       "    .dataframe tbody tr th {\n",
       "        vertical-align: top;\n",
       "    }\n",
       "\n",
       "    .dataframe thead th {\n",
       "        text-align: right;\n",
       "    }\n",
       "</style>\n",
       "<table border=\"1\" class=\"dataframe\">\n",
       "  <thead>\n",
       "    <tr style=\"text-align: right;\">\n",
       "      <th></th>\n",
       "      <th>Gender</th>\n",
       "      <th>Age</th>\n",
       "      <th>Preference</th>\n",
       "    </tr>\n",
       "    <tr>\n",
       "      <th>Consumer</th>\n",
       "      <th></th>\n",
       "      <th></th>\n",
       "      <th></th>\n",
       "    </tr>\n",
       "  </thead>\n",
       "  <tbody>\n",
       "    <tr>\n",
       "      <th>1</th>\n",
       "      <td>F</td>\n",
       "      <td>Over 60</td>\n",
       "      <td>Our brand</td>\n",
       "    </tr>\n",
       "    <tr>\n",
       "      <th>2</th>\n",
       "      <td>F</td>\n",
       "      <td>Between 40 and 60</td>\n",
       "      <td>Our brand</td>\n",
       "    </tr>\n",
       "    <tr>\n",
       "      <th>3</th>\n",
       "      <td>M</td>\n",
       "      <td>Between 40 and 60</td>\n",
       "      <td>Our brand</td>\n",
       "    </tr>\n",
       "    <tr>\n",
       "      <th>4</th>\n",
       "      <td>F</td>\n",
       "      <td>Over 60</td>\n",
       "      <td>Competing brand</td>\n",
       "    </tr>\n",
       "    <tr>\n",
       "      <th>5</th>\n",
       "      <td>M</td>\n",
       "      <td>Between 20 and 40</td>\n",
       "      <td>Our brand</td>\n",
       "    </tr>\n",
       "  </tbody>\n",
       "</table>\n",
       "</div>"
      ],
      "text/plain": [
       "         Gender                Age       Preference\n",
       "Consumer                                           \n",
       "1             F            Over 60        Our brand\n",
       "2             F  Between 40 and 60        Our brand\n",
       "3             M  Between 40 and 60        Our brand\n",
       "4             F            Over 60  Competing brand\n",
       "5             M  Between 20 and 40        Our brand"
      ]
     },
     "execution_count": 43,
     "metadata": {},
     "output_type": "execute_result"
    }
   ],
   "source": [
    "drink_pref_df.head()"
   ]
  },
  {
   "cell_type": "code",
   "execution_count": 57,
   "id": "b74b3c8b",
   "metadata": {},
   "outputs": [
    {
     "data": {
      "text/html": [
       "<div>\n",
       "<style scoped>\n",
       "    .dataframe tbody tr th:only-of-type {\n",
       "        vertical-align: middle;\n",
       "    }\n",
       "\n",
       "    .dataframe tbody tr th {\n",
       "        vertical-align: top;\n",
       "    }\n",
       "\n",
       "    .dataframe thead tr th {\n",
       "        text-align: left;\n",
       "    }\n",
       "\n",
       "    .dataframe thead tr:last-of-type th {\n",
       "        text-align: right;\n",
       "    }\n",
       "</style>\n",
       "<table border=\"1\" class=\"dataframe\">\n",
       "  <thead>\n",
       "    <tr>\n",
       "      <th></th>\n",
       "      <th>Gender</th>\n",
       "      <th>Age</th>\n",
       "    </tr>\n",
       "    <tr>\n",
       "      <th></th>\n",
       "      <th>count</th>\n",
       "      <th>count</th>\n",
       "    </tr>\n",
       "    <tr>\n",
       "      <th>Preference</th>\n",
       "      <th></th>\n",
       "      <th></th>\n",
       "    </tr>\n",
       "  </thead>\n",
       "  <tbody>\n",
       "    <tr>\n",
       "      <th>Competing brand</th>\n",
       "      <td>116</td>\n",
       "      <td>116</td>\n",
       "    </tr>\n",
       "    <tr>\n",
       "      <th>Our brand</th>\n",
       "      <td>134</td>\n",
       "      <td>134</td>\n",
       "    </tr>\n",
       "  </tbody>\n",
       "</table>\n",
       "</div>"
      ],
      "text/plain": [
       "                Gender   Age\n",
       "                 count count\n",
       "Preference                  \n",
       "Competing brand    116   116\n",
       "Our brand          134   134"
      ]
     },
     "execution_count": 57,
     "metadata": {},
     "output_type": "execute_result"
    }
   ],
   "source": [
    "drink_pref_df.groupby('Preference').agg([\"count\"])"
   ]
  },
  {
   "cell_type": "code",
   "execution_count": 64,
   "id": "af0f2c5a",
   "metadata": {},
   "outputs": [
    {
     "name": "stdout",
     "output_type": "stream",
     "text": [
      "our brand preference in the sample is  46.000000 percent\n"
     ]
    }
   ],
   "source": [
    "per_ourbrand =116/250\n",
    "per_compbrand=134/250\n",
    "\n",
    "#assume poulation s choice for our brand will be normally distributed\n",
    "#P-hat +/- z_a/2*sqrt((p-hat*q-hat)/n)\n",
    "\n",
    "print('our brand preference in the sample is  %2f percent'%round(per_ourbrand*100))"
   ]
  },
  {
   "cell_type": "code",
   "execution_count": 62,
   "id": "07c11288",
   "metadata": {},
   "outputs": [
    {
     "data": {
      "text/plain": [
       "(0.5217819857239956, 0.3982180142760044)"
      ]
     },
     "execution_count": 62,
     "metadata": {},
     "output_type": "execute_result"
    }
   ],
   "source": [
    "(0.46+(1.96*math.sqrt(.46*.54/250)),0.46-(1.96*math.sqrt(.46*.54/250)))"
   ]
  },
  {
   "cell_type": "code",
   "execution_count": 66,
   "id": "5bea9cef",
   "metadata": {},
   "outputs": [],
   "source": [
    "# In the poulation the choice for our brand will be between 52% to 40% given 95 percent confidence level \n",
    "\n",
    "#b) The sample data does not provide information on geographies (urban / rural )- so asserattion is false.\n",
    "\n",
    "#C) sample is unnecessary large to judge brand preference"
   ]
  },
  {
   "cell_type": "markdown",
   "id": "1bbed9bd",
   "metadata": {},
   "source": [
    "## Questtion 7 ##"
   ]
  },
  {
   "cell_type": "code",
   "execution_count": 71,
   "id": "c9b7391f",
   "metadata": {},
   "outputs": [
    {
     "data": {
      "text/html": [
       "<div>\n",
       "<style scoped>\n",
       "    .dataframe tbody tr th:only-of-type {\n",
       "        vertical-align: middle;\n",
       "    }\n",
       "\n",
       "    .dataframe tbody tr th {\n",
       "        vertical-align: top;\n",
       "    }\n",
       "\n",
       "    .dataframe thead th {\n",
       "        text-align: right;\n",
       "    }\n",
       "</style>\n",
       "<table border=\"1\" class=\"dataframe\">\n",
       "  <thead>\n",
       "    <tr style=\"text-align: right;\">\n",
       "      <th></th>\n",
       "      <th>Battery</th>\n",
       "      <th>Lifetime</th>\n",
       "    </tr>\n",
       "  </thead>\n",
       "  <tbody>\n",
       "    <tr>\n",
       "      <th>64</th>\n",
       "      <td>65</td>\n",
       "      <td>99.00</td>\n",
       "    </tr>\n",
       "    <tr>\n",
       "      <th>67</th>\n",
       "      <td>68</td>\n",
       "      <td>99.03</td>\n",
       "    </tr>\n",
       "    <tr>\n",
       "      <th>69</th>\n",
       "      <td>70</td>\n",
       "      <td>94.80</td>\n",
       "    </tr>\n",
       "    <tr>\n",
       "      <th>1</th>\n",
       "      <td>2</td>\n",
       "      <td>99.45</td>\n",
       "    </tr>\n",
       "    <tr>\n",
       "      <th>13</th>\n",
       "      <td>14</td>\n",
       "      <td>100.39</td>\n",
       "    </tr>\n",
       "    <tr>\n",
       "      <th>92</th>\n",
       "      <td>93</td>\n",
       "      <td>98.99</td>\n",
       "    </tr>\n",
       "    <tr>\n",
       "      <th>82</th>\n",
       "      <td>83</td>\n",
       "      <td>106.71</td>\n",
       "    </tr>\n",
       "    <tr>\n",
       "      <th>89</th>\n",
       "      <td>90</td>\n",
       "      <td>101.17</td>\n",
       "    </tr>\n",
       "    <tr>\n",
       "      <th>77</th>\n",
       "      <td>78</td>\n",
       "      <td>100.65</td>\n",
       "    </tr>\n",
       "    <tr>\n",
       "      <th>12</th>\n",
       "      <td>13</td>\n",
       "      <td>101.23</td>\n",
       "    </tr>\n",
       "  </tbody>\n",
       "</table>\n",
       "</div>"
      ],
      "text/plain": [
       "    Battery  Lifetime\n",
       "64       65     99.00\n",
       "67       68     99.03\n",
       "69       70     94.80\n",
       "1         2     99.45\n",
       "13       14    100.39\n",
       "92       93     98.99\n",
       "82       83    106.71\n",
       "89       90    101.17\n",
       "77       78    100.65\n",
       "12       13    101.23"
      ]
     },
     "execution_count": 71,
     "metadata": {},
     "output_type": "execute_result"
    }
   ],
   "source": [
    "battery_df=pd.read_csv('Q7_Battery_life.csv')\n",
    "battery_df.sample(10)"
   ]
  },
  {
   "cell_type": "code",
   "execution_count": 72,
   "id": "8e735060",
   "metadata": {},
   "outputs": [],
   "source": [
    "battery_df.set_index('Battery',inplace=True)"
   ]
  },
  {
   "cell_type": "code",
   "execution_count": 73,
   "id": "31789563",
   "metadata": {},
   "outputs": [
    {
     "name": "stdout",
     "output_type": "stream",
     "text": [
      "<class 'pandas.core.frame.DataFrame'>\n",
      "Int64Index: 100 entries, 1 to 100\n",
      "Data columns (total 1 columns):\n",
      " #   Column    Non-Null Count  Dtype  \n",
      "---  ------    --------------  -----  \n",
      " 0   Lifetime  100 non-null    float64\n",
      "dtypes: float64(1)\n",
      "memory usage: 1.6 KB\n"
     ]
    }
   ],
   "source": [
    "battery_df.info()"
   ]
  },
  {
   "cell_type": "code",
   "execution_count": 75,
   "id": "d042a20c",
   "metadata": {},
   "outputs": [
    {
     "data": {
      "text/html": [
       "<div>\n",
       "<style scoped>\n",
       "    .dataframe tbody tr th:only-of-type {\n",
       "        vertical-align: middle;\n",
       "    }\n",
       "\n",
       "    .dataframe tbody tr th {\n",
       "        vertical-align: top;\n",
       "    }\n",
       "\n",
       "    .dataframe thead th {\n",
       "        text-align: right;\n",
       "    }\n",
       "</style>\n",
       "<table border=\"1\" class=\"dataframe\">\n",
       "  <thead>\n",
       "    <tr style=\"text-align: right;\">\n",
       "      <th></th>\n",
       "      <th>Lifetime</th>\n",
       "    </tr>\n",
       "    <tr>\n",
       "      <th>Battery</th>\n",
       "      <th></th>\n",
       "    </tr>\n",
       "  </thead>\n",
       "  <tbody>\n",
       "    <tr>\n",
       "      <th>86</th>\n",
       "      <td>103.74</td>\n",
       "    </tr>\n",
       "    <tr>\n",
       "      <th>23</th>\n",
       "      <td>103.91</td>\n",
       "    </tr>\n",
       "    <tr>\n",
       "      <th>42</th>\n",
       "      <td>102.67</td>\n",
       "    </tr>\n",
       "    <tr>\n",
       "      <th>11</th>\n",
       "      <td>96.98</td>\n",
       "    </tr>\n",
       "    <tr>\n",
       "      <th>29</th>\n",
       "      <td>99.51</td>\n",
       "    </tr>\n",
       "  </tbody>\n",
       "</table>\n",
       "</div>"
      ],
      "text/plain": [
       "         Lifetime\n",
       "Battery          \n",
       "86         103.74\n",
       "23         103.91\n",
       "42         102.67\n",
       "11          96.98\n",
       "29          99.51"
      ]
     },
     "execution_count": 75,
     "metadata": {},
     "output_type": "execute_result"
    }
   ],
   "source": [
    "battery_df.sample(5)"
   ]
  },
  {
   "cell_type": "code",
   "execution_count": 97,
   "id": "fd4a7f82",
   "metadata": {},
   "outputs": [
    {
     "name": "stdout",
     "output_type": "stream",
     "text": [
      "battery life mean = 100.090 and Standard Deviation = 2.821 \n"
     ]
    }
   ],
   "source": [
    "battery_mean=battery_df['Lifetime'].mean()\n",
    "battery_sd=battery_df['Lifetime'].std()\n",
    "print('battery life mean = %.3f and Standard Deviation = %.3f '% (battery_mean, battery_sd))"
   ]
  },
  {
   "cell_type": "code",
   "execution_count": 109,
   "id": "aab49694",
   "metadata": {},
   "outputs": [
    {
     "data": {
      "text/plain": [
       "19.67513757268249"
      ]
     },
     "execution_count": 109,
     "metadata": {},
     "output_type": "execute_result"
    }
   ],
   "source": [
    "st.chi2.ppf(1-.05, df=11)"
   ]
  },
  {
   "cell_type": "code",
   "execution_count": null,
   "id": "27289db3",
   "metadata": {},
   "outputs": [],
   "source": []
  }
 ],
 "metadata": {
  "kernelspec": {
   "display_name": "Python 3 (ipykernel)",
   "language": "python",
   "name": "python3"
  },
  "language_info": {
   "codemirror_mode": {
    "name": "ipython",
    "version": 3
   },
   "file_extension": ".py",
   "mimetype": "text/x-python",
   "name": "python",
   "nbconvert_exporter": "python",
   "pygments_lexer": "ipython3",
   "version": "3.8.13"
  }
 },
 "nbformat": 4,
 "nbformat_minor": 5
}
