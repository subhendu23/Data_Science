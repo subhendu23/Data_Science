{
 "cells": [
  {
   "cell_type": "markdown",
   "id": "1b398977",
   "metadata": {},
   "source": [
    "### Assignment 4 ###\n"
   ]
  },
  {
   "cell_type": "code",
   "execution_count": 1,
   "id": "dc40644a",
   "metadata": {},
   "outputs": [],
   "source": [
    "# Import required libraries \n",
    "import numpy as np\n",
    "import pandas as pd\n",
    "\n",
    "import math\n",
    "import scipy.stats as st\n",
    "import matplotlib.pyplot as plt\n",
    "import seaborn as sns\n"
   ]
  },
  {
   "cell_type": "code",
   "execution_count": 32,
   "id": "537f3eb1",
   "metadata": {},
   "outputs": [
    {
     "data": {
      "text/html": [
       "<div>\n",
       "<style scoped>\n",
       "    .dataframe tbody tr th:only-of-type {\n",
       "        vertical-align: middle;\n",
       "    }\n",
       "\n",
       "    .dataframe tbody tr th {\n",
       "        vertical-align: top;\n",
       "    }\n",
       "\n",
       "    .dataframe thead th {\n",
       "        text-align: right;\n",
       "    }\n",
       "</style>\n",
       "<table border=\"1\" class=\"dataframe\">\n",
       "  <thead>\n",
       "    <tr style=\"text-align: right;\">\n",
       "      <th></th>\n",
       "      <th>Person</th>\n",
       "      <th>Rating</th>\n",
       "    </tr>\n",
       "  </thead>\n",
       "  <tbody>\n",
       "    <tr>\n",
       "      <th>12</th>\n",
       "      <td>13</td>\n",
       "      <td>74</td>\n",
       "    </tr>\n",
       "    <tr>\n",
       "      <th>16</th>\n",
       "      <td>17</td>\n",
       "      <td>100</td>\n",
       "    </tr>\n",
       "    <tr>\n",
       "      <th>10</th>\n",
       "      <td>11</td>\n",
       "      <td>67</td>\n",
       "    </tr>\n",
       "    <tr>\n",
       "      <th>1</th>\n",
       "      <td>2</td>\n",
       "      <td>57</td>\n",
       "    </tr>\n",
       "    <tr>\n",
       "      <th>24</th>\n",
       "      <td>25</td>\n",
       "      <td>72</td>\n",
       "    </tr>\n",
       "    <tr>\n",
       "      <th>37</th>\n",
       "      <td>38</td>\n",
       "      <td>49</td>\n",
       "    </tr>\n",
       "    <tr>\n",
       "      <th>49</th>\n",
       "      <td>50</td>\n",
       "      <td>73</td>\n",
       "    </tr>\n",
       "    <tr>\n",
       "      <th>32</th>\n",
       "      <td>33</td>\n",
       "      <td>48</td>\n",
       "    </tr>\n",
       "    <tr>\n",
       "      <th>46</th>\n",
       "      <td>47</td>\n",
       "      <td>72</td>\n",
       "    </tr>\n",
       "    <tr>\n",
       "      <th>28</th>\n",
       "      <td>29</td>\n",
       "      <td>76</td>\n",
       "    </tr>\n",
       "  </tbody>\n",
       "</table>\n",
       "</div>"
      ],
      "text/plain": [
       "    Person  Rating\n",
       "12      13      74\n",
       "16      17     100\n",
       "10      11      67\n",
       "1        2      57\n",
       "24      25      72\n",
       "37      38      49\n",
       "49      50      73\n",
       "32      33      48\n",
       "46      47      72\n",
       "28      29      76"
      ]
     },
     "execution_count": 32,
     "metadata": {},
     "output_type": "execute_result"
    }
   ],
   "source": [
    "# Q5_ read the beer file \n",
    "beerrating_sample_df=pd.read_excel('Q5_Beer_Taste.xlsx')\n",
    "\n",
    "beerrating_sample_df.sample(10)"
   ]
  },
  {
   "cell_type": "code",
   "execution_count": 33,
   "id": "d323cc8e",
   "metadata": {},
   "outputs": [
    {
     "name": "stdout",
     "output_type": "stream",
     "text": [
      "<class 'pandas.core.frame.DataFrame'>\n",
      "Int64Index: 60 entries, 1 to 60\n",
      "Data columns (total 1 columns):\n",
      " #   Column  Non-Null Count  Dtype\n",
      "---  ------  --------------  -----\n",
      " 0   Rating  60 non-null     int64\n",
      "dtypes: int64(1)\n",
      "memory usage: 960.0 bytes\n"
     ]
    }
   ],
   "source": [
    "#Q5 Check Data Quality\n",
    "beerrating_sample_df.set_index('Person', inplace=True )\n",
    "beerrating_sample_df.info()"
   ]
  },
  {
   "cell_type": "code",
   "execution_count": 34,
   "id": "008390dd",
   "metadata": {},
   "outputs": [
    {
     "data": {
      "text/html": [
       "<div>\n",
       "<style scoped>\n",
       "    .dataframe tbody tr th:only-of-type {\n",
       "        vertical-align: middle;\n",
       "    }\n",
       "\n",
       "    .dataframe tbody tr th {\n",
       "        vertical-align: top;\n",
       "    }\n",
       "\n",
       "    .dataframe thead th {\n",
       "        text-align: right;\n",
       "    }\n",
       "</style>\n",
       "<table border=\"1\" class=\"dataframe\">\n",
       "  <thead>\n",
       "    <tr style=\"text-align: right;\">\n",
       "      <th></th>\n",
       "      <th>Rating</th>\n",
       "    </tr>\n",
       "    <tr>\n",
       "      <th>Person</th>\n",
       "      <th></th>\n",
       "    </tr>\n",
       "  </thead>\n",
       "  <tbody>\n",
       "    <tr>\n",
       "      <th>54</th>\n",
       "      <td>100</td>\n",
       "    </tr>\n",
       "    <tr>\n",
       "      <th>47</th>\n",
       "      <td>72</td>\n",
       "    </tr>\n",
       "    <tr>\n",
       "      <th>7</th>\n",
       "      <td>81</td>\n",
       "    </tr>\n",
       "    <tr>\n",
       "      <th>5</th>\n",
       "      <td>94</td>\n",
       "    </tr>\n",
       "    <tr>\n",
       "      <th>45</th>\n",
       "      <td>90</td>\n",
       "    </tr>\n",
       "  </tbody>\n",
       "</table>\n",
       "</div>"
      ],
      "text/plain": [
       "        Rating\n",
       "Person        \n",
       "54         100\n",
       "47          72\n",
       "7           81\n",
       "5           94\n",
       "45          90"
      ]
     },
     "execution_count": 34,
     "metadata": {},
     "output_type": "execute_result"
    }
   ],
   "source": [
    "beerrating_sample_df.sample(5)"
   ]
  },
  {
   "cell_type": "code",
   "execution_count": 36,
   "id": "63d714cf",
   "metadata": {},
   "outputs": [
    {
     "name": "stdout",
     "output_type": "stream",
     "text": [
      "The beerrating sample mean is 79.750000 and the beerrating sample std deviation is 14.502630 \n"
     ]
    }
   ],
   "source": [
    "beerrating_sample_mean=beerrating_df['Rating'].mean()\n",
    "beerrating_sample_sd=beerrating_df['Rating'].std()\n",
    "print('The beerrating sample mean is %2f and the beerrating sample std deviation is %2f ' %(beerrating_mean,beerrating_sd) )"
   ]
  },
  {
   "cell_type": "code",
   "execution_count": null,
   "id": "00f272ad",
   "metadata": {},
   "outputs": [],
   "source": [
    "# for population \n",
    "\n",
    "# H0: pop_mu <=76\n",
    "# Ha: ppo_mu > 76\n",
    "\n",
    "# the sample poulation is 60 (>30) and 'sd' as well as 'mu'\n",
    "# we can test 'z' to find hypothesized  pop mu\n",
    "\n",
    "# for 5% significance level the z score should be -1.96 to 1.96\n",
    "\n"
   ]
  },
  {
   "cell_type": "markdown",
   "id": "7ef061e9",
   "metadata": {},
   "source": [
    "$$ Null Hypothesis: \\mu_{pop} \\le 76$$\n",
    "$$ Alternate Hypotesis: \\mu_{pop} > 76$$\n",
    "\n",
    "$$P(Sample Mean > 76 \\mid mean \\le 76)$$"
   ]
  },
  {
   "cell_type": "code",
   "execution_count": 38,
   "id": "7e1587f7",
   "metadata": {},
   "outputs": [],
   "source": [
    "z=1.96\n",
    "beerrating_sample=60\n",
    "\n",
    "mu_pop=(beerrating_sample_mean + (z*(beerrating_sample_sd/math.sqrt(beerrating_sample))),beerrating_sample_mean + (z*(beerrating_sample_sd/math.sqrt(beerrating_sample))))"
   ]
  },
  {
   "cell_type": "code",
   "execution_count": 39,
   "id": "48016aae",
   "metadata": {},
   "outputs": [
    {
     "data": {
      "text/plain": [
       "(83.41967165513445, 83.41967165513445)"
      ]
     },
     "execution_count": 39,
     "metadata": {},
     "output_type": "execute_result"
    }
   ],
   "source": [
    "mu_pop"
   ]
  },
  {
   "cell_type": "code",
   "execution_count": null,
   "id": "d3676d01",
   "metadata": {},
   "outputs": [],
   "source": [
    "# we can see the Poulation Mean is expected to be higher than 76 for 5% significance level. hence reject the null hypothesis."
   ]
  },
  {
   "cell_type": "markdown",
   "id": "0657b8ed",
   "metadata": {},
   "source": [
    "$$ Null Hypothesis: \\mu \\le 76$$\n",
    "$$ Alternate Hypotesis: \\mu > 76$$\n",
    "\n",
    "$$P(Sample Mean > 76 \\mid mean \\le 76)$$"
   ]
  },
  {
   "cell_type": "code",
   "execution_count": 51,
   "id": "5de6ddec",
   "metadata": {},
   "outputs": [],
   "source": [
    "# alternatively we can do 't test' ,as we do not know the poulation mean \n",
    "\n",
    "t_critical=st.t.ppf(q=1-0.05,df=60-1)\n",
    "s=t_critical*((beerrating_sample_sd/math.sqrt(beerrating_sample)))"
   ]
  },
  {
   "cell_type": "code",
   "execution_count": 53,
   "id": "9600e1e2",
   "metadata": {},
   "outputs": [
    {
     "name": "stdout",
     "output_type": "stream",
     "text": [
      "(82.87875649591327, 76.62124350408673)\n"
     ]
    }
   ],
   "source": [
    "mu_pop_t=(beerrating_sample_mean+s,beerrating_sample_mean-s)\n",
    "print(mu_pop_t)"
   ]
  },
  {
   "cell_type": "code",
   "execution_count": 54,
   "id": "1f84764b",
   "metadata": {},
   "outputs": [],
   "source": [
    "# We can see the computed mu_pop is higher than the Null hypothiss - which can be rejected "
   ]
  },
  {
   "cell_type": "code",
   "execution_count": 9,
   "id": "c033286d",
   "metadata": {},
   "outputs": [],
   "source": [
    "# Q5 Since the the p value is very low , we may reject the \"Null Hypothesis\"\n",
    "# The 2 0 smaple  beer rating will have a scaore of higher than 76"
   ]
  },
  {
   "cell_type": "code",
   "execution_count": 57,
   "id": "af56ea7c",
   "metadata": {},
   "outputs": [
    {
     "data": {
      "text/plain": [
       "0.0"
      ]
     },
     "execution_count": 57,
     "metadata": {},
     "output_type": "execute_result"
    }
   ],
   "source": [
    "1-st.t.cdf(x=76,df=60-1)"
   ]
  },
  {
   "cell_type": "markdown",
   "id": "9fe08263",
   "metadata": {},
   "source": [
    " ## Q6 {Low calorie Drink Priference} ##"
   ]
  },
  {
   "cell_type": "code",
   "execution_count": 10,
   "id": "e373eeb7",
   "metadata": {},
   "outputs": [
    {
     "data": {
      "text/html": [
       "<div>\n",
       "<style scoped>\n",
       "    .dataframe tbody tr th:only-of-type {\n",
       "        vertical-align: middle;\n",
       "    }\n",
       "\n",
       "    .dataframe tbody tr th {\n",
       "        vertical-align: top;\n",
       "    }\n",
       "\n",
       "    .dataframe thead th {\n",
       "        text-align: right;\n",
       "    }\n",
       "</style>\n",
       "<table border=\"1\" class=\"dataframe\">\n",
       "  <thead>\n",
       "    <tr style=\"text-align: right;\">\n",
       "      <th></th>\n",
       "      <th>Consumer</th>\n",
       "      <th>Gender</th>\n",
       "      <th>Age</th>\n",
       "      <th>Preference</th>\n",
       "    </tr>\n",
       "  </thead>\n",
       "  <tbody>\n",
       "    <tr>\n",
       "      <th>76</th>\n",
       "      <td>77</td>\n",
       "      <td>F</td>\n",
       "      <td>Between 40 and 60</td>\n",
       "      <td>Our brand</td>\n",
       "    </tr>\n",
       "    <tr>\n",
       "      <th>105</th>\n",
       "      <td>106</td>\n",
       "      <td>F</td>\n",
       "      <td>Between 20 and 40</td>\n",
       "      <td>Our brand</td>\n",
       "    </tr>\n",
       "    <tr>\n",
       "      <th>0</th>\n",
       "      <td>1</td>\n",
       "      <td>F</td>\n",
       "      <td>Over 60</td>\n",
       "      <td>Our brand</td>\n",
       "    </tr>\n",
       "    <tr>\n",
       "      <th>86</th>\n",
       "      <td>87</td>\n",
       "      <td>M</td>\n",
       "      <td>Between 40 and 60</td>\n",
       "      <td>Our brand</td>\n",
       "    </tr>\n",
       "    <tr>\n",
       "      <th>244</th>\n",
       "      <td>245</td>\n",
       "      <td>F</td>\n",
       "      <td>Between 40 and 60</td>\n",
       "      <td>Competing brand</td>\n",
       "    </tr>\n",
       "    <tr>\n",
       "      <th>98</th>\n",
       "      <td>99</td>\n",
       "      <td>F</td>\n",
       "      <td>Between 20 and 40</td>\n",
       "      <td>Competing brand</td>\n",
       "    </tr>\n",
       "    <tr>\n",
       "      <th>7</th>\n",
       "      <td>8</td>\n",
       "      <td>F</td>\n",
       "      <td>Between 40 and 60</td>\n",
       "      <td>Competing brand</td>\n",
       "    </tr>\n",
       "    <tr>\n",
       "      <th>65</th>\n",
       "      <td>66</td>\n",
       "      <td>F</td>\n",
       "      <td>Between 20 and 40</td>\n",
       "      <td>Competing brand</td>\n",
       "    </tr>\n",
       "    <tr>\n",
       "      <th>19</th>\n",
       "      <td>20</td>\n",
       "      <td>F</td>\n",
       "      <td>Between 20 and 40</td>\n",
       "      <td>Our brand</td>\n",
       "    </tr>\n",
       "    <tr>\n",
       "      <th>150</th>\n",
       "      <td>151</td>\n",
       "      <td>F</td>\n",
       "      <td>Between 20 and 40</td>\n",
       "      <td>Competing brand</td>\n",
       "    </tr>\n",
       "  </tbody>\n",
       "</table>\n",
       "</div>"
      ],
      "text/plain": [
       "     Consumer Gender                Age       Preference\n",
       "76         77      F  Between 40 and 60        Our brand\n",
       "105       106      F  Between 20 and 40        Our brand\n",
       "0           1      F            Over 60        Our brand\n",
       "86         87      M  Between 40 and 60        Our brand\n",
       "244       245      F  Between 40 and 60  Competing brand\n",
       "98         99      F  Between 20 and 40  Competing brand\n",
       "7           8      F  Between 40 and 60  Competing brand\n",
       "65         66      F  Between 20 and 40  Competing brand\n",
       "19         20      F  Between 20 and 40        Our brand\n",
       "150       151      F  Between 20 and 40  Competing brand"
      ]
     },
     "execution_count": 10,
     "metadata": {},
     "output_type": "execute_result"
    }
   ],
   "source": [
    "drink_pref_df=pd.read_excel('Q6_LowcalorieDrink.xlsx')\n",
    "drink_pref_df.sample(10)"
   ]
  },
  {
   "cell_type": "code",
   "execution_count": 11,
   "id": "52d87f52",
   "metadata": {},
   "outputs": [
    {
     "name": "stdout",
     "output_type": "stream",
     "text": [
      "<class 'pandas.core.frame.DataFrame'>\n",
      "RangeIndex: 250 entries, 0 to 249\n",
      "Data columns (total 4 columns):\n",
      " #   Column      Non-Null Count  Dtype \n",
      "---  ------      --------------  ----- \n",
      " 0   Consumer    250 non-null    int64 \n",
      " 1   Gender      250 non-null    object\n",
      " 2   Age         250 non-null    object\n",
      " 3   Preference  250 non-null    object\n",
      "dtypes: int64(1), object(3)\n",
      "memory usage: 7.9+ KB\n"
     ]
    }
   ],
   "source": [
    "drink_pref_df.info()"
   ]
  },
  {
   "cell_type": "code",
   "execution_count": 12,
   "id": "82bef564",
   "metadata": {},
   "outputs": [],
   "source": [
    "drink_pref_df.set_index('Consumer',inplace=True)"
   ]
  },
  {
   "cell_type": "code",
   "execution_count": 13,
   "id": "e47d7458",
   "metadata": {},
   "outputs": [
    {
     "data": {
      "text/html": [
       "<div>\n",
       "<style scoped>\n",
       "    .dataframe tbody tr th:only-of-type {\n",
       "        vertical-align: middle;\n",
       "    }\n",
       "\n",
       "    .dataframe tbody tr th {\n",
       "        vertical-align: top;\n",
       "    }\n",
       "\n",
       "    .dataframe thead th {\n",
       "        text-align: right;\n",
       "    }\n",
       "</style>\n",
       "<table border=\"1\" class=\"dataframe\">\n",
       "  <thead>\n",
       "    <tr style=\"text-align: right;\">\n",
       "      <th></th>\n",
       "      <th>Gender</th>\n",
       "      <th>Age</th>\n",
       "      <th>Preference</th>\n",
       "    </tr>\n",
       "    <tr>\n",
       "      <th>Consumer</th>\n",
       "      <th></th>\n",
       "      <th></th>\n",
       "      <th></th>\n",
       "    </tr>\n",
       "  </thead>\n",
       "  <tbody>\n",
       "    <tr>\n",
       "      <th>1</th>\n",
       "      <td>F</td>\n",
       "      <td>Over 60</td>\n",
       "      <td>Our brand</td>\n",
       "    </tr>\n",
       "    <tr>\n",
       "      <th>2</th>\n",
       "      <td>F</td>\n",
       "      <td>Between 40 and 60</td>\n",
       "      <td>Our brand</td>\n",
       "    </tr>\n",
       "    <tr>\n",
       "      <th>3</th>\n",
       "      <td>M</td>\n",
       "      <td>Between 40 and 60</td>\n",
       "      <td>Our brand</td>\n",
       "    </tr>\n",
       "    <tr>\n",
       "      <th>4</th>\n",
       "      <td>F</td>\n",
       "      <td>Over 60</td>\n",
       "      <td>Competing brand</td>\n",
       "    </tr>\n",
       "    <tr>\n",
       "      <th>5</th>\n",
       "      <td>M</td>\n",
       "      <td>Between 20 and 40</td>\n",
       "      <td>Our brand</td>\n",
       "    </tr>\n",
       "  </tbody>\n",
       "</table>\n",
       "</div>"
      ],
      "text/plain": [
       "         Gender                Age       Preference\n",
       "Consumer                                           \n",
       "1             F            Over 60        Our brand\n",
       "2             F  Between 40 and 60        Our brand\n",
       "3             M  Between 40 and 60        Our brand\n",
       "4             F            Over 60  Competing brand\n",
       "5             M  Between 20 and 40        Our brand"
      ]
     },
     "execution_count": 13,
     "metadata": {},
     "output_type": "execute_result"
    }
   ],
   "source": [
    "drink_pref_df.head()"
   ]
  },
  {
   "cell_type": "code",
   "execution_count": 14,
   "id": "b74b3c8b",
   "metadata": {},
   "outputs": [
    {
     "data": {
      "text/html": [
       "<div>\n",
       "<style scoped>\n",
       "    .dataframe tbody tr th:only-of-type {\n",
       "        vertical-align: middle;\n",
       "    }\n",
       "\n",
       "    .dataframe tbody tr th {\n",
       "        vertical-align: top;\n",
       "    }\n",
       "\n",
       "    .dataframe thead tr th {\n",
       "        text-align: left;\n",
       "    }\n",
       "\n",
       "    .dataframe thead tr:last-of-type th {\n",
       "        text-align: right;\n",
       "    }\n",
       "</style>\n",
       "<table border=\"1\" class=\"dataframe\">\n",
       "  <thead>\n",
       "    <tr>\n",
       "      <th></th>\n",
       "      <th>Gender</th>\n",
       "      <th>Age</th>\n",
       "    </tr>\n",
       "    <tr>\n",
       "      <th></th>\n",
       "      <th>count</th>\n",
       "      <th>count</th>\n",
       "    </tr>\n",
       "    <tr>\n",
       "      <th>Preference</th>\n",
       "      <th></th>\n",
       "      <th></th>\n",
       "    </tr>\n",
       "  </thead>\n",
       "  <tbody>\n",
       "    <tr>\n",
       "      <th>Competing brand</th>\n",
       "      <td>116</td>\n",
       "      <td>116</td>\n",
       "    </tr>\n",
       "    <tr>\n",
       "      <th>Our brand</th>\n",
       "      <td>134</td>\n",
       "      <td>134</td>\n",
       "    </tr>\n",
       "  </tbody>\n",
       "</table>\n",
       "</div>"
      ],
      "text/plain": [
       "                Gender   Age\n",
       "                 count count\n",
       "Preference                  \n",
       "Competing brand    116   116\n",
       "Our brand          134   134"
      ]
     },
     "execution_count": 14,
     "metadata": {},
     "output_type": "execute_result"
    }
   ],
   "source": [
    "drink_pref_df.groupby('Preference').agg([\"count\"])"
   ]
  },
  {
   "cell_type": "code",
   "execution_count": 15,
   "id": "af0f2c5a",
   "metadata": {},
   "outputs": [
    {
     "name": "stdout",
     "output_type": "stream",
     "text": [
      "our brand preference in the sample is  46.000000 percent\n"
     ]
    }
   ],
   "source": [
    "per_ourbrand =116/250\n",
    "per_compbrand=134/250\n",
    "\n",
    "#assume poulation s choice for our brand will be normally distributed\n",
    "#P-hat +/- z_a/2*sqrt((p-hat*q-hat)/n)\n",
    "\n",
    "print('our brand preference in the sample is  %2f percent'%round(per_ourbrand*100))"
   ]
  },
  {
   "cell_type": "code",
   "execution_count": 16,
   "id": "07c11288",
   "metadata": {},
   "outputs": [
    {
     "data": {
      "text/plain": [
       "(0.5217819857239956, 0.3982180142760044)"
      ]
     },
     "execution_count": 16,
     "metadata": {},
     "output_type": "execute_result"
    }
   ],
   "source": [
    "(0.46+(1.96*math.sqrt(.46*.54/250)),0.46-(1.96*math.sqrt(.46*.54/250)))"
   ]
  },
  {
   "cell_type": "code",
   "execution_count": 17,
   "id": "5bea9cef",
   "metadata": {},
   "outputs": [],
   "source": [
    "# In the poulation the choice for our brand will be between 52% to 40% given 95 percent confidence level \n",
    "\n",
    "#b) The sample data does not provide information on geographies (urban / rural )- so asserattion is false.\n",
    "\n",
    "#C) sample is unnecessary large to judge brand preference"
   ]
  },
  {
   "cell_type": "markdown",
   "id": "1bbed9bd",
   "metadata": {},
   "source": [
    "## Questtion 7 ##"
   ]
  },
  {
   "cell_type": "code",
   "execution_count": 60,
   "id": "c9b7391f",
   "metadata": {},
   "outputs": [
    {
     "data": {
      "text/html": [
       "<div>\n",
       "<style scoped>\n",
       "    .dataframe tbody tr th:only-of-type {\n",
       "        vertical-align: middle;\n",
       "    }\n",
       "\n",
       "    .dataframe tbody tr th {\n",
       "        vertical-align: top;\n",
       "    }\n",
       "\n",
       "    .dataframe thead th {\n",
       "        text-align: right;\n",
       "    }\n",
       "</style>\n",
       "<table border=\"1\" class=\"dataframe\">\n",
       "  <thead>\n",
       "    <tr style=\"text-align: right;\">\n",
       "      <th></th>\n",
       "      <th>Lifetime</th>\n",
       "    </tr>\n",
       "    <tr>\n",
       "      <th>Battery</th>\n",
       "      <th></th>\n",
       "    </tr>\n",
       "  </thead>\n",
       "  <tbody>\n",
       "    <tr>\n",
       "      <th>82</th>\n",
       "      <td>103.88</td>\n",
       "    </tr>\n",
       "    <tr>\n",
       "      <th>38</th>\n",
       "      <td>92.23</td>\n",
       "    </tr>\n",
       "    <tr>\n",
       "      <th>20</th>\n",
       "      <td>102.58</td>\n",
       "    </tr>\n",
       "    <tr>\n",
       "      <th>99</th>\n",
       "      <td>102.74</td>\n",
       "    </tr>\n",
       "    <tr>\n",
       "      <th>69</th>\n",
       "      <td>98.75</td>\n",
       "    </tr>\n",
       "    <tr>\n",
       "      <th>54</th>\n",
       "      <td>101.69</td>\n",
       "    </tr>\n",
       "    <tr>\n",
       "      <th>50</th>\n",
       "      <td>95.22</td>\n",
       "    </tr>\n",
       "    <tr>\n",
       "      <th>91</th>\n",
       "      <td>96.65</td>\n",
       "    </tr>\n",
       "    <tr>\n",
       "      <th>92</th>\n",
       "      <td>100.27</td>\n",
       "    </tr>\n",
       "    <tr>\n",
       "      <th>100</th>\n",
       "      <td>98.78</td>\n",
       "    </tr>\n",
       "  </tbody>\n",
       "</table>\n",
       "</div>"
      ],
      "text/plain": [
       "         Lifetime\n",
       "Battery          \n",
       "82         103.88\n",
       "38          92.23\n",
       "20         102.58\n",
       "99         102.74\n",
       "69          98.75\n",
       "54         101.69\n",
       "50          95.22\n",
       "91          96.65\n",
       "92         100.27\n",
       "100         98.78"
      ]
     },
     "execution_count": 60,
     "metadata": {},
     "output_type": "execute_result"
    }
   ],
   "source": [
    "brand1_sample_df=pd.read_excel('Q7_Battery_life.xlsx',sheet_name='Brand1',index_col='Battery')\n",
    "brand2_sample_df=pd.read_excel('Q7_Battery_life.xlsx',sheet_name='Brand2',index_col='Battery')\n",
    "brand1_sample_df.sample(10)"
   ]
  },
  {
   "cell_type": "code",
   "execution_count": 61,
   "id": "73fdc15e",
   "metadata": {},
   "outputs": [
    {
     "data": {
      "text/html": [
       "<div>\n",
       "<style scoped>\n",
       "    .dataframe tbody tr th:only-of-type {\n",
       "        vertical-align: middle;\n",
       "    }\n",
       "\n",
       "    .dataframe tbody tr th {\n",
       "        vertical-align: top;\n",
       "    }\n",
       "\n",
       "    .dataframe thead th {\n",
       "        text-align: right;\n",
       "    }\n",
       "</style>\n",
       "<table border=\"1\" class=\"dataframe\">\n",
       "  <thead>\n",
       "    <tr style=\"text-align: right;\">\n",
       "      <th></th>\n",
       "      <th>Lifetime</th>\n",
       "    </tr>\n",
       "    <tr>\n",
       "      <th>Battery</th>\n",
       "      <th></th>\n",
       "    </tr>\n",
       "  </thead>\n",
       "  <tbody>\n",
       "    <tr>\n",
       "      <th>23</th>\n",
       "      <td>98.67</td>\n",
       "    </tr>\n",
       "    <tr>\n",
       "      <th>61</th>\n",
       "      <td>98.81</td>\n",
       "    </tr>\n",
       "    <tr>\n",
       "      <th>43</th>\n",
       "      <td>96.43</td>\n",
       "    </tr>\n",
       "    <tr>\n",
       "      <th>30</th>\n",
       "      <td>112.25</td>\n",
       "    </tr>\n",
       "    <tr>\n",
       "      <th>36</th>\n",
       "      <td>109.34</td>\n",
       "    </tr>\n",
       "    <tr>\n",
       "      <th>7</th>\n",
       "      <td>96.53</td>\n",
       "    </tr>\n",
       "    <tr>\n",
       "      <th>40</th>\n",
       "      <td>92.84</td>\n",
       "    </tr>\n",
       "    <tr>\n",
       "      <th>45</th>\n",
       "      <td>97.44</td>\n",
       "    </tr>\n",
       "    <tr>\n",
       "      <th>74</th>\n",
       "      <td>95.82</td>\n",
       "    </tr>\n",
       "    <tr>\n",
       "      <th>100</th>\n",
       "      <td>96.70</td>\n",
       "    </tr>\n",
       "  </tbody>\n",
       "</table>\n",
       "</div>"
      ],
      "text/plain": [
       "         Lifetime\n",
       "Battery          \n",
       "23          98.67\n",
       "61          98.81\n",
       "43          96.43\n",
       "30         112.25\n",
       "36         109.34\n",
       "7           96.53\n",
       "40          92.84\n",
       "45          97.44\n",
       "74          95.82\n",
       "100         96.70"
      ]
     },
     "execution_count": 61,
     "metadata": {},
     "output_type": "execute_result"
    }
   ],
   "source": [
    "brand2_sample_df.sample(10)"
   ]
  },
  {
   "cell_type": "code",
   "execution_count": 62,
   "id": "933e4ef3",
   "metadata": {},
   "outputs": [],
   "source": [
    "brand1_sample_mean=brand1_sample_df['Lifetime'].mean()\n",
    "brand1_sample_sd=brand1_sample_df['Lifetime'].std()\n",
    "brand2_sample_mean=brand2_sample_df['Lifetime'].mean()\n",
    "brand2_sample_sd=brand2_sample_df['Lifetime'].std()"
   ]
  },
  {
   "cell_type": "code",
   "execution_count": 73,
   "id": "f89ea77c",
   "metadata": {},
   "outputs": [
    {
     "name": "stdout",
     "output_type": "stream",
     "text": [
      "The brand1_battery  sample mean is 100.089800 and the sample std deviation is 2.821051 \n",
      "The brand2_battery sample mean is 99.559400 and the sample std deviation is 6.306306 \n"
     ]
    }
   ],
   "source": [
    "print('The brand1_battery  sample mean is %2f and the sample std deviation is %2f ' %(brand1_sample_mean,brand1_sample_sd) )\n",
    "print('The brand2_battery sample mean is %2f and the sample std deviation is %2f ' %(brand2_sample_mean,brand2_sample_sd) )"
   ]
  },
  {
   "cell_type": "markdown",
   "id": "53eae8b0",
   "metadata": {},
   "source": [
    "$$ Statistic    Chi^2 $$\n",
    "$$ X^2 =\\frac{(n-1)s^2}{\\sigma_0^2} $$"
   ]
  },
  {
   "cell_type": "code",
   "execution_count": 86,
   "id": "5b72b9f6",
   "metadata": {},
   "outputs": [
    {
     "name": "stdout",
     "output_type": "stream",
     "text": [
      "85.46991713207193\n",
      "2134.369787922655\n"
     ]
    }
   ],
   "source": [
    "x_critical=st.chi2.ppf(q=0.05/2,df=100-1)\n",
    "brand1_pop_variance=((100-1)*brand1_sample_sd**4)/x_critical\n",
    "print(brand1_pop_variance)\n",
    "\n",
    "brand2_pop_variance=((100-1)*brand2_sample_sd**4)/x_critical\n",
    "print(brand2_pop_variance)\n",
    "\n",
    "# the underlying population variances for Brand #1 and Brand #2  - greatly differ "
   ]
  },
  {
   "cell_type": "markdown",
   "id": "9acd0a07",
   "metadata": {},
   "source": [
    "## Brand 1 and Brand 2 are different ##\n",
    "### We can do T statistic to find mean for respective population mean  and compare ### \n",
    "\n",
    "$$ t =\\frac{(\\bar{x}-\\mu)} {\\frac{s}{\\sqrt{n}}}, df =n-1, \\mu = population\\space hypothesized\\space mean $$"
   ]
  },
  {
   "cell_type": "code",
   "execution_count": 88,
   "id": "6de92441",
   "metadata": {},
   "outputs": [
    {
     "name": "stdout",
     "output_type": "stream",
     "text": [
      "(99.89882161580643, 100.28077838419354) (99.1324782213936, 99.98632177860634)\n"
     ]
    }
   ],
   "source": [
    "# let us assume both the brand population are normally distributed and significance level 5% (two tailed )\n",
    "brand1_sample_no=brand2_sample_no=100\n",
    "t_critical_brands=st.t.ppf(q=1-0.5/2,df=100-1)\n",
    "\n",
    "s_br1=t_critical_brands*((brand1_sample_sd/math.sqrt(brand1_sample_no)))\n",
    "brand1_mean_pop=(brand1_sample_mean-s_br1,brand1_sample_mean +s_br1)\n",
    "\n",
    "s_br2=t_critical_brands*((brand2_sample_sd/math.sqrt(brand2_sample_no)))\n",
    "brand2_mean_pop=(brand2_sample_mean-s_br2,brand2_sample_mean +s_br2)\n",
    "\n",
    "print(brand1_mean_pop, brand2_mean_pop)"
   ]
  },
  {
   "cell_type": "code",
   "execution_count": 89,
   "id": "d1f67391",
   "metadata": {},
   "outputs": [],
   "source": [
    "# let us condider \n",
    "# Ha: mean brand1 > mean brand2\n",
    "\n",
    "#H0:  mean brand1 <=  mean brand2 \n",
    "\n",
    "#let us do a T test onboth distribution  and man whitney test \n"
   ]
  },
  {
   "cell_type": "code",
   "execution_count": 91,
   "id": "75e46c70",
   "metadata": {},
   "outputs": [
    {
     "name": "stdout",
     "output_type": "stream",
     "text": [
      "t-test: statistic=0.7677, p-value=0.4436\n"
     ]
    }
   ],
   "source": [
    "stat, p_value = st.ttest_ind(brand1_sample_df.Lifetime, brand2_sample_df.Lifetime)\n",
    "print(f\"t-test: statistic={stat:.4f}, p-value={p_value:.4f}\")"
   ]
  },
  {
   "cell_type": "code",
   "execution_count": 92,
   "id": "01380c2d",
   "metadata": {},
   "outputs": [
    {
     "name": "stdout",
     "output_type": "stream",
     "text": [
      " Mann–Whitney U Test: statistic=5244.0000, p-value=0.5519\n"
     ]
    }
   ],
   "source": [
    "stat, p_value = st.mannwhitneyu(brand1_sample_df.Lifetime, brand2_sample_df.Lifetime)\n",
    "print(f\" Mann–Whitney U Test: statistic={stat:.4f}, p-value={p_value:.4f}\")"
   ]
  },
  {
   "cell_type": "code",
   "execution_count": 29,
   "id": "691a8af8",
   "metadata": {},
   "outputs": [],
   "source": [
    "# We found out both cases the p value is higher than 0.05 ; so we can not reject the NULL Hypthesis  "
   ]
  }
 ],
 "metadata": {
  "kernelspec": {
   "display_name": "Python 3 (ipykernel)",
   "language": "python",
   "name": "python3"
  },
  "language_info": {
   "codemirror_mode": {
    "name": "ipython",
    "version": 3
   },
   "file_extension": ".py",
   "mimetype": "text/x-python",
   "name": "python",
   "nbconvert_exporter": "python",
   "pygments_lexer": "ipython3",
   "version": "3.8.13"
  }
 },
 "nbformat": 4,
 "nbformat_minor": 5
}
