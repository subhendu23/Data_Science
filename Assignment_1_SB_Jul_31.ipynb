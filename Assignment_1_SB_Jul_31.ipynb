{
 "cells": [
  {
   "cell_type": "code",
   "execution_count": 196,
   "id": "c8c26fea",
   "metadata": {},
   "outputs": [],
   "source": [
    "import pandas as pd\n",
    "import numpy as np\n",
    "\n",
    "#set few options\n",
    "pd.set_option(\"display.precision\", 3)\n",
    "pd.set_option('display.min_rows', 8)\n",
    "pd.set_option('display.width', 2000)"
   ]
  },
  {
   "cell_type": "code",
   "execution_count": 197,
   "id": "f10416e7",
   "metadata": {
    "scrolled": true
   },
   "outputs": [],
   "source": [
    "#ead xlxs file\n",
    "cc_xls_0=pd.read_excel(\"D:\\\\test_dir\\\\Bootcamp\\\\AAI DS Bootcamp - 01 Python - practise notebooks\\\\Credit Card Data.xlsx\",sheet_name= 0, parse_dates=True)"
   ]
  },
  {
   "cell_type": "code",
   "execution_count": 198,
   "id": "77f69745",
   "metadata": {},
   "outputs": [
    {
     "data": {
      "text/html": [
       "<div>\n",
       "<style scoped>\n",
       "    .dataframe tbody tr th:only-of-type {\n",
       "        vertical-align: middle;\n",
       "    }\n",
       "\n",
       "    .dataframe tbody tr th {\n",
       "        vertical-align: top;\n",
       "    }\n",
       "\n",
       "    .dataframe thead th {\n",
       "        text-align: right;\n",
       "    }\n",
       "</style>\n",
       "<table border=\"1\" class=\"dataframe\">\n",
       "  <thead>\n",
       "    <tr style=\"text-align: right;\">\n",
       "      <th></th>\n",
       "      <th>No</th>\n",
       "      <th>Customer</th>\n",
       "      <th>Age</th>\n",
       "      <th>City</th>\n",
       "      <th>Product</th>\n",
       "      <th>Limit</th>\n",
       "      <th>Company</th>\n",
       "      <th>Segment</th>\n",
       "    </tr>\n",
       "  </thead>\n",
       "  <tbody>\n",
       "    <tr>\n",
       "      <th>0</th>\n",
       "      <td>1</td>\n",
       "      <td>A1</td>\n",
       "      <td>47</td>\n",
       "      <td>BANGALORE</td>\n",
       "      <td>Gold</td>\n",
       "      <td>1500000</td>\n",
       "      <td>C1</td>\n",
       "      <td>Self Employed</td>\n",
       "    </tr>\n",
       "    <tr>\n",
       "      <th>1</th>\n",
       "      <td>2</td>\n",
       "      <td>A2</td>\n",
       "      <td>56</td>\n",
       "      <td>CALCUTTA</td>\n",
       "      <td>Silver</td>\n",
       "      <td>300000</td>\n",
       "      <td>C2</td>\n",
       "      <td>Salaried_MNC</td>\n",
       "    </tr>\n",
       "    <tr>\n",
       "      <th>2</th>\n",
       "      <td>3</td>\n",
       "      <td>A3</td>\n",
       "      <td>30</td>\n",
       "      <td>COCHIN</td>\n",
       "      <td>Platimum</td>\n",
       "      <td>540000</td>\n",
       "      <td>C3</td>\n",
       "      <td>Salaried_Pvt</td>\n",
       "    </tr>\n",
       "    <tr>\n",
       "      <th>3</th>\n",
       "      <td>4</td>\n",
       "      <td>A4</td>\n",
       "      <td>22</td>\n",
       "      <td>BOMBAY</td>\n",
       "      <td>Platimum</td>\n",
       "      <td>840084</td>\n",
       "      <td>C4</td>\n",
       "      <td>Govt</td>\n",
       "    </tr>\n",
       "    <tr>\n",
       "      <th>4</th>\n",
       "      <td>5</td>\n",
       "      <td>A5</td>\n",
       "      <td>59</td>\n",
       "      <td>BANGALORE</td>\n",
       "      <td>Platimum</td>\n",
       "      <td>420084</td>\n",
       "      <td>C5</td>\n",
       "      <td>Normal Salary</td>\n",
       "    </tr>\n",
       "  </tbody>\n",
       "</table>\n",
       "</div>"
      ],
      "text/plain": [
       "   No Customer  Age       City   Product    Limit Company        Segment\n",
       "0   1       A1   47  BANGALORE      Gold  1500000      C1  Self Employed\n",
       "1   2       A2   56   CALCUTTA    Silver   300000      C2   Salaried_MNC\n",
       "2   3       A3   30     COCHIN  Platimum   540000      C3   Salaried_Pvt\n",
       "3   4       A4   22     BOMBAY  Platimum   840084      C4           Govt\n",
       "4   5       A5   59  BANGALORE  Platimum   420084      C5  Normal Salary"
      ]
     },
     "execution_count": 198,
     "metadata": {},
     "output_type": "execute_result"
    }
   ],
   "source": [
    "cc_xls_0.head()"
   ]
  },
  {
   "cell_type": "code",
   "execution_count": 199,
   "id": "c873c95f",
   "metadata": {},
   "outputs": [
    {
     "data": {
      "text/html": [
       "<div>\n",
       "<style scoped>\n",
       "    .dataframe tbody tr th:only-of-type {\n",
       "        vertical-align: middle;\n",
       "    }\n",
       "\n",
       "    .dataframe tbody tr th {\n",
       "        vertical-align: top;\n",
       "    }\n",
       "\n",
       "    .dataframe thead th {\n",
       "        text-align: right;\n",
       "    }\n",
       "</style>\n",
       "<table border=\"1\" class=\"dataframe\">\n",
       "  <thead>\n",
       "    <tr style=\"text-align: right;\">\n",
       "      <th></th>\n",
       "      <th>No</th>\n",
       "      <th>Customer</th>\n",
       "      <th>Age</th>\n",
       "      <th>City</th>\n",
       "      <th>Product</th>\n",
       "      <th>Limit</th>\n",
       "      <th>Company</th>\n",
       "      <th>Segment</th>\n",
       "    </tr>\n",
       "  </thead>\n",
       "  <tbody>\n",
       "    <tr>\n",
       "      <th>69</th>\n",
       "      <td>70</td>\n",
       "      <td>A70</td>\n",
       "      <td>16</td>\n",
       "      <td>BOMBAY</td>\n",
       "      <td>Platimum</td>\n",
       "      <td>420000</td>\n",
       "      <td>C32</td>\n",
       "      <td>Self Employed</td>\n",
       "    </tr>\n",
       "  </tbody>\n",
       "</table>\n",
       "</div>"
      ],
      "text/plain": [
       "    No Customer  Age    City   Product   Limit Company        Segment\n",
       "69  70      A70   16  BOMBAY  Platimum  420000     C32  Self Employed"
      ]
     },
     "execution_count": 199,
     "metadata": {},
     "output_type": "execute_result"
    }
   ],
   "source": [
    "cc_xls_0.sample()"
   ]
  },
  {
   "cell_type": "code",
   "execution_count": 200,
   "id": "31d39d12",
   "metadata": {},
   "outputs": [
    {
     "data": {
      "text/html": [
       "<div>\n",
       "<style scoped>\n",
       "    .dataframe tbody tr th:only-of-type {\n",
       "        vertical-align: middle;\n",
       "    }\n",
       "\n",
       "    .dataframe tbody tr th {\n",
       "        vertical-align: top;\n",
       "    }\n",
       "\n",
       "    .dataframe thead th {\n",
       "        text-align: right;\n",
       "    }\n",
       "</style>\n",
       "<table border=\"1\" class=\"dataframe\">\n",
       "  <thead>\n",
       "    <tr style=\"text-align: right;\">\n",
       "      <th></th>\n",
       "      <th>No</th>\n",
       "      <th>Age</th>\n",
       "      <th>Limit</th>\n",
       "    </tr>\n",
       "  </thead>\n",
       "  <tbody>\n",
       "    <tr>\n",
       "      <th>count</th>\n",
       "      <td>100.00</td>\n",
       "      <td>100.00</td>\n",
       "      <td>100.00</td>\n",
       "    </tr>\n",
       "    <tr>\n",
       "      <th>mean</th>\n",
       "      <td>50.50</td>\n",
       "      <td>46.46</td>\n",
       "      <td>710404.05</td>\n",
       "    </tr>\n",
       "    <tr>\n",
       "      <th>std</th>\n",
       "      <td>29.01</td>\n",
       "      <td>17.82</td>\n",
       "      <td>529828.97</td>\n",
       "    </tr>\n",
       "    <tr>\n",
       "      <th>min</th>\n",
       "      <td>1.00</td>\n",
       "      <td>14.00</td>\n",
       "      <td>10000.00</td>\n",
       "    </tr>\n",
       "    <tr>\n",
       "      <th>25%</th>\n",
       "      <td>25.75</td>\n",
       "      <td>30.00</td>\n",
       "      <td>442521.00</td>\n",
       "    </tr>\n",
       "    <tr>\n",
       "      <th>50%</th>\n",
       "      <td>50.50</td>\n",
       "      <td>47.50</td>\n",
       "      <td>500000.00</td>\n",
       "    </tr>\n",
       "    <tr>\n",
       "      <th>75%</th>\n",
       "      <td>75.25</td>\n",
       "      <td>62.25</td>\n",
       "      <td>1200000.00</td>\n",
       "    </tr>\n",
       "    <tr>\n",
       "      <th>max</th>\n",
       "      <td>100.00</td>\n",
       "      <td>75.00</td>\n",
       "      <td>3000000.00</td>\n",
       "    </tr>\n",
       "  </tbody>\n",
       "</table>\n",
       "</div>"
      ],
      "text/plain": [
       "          No    Age      Limit\n",
       "count 100.00 100.00     100.00\n",
       "mean   50.50  46.46  710404.05\n",
       "std    29.01  17.82  529828.97\n",
       "min     1.00  14.00   10000.00\n",
       "25%    25.75  30.00  442521.00\n",
       "50%    50.50  47.50  500000.00\n",
       "75%    75.25  62.25 1200000.00\n",
       "max   100.00  75.00 3000000.00"
      ]
     },
     "execution_count": 200,
     "metadata": {},
     "output_type": "execute_result"
    }
   ],
   "source": [
    "cc_xls_0.describe()"
   ]
  },
  {
   "cell_type": "code",
   "execution_count": 201,
   "id": "eb2e0b11",
   "metadata": {},
   "outputs": [
    {
     "data": {
      "text/plain": [
       "No          0\n",
       "Customer    0\n",
       "Age         0\n",
       "City        0\n",
       "Product     0\n",
       "Limit       0\n",
       "Company     0\n",
       "Segment     0\n",
       "dtype: int64"
      ]
     },
     "execution_count": 201,
     "metadata": {},
     "output_type": "execute_result"
    }
   ],
   "source": [
    "# check blanks, missing values\n",
    "cc_xls_0.isnull().sum()"
   ]
  },
  {
   "cell_type": "code",
   "execution_count": 202,
   "id": "3bd95020",
   "metadata": {},
   "outputs": [
    {
     "data": {
      "text/html": [
       "<div>\n",
       "<style scoped>\n",
       "    .dataframe tbody tr th:only-of-type {\n",
       "        vertical-align: middle;\n",
       "    }\n",
       "\n",
       "    .dataframe tbody tr th {\n",
       "        vertical-align: top;\n",
       "    }\n",
       "\n",
       "    .dataframe thead th {\n",
       "        text-align: right;\n",
       "    }\n",
       "</style>\n",
       "<table border=\"1\" class=\"dataframe\">\n",
       "  <thead>\n",
       "    <tr style=\"text-align: right;\">\n",
       "      <th></th>\n",
       "      <th>No</th>\n",
       "      <th>Customer</th>\n",
       "      <th>Age</th>\n",
       "      <th>City</th>\n",
       "      <th>Product</th>\n",
       "      <th>Limit</th>\n",
       "      <th>Company</th>\n",
       "      <th>Segment</th>\n",
       "    </tr>\n",
       "  </thead>\n",
       "  <tbody>\n",
       "    <tr>\n",
       "      <th>46</th>\n",
       "      <td>47</td>\n",
       "      <td>A47</td>\n",
       "      <td>16</td>\n",
       "      <td>CHENNAI</td>\n",
       "      <td>Platimum</td>\n",
       "      <td>1380000</td>\n",
       "      <td>C9</td>\n",
       "      <td>Normal Salary</td>\n",
       "    </tr>\n",
       "    <tr>\n",
       "      <th>69</th>\n",
       "      <td>70</td>\n",
       "      <td>A70</td>\n",
       "      <td>16</td>\n",
       "      <td>BOMBAY</td>\n",
       "      <td>Platimum</td>\n",
       "      <td>420000</td>\n",
       "      <td>C32</td>\n",
       "      <td>Self Employed</td>\n",
       "    </tr>\n",
       "    <tr>\n",
       "      <th>93</th>\n",
       "      <td>94</td>\n",
       "      <td>A94</td>\n",
       "      <td>14</td>\n",
       "      <td>COCHIN</td>\n",
       "      <td>Gold</td>\n",
       "      <td>500000</td>\n",
       "      <td>C17</td>\n",
       "      <td>Govt</td>\n",
       "    </tr>\n",
       "  </tbody>\n",
       "</table>\n",
       "</div>"
      ],
      "text/plain": [
       "    No Customer  Age     City   Product    Limit Company        Segment\n",
       "46  47      A47   16  CHENNAI  Platimum  1380000      C9  Normal Salary\n",
       "69  70      A70   16   BOMBAY  Platimum   420000     C32  Self Employed\n",
       "93  94      A94   14   COCHIN      Gold   500000     C17           Govt"
      ]
     },
     "execution_count": 202,
     "metadata": {},
     "output_type": "execute_result"
    }
   ],
   "source": [
    "cc_xls_0.query('Age<18')"
   ]
  },
  {
   "cell_type": "code",
   "execution_count": 203,
   "id": "c4da4dd0",
   "metadata": {},
   "outputs": [
    {
     "name": "stdout",
     "output_type": "stream",
     "text": [
      "46.46\n"
     ]
    }
   ],
   "source": [
    "mean_age=cc_xls_0['Age'].mean()\n",
    "print(mean_age)"
   ]
  },
  {
   "cell_type": "code",
   "execution_count": 204,
   "id": "3f214623",
   "metadata": {},
   "outputs": [],
   "source": [
    "#changing the age -leas than 18 to mean age \n",
    "cc_xls_0.loc[cc_xls_0['Age']<=18,['Age']] = mean_age"
   ]
  },
  {
   "cell_type": "code",
   "execution_count": 205,
   "id": "ca3613b5",
   "metadata": {},
   "outputs": [
    {
     "name": "stdout",
     "output_type": "stream",
     "text": [
      "     No Customer   Age        City   Product    Limit Company        Segment\n",
      "0     1       A1 47.00   BANGALORE      Gold  1500000      C1  Self Employed\n",
      "1     2       A2 56.00    CALCUTTA    Silver   300000      C2   Salaried_MNC\n",
      "2     3       A3 30.00      COCHIN  Platimum   540000      C3   Salaried_Pvt\n",
      "3     4       A4 22.00      BOMBAY  Platimum   840084      C4           Govt\n",
      "..  ...      ...   ...         ...       ...      ...     ...            ...\n",
      "96   97      A97 75.00  TRIVANDRUM  Platimum    30000     C20           Govt\n",
      "97   98      A98 29.00    CALCUTTA  Platimum    30000     C21  Normal Salary\n",
      "98   99      A99 59.00    CALCUTTA  Platimum   120000     C22  Self Employed\n",
      "99  100     A100 55.00      COCHIN    Silver   100000      C5   Salaried_MNC\n",
      "\n",
      "[100 rows x 8 columns]\n"
     ]
    }
   ],
   "source": [
    "print(cc_xls_0)"
   ]
  },
  {
   "cell_type": "code",
   "execution_count": 206,
   "id": "896f3fe0",
   "metadata": {},
   "outputs": [
    {
     "data": {
      "text/plain": [
       "No                     70\n",
       "Customer              A70\n",
       "Age                 46.46\n",
       "City               BOMBAY\n",
       "Product          Platimum\n",
       "Limit              420000\n",
       "Company               C32\n",
       "Segment     Self Employed\n",
       "Name: 69, dtype: object"
      ]
     },
     "execution_count": 206,
     "metadata": {},
     "output_type": "execute_result"
    }
   ],
   "source": [
    "#test teh the record at location 46 has been changed\n",
    "cc_xls_0.iloc[69]"
   ]
  },
  {
   "cell_type": "code",
   "execution_count": 207,
   "id": "779cf791",
   "metadata": {},
   "outputs": [
    {
     "data": {
      "text/plain": [
       "(100, 8)"
      ]
     },
     "execution_count": 207,
     "metadata": {},
     "output_type": "execute_result"
    }
   ],
   "source": [
    "cc_xls_0.shape"
   ]
  },
  {
   "cell_type": "code",
   "execution_count": 208,
   "id": "bc40f4ee",
   "metadata": {},
   "outputs": [
    {
     "data": {
      "text/plain": [
       "Index(['No', 'Customer', 'Age', 'City', 'Product', 'Limit', 'Company', 'Segment'], dtype='object')"
      ]
     },
     "execution_count": 208,
     "metadata": {},
     "output_type": "execute_result"
    }
   ],
   "source": [
    "cc_xls_0.columns"
   ]
  },
  {
   "cell_type": "code",
   "execution_count": 209,
   "id": "e2ac4026",
   "metadata": {},
   "outputs": [
    {
     "data": {
      "text/plain": [
       "RangeIndex(start=0, stop=100, step=1)"
      ]
     },
     "execution_count": 209,
     "metadata": {},
     "output_type": "execute_result"
    }
   ],
   "source": [
    "cc_xls_0.index"
   ]
  },
  {
   "cell_type": "code",
   "execution_count": 210,
   "id": "5fd03440",
   "metadata": {},
   "outputs": [
    {
     "data": {
      "text/plain": [
       "No          100\n",
       "Customer    100\n",
       "Age         100\n",
       "City        100\n",
       "Product     100\n",
       "Limit       100\n",
       "Company     100\n",
       "Segment     100\n",
       "dtype: int64"
      ]
     },
     "execution_count": 210,
     "metadata": {},
     "output_type": "execute_result"
    }
   ],
   "source": [
    "# to check if we have missing values \n",
    "cc_xls_0.count()"
   ]
  },
  {
   "cell_type": "code",
   "execution_count": 211,
   "id": "849244b2",
   "metadata": {},
   "outputs": [
    {
     "name": "stdout",
     "output_type": "stream",
     "text": [
      "['A1' 'A2' 'A3' 'A4' 'A5' 'A6' 'A7' 'A8' 'A9' 'A10' 'A11' 'A12' 'A13'\n",
      " 'A14' 'A15' 'A16' 'A17' 'A18' 'A19' 'A20' 'A21' 'A22' 'A23' 'A24' 'A25'\n",
      " 'A26' 'A27' 'A28' 'A29' 'A30' 'A31' 'A32' 'A33' 'A34' 'A35' 'A36' 'A37'\n",
      " 'A38' 'A39' 'A40' 'A41' 'A42' 'A43' 'A44' 'A45' 'A46' 'A47' 'A48' 'A49'\n",
      " 'A50' 'A51' 'A52' 'A53' 'A54' 'A55' 'A56' 'A57' 'A58' 'A59' 'A60' 'A61'\n",
      " 'A62' 'A63' 'A64' 'A65' 'A66' 'A67' 'A68' 'A69' 'A70' 'A71' 'A72' 'A73'\n",
      " 'A74' 'A75' 'A76' 'A77' 'A78' 'A79' 'A80' 'A81' 'A82' 'A83' 'A84' 'A85'\n",
      " 'A86' 'A87' 'A88' 'A89' 'A90' 'A91' 'A92' 'A93' 'A94' 'A95' 'A96' 'A97'\n",
      " 'A98' 'A99' 'A100']\n"
     ]
    }
   ],
   "source": [
    "# to find unique customers\n",
    "unq_cust=cc_xls_0['Customer'].unique()\n",
    "print(unq_cust)"
   ]
  },
  {
   "cell_type": "code",
   "execution_count": 212,
   "id": "cdfca3f4",
   "metadata": {},
   "outputs": [],
   "source": [
    "# read for tab spend \n",
    "cc_xls_1=pd.read_excel(\"D:\\\\test_dir\\\\Bootcamp\\\\AAI DS Bootcamp - 01 Python - practise notebooks\\\\Credit Card Data.xlsx\",sheet_name= 1, parse_dates=True)"
   ]
  },
  {
   "cell_type": "code",
   "execution_count": 213,
   "id": "ca5c0117",
   "metadata": {},
   "outputs": [
    {
     "name": "stdout",
     "output_type": "stream",
     "text": [
      "<class 'pandas.core.frame.DataFrame'>\n",
      "RangeIndex: 1500 entries, 0 to 1499\n",
      "Data columns (total 5 columns):\n",
      " #   Column    Non-Null Count  Dtype         \n",
      "---  ------    --------------  -----         \n",
      " 0   Sl No:    1500 non-null   int64         \n",
      " 1   Customer  1500 non-null   object        \n",
      " 2   Month     1500 non-null   datetime64[ns]\n",
      " 3   Type      1500 non-null   object        \n",
      " 4   Amount    1500 non-null   float64       \n",
      "dtypes: datetime64[ns](1), float64(1), int64(1), object(2)\n",
      "memory usage: 58.7+ KB\n"
     ]
    }
   ],
   "source": [
    "cc_xls_1.info()"
   ]
  },
  {
   "cell_type": "code",
   "execution_count": 214,
   "id": "80246126",
   "metadata": {},
   "outputs": [],
   "source": [
    "cc_xls_1['Month']=pd.to_datetime(cc_xls_1['Month'])"
   ]
  },
  {
   "cell_type": "code",
   "execution_count": 215,
   "id": "f66b85ed",
   "metadata": {},
   "outputs": [
    {
     "name": "stdout",
     "output_type": "stream",
     "text": [
      "<class 'pandas.core.frame.DataFrame'>\n",
      "RangeIndex: 1500 entries, 0 to 1499\n",
      "Data columns (total 5 columns):\n",
      " #   Column    Non-Null Count  Dtype         \n",
      "---  ------    --------------  -----         \n",
      " 0   Sl No:    1500 non-null   int64         \n",
      " 1   Customer  1500 non-null   object        \n",
      " 2   Month     1500 non-null   datetime64[ns]\n",
      " 3   Type      1500 non-null   object        \n",
      " 4   Amount    1500 non-null   float64       \n",
      "dtypes: datetime64[ns](1), float64(1), int64(1), object(2)\n",
      "memory usage: 58.7+ KB\n"
     ]
    }
   ],
   "source": [
    "cc_xls_1.info()"
   ]
  },
  {
   "cell_type": "code",
   "execution_count": 216,
   "id": "e5a19fbd",
   "metadata": {},
   "outputs": [
    {
     "name": "stdout",
     "output_type": "stream",
     "text": [
      "['JEWELLERY' 'PETRO' 'CLOTHES' 'FOOD' 'CAMERA' 'SANDALS' 'CAR' 'BIKE'\n",
      " 'AUTO' 'SHOPPING' 'AIR TICKET' 'BUS TICKET' 'TRAIN TICKET' 'RENTAL'\n",
      " 'MOVIE TICKET']\n"
     ]
    },
    {
     "data": {
      "text/html": [
       "<div>\n",
       "<style scoped>\n",
       "    .dataframe tbody tr th:only-of-type {\n",
       "        vertical-align: middle;\n",
       "    }\n",
       "\n",
       "    .dataframe tbody tr th {\n",
       "        vertical-align: top;\n",
       "    }\n",
       "\n",
       "    .dataframe thead th {\n",
       "        text-align: right;\n",
       "    }\n",
       "</style>\n",
       "<table border=\"1\" class=\"dataframe\">\n",
       "  <thead>\n",
       "    <tr style=\"text-align: right;\">\n",
       "      <th></th>\n",
       "      <th>Amount</th>\n",
       "    </tr>\n",
       "    <tr>\n",
       "      <th>Type</th>\n",
       "      <th></th>\n",
       "    </tr>\n",
       "  </thead>\n",
       "  <tbody>\n",
       "    <tr>\n",
       "      <th>FOOD</th>\n",
       "      <td>341.17</td>\n",
       "    </tr>\n",
       "    <tr>\n",
       "      <th>PETRO</th>\n",
       "      <td>549.48</td>\n",
       "    </tr>\n",
       "    <tr>\n",
       "      <th>TRAIN TICKET</th>\n",
       "      <td>1627.49</td>\n",
       "    </tr>\n",
       "    <tr>\n",
       "      <th>MOVIE TICKET</th>\n",
       "      <td>1875.30</td>\n",
       "    </tr>\n",
       "    <tr>\n",
       "      <th>SANDALS</th>\n",
       "      <td>2516.63</td>\n",
       "    </tr>\n",
       "    <tr>\n",
       "      <th>SHOPPING</th>\n",
       "      <td>7394.33</td>\n",
       "    </tr>\n",
       "    <tr>\n",
       "      <th>BUS TICKET</th>\n",
       "      <td>12681.03</td>\n",
       "    </tr>\n",
       "    <tr>\n",
       "      <th>RENTAL</th>\n",
       "      <td>13106.51</td>\n",
       "    </tr>\n",
       "    <tr>\n",
       "      <th>CAMERA</th>\n",
       "      <td>21499.80</td>\n",
       "    </tr>\n",
       "    <tr>\n",
       "      <th>CLOTHES</th>\n",
       "      <td>25140.16</td>\n",
       "    </tr>\n",
       "    <tr>\n",
       "      <th>AUTO</th>\n",
       "      <td>27320.76</td>\n",
       "    </tr>\n",
       "    <tr>\n",
       "      <th>BIKE</th>\n",
       "      <td>210701.27</td>\n",
       "    </tr>\n",
       "    <tr>\n",
       "      <th>JEWELLERY</th>\n",
       "      <td>239218.69</td>\n",
       "    </tr>\n",
       "    <tr>\n",
       "      <th>AIR TICKET</th>\n",
       "      <td>254632.19</td>\n",
       "    </tr>\n",
       "    <tr>\n",
       "      <th>CAR</th>\n",
       "      <td>409143.47</td>\n",
       "    </tr>\n",
       "  </tbody>\n",
       "</table>\n",
       "</div>"
      ],
      "text/plain": [
       "                Amount\n",
       "Type                  \n",
       "FOOD            341.17\n",
       "PETRO           549.48\n",
       "TRAIN TICKET   1627.49\n",
       "MOVIE TICKET   1875.30\n",
       "SANDALS        2516.63\n",
       "SHOPPING       7394.33\n",
       "BUS TICKET    12681.03\n",
       "RENTAL        13106.51\n",
       "CAMERA        21499.80\n",
       "CLOTHES       25140.16\n",
       "AUTO          27320.76\n",
       "BIKE         210701.27\n",
       "JEWELLERY    239218.69\n",
       "AIR TICKET   254632.19\n",
       "CAR          409143.47"
      ]
     },
     "execution_count": 216,
     "metadata": {},
     "output_type": "execute_result"
    }
   ],
   "source": [
    "#Categories\n",
    "#Ranked categorywise average spend \n",
    "print(cc_xls_1['Type'].unique())\n",
    "cat_spend=cc_xls_1.groupby('Type').mean('Amount')\n",
    "cat_spend.drop('Sl No:',axis=1,inplace=True)\n",
    "cat_spend.sort_values('Amount',ascending=True)"
   ]
  },
  {
   "cell_type": "code",
   "execution_count": 217,
   "id": "a4d0aaa3",
   "metadata": {},
   "outputs": [],
   "source": [
    "# make a new columns based on month and year \n",
    "cc_xls_1['mm'] = pd.DatetimeIndex(cc_xls_1['Month']).month\n",
    "cc_xls_1['yy']=pd.DatetimeIndex(cc_xls_1['Month']).year\n",
    "cc_xls_1.drop('Sl No:',axis=1,inplace=True)"
   ]
  },
  {
   "cell_type": "code",
   "execution_count": 218,
   "id": "cf273c90",
   "metadata": {},
   "outputs": [
    {
     "data": {
      "text/html": [
       "<div>\n",
       "<style scoped>\n",
       "    .dataframe tbody tr th:only-of-type {\n",
       "        vertical-align: middle;\n",
       "    }\n",
       "\n",
       "    .dataframe tbody tr th {\n",
       "        vertical-align: top;\n",
       "    }\n",
       "\n",
       "    .dataframe thead th {\n",
       "        text-align: right;\n",
       "    }\n",
       "</style>\n",
       "<table border=\"1\" class=\"dataframe\">\n",
       "  <thead>\n",
       "    <tr style=\"text-align: right;\">\n",
       "      <th></th>\n",
       "      <th>Customer</th>\n",
       "      <th>Month</th>\n",
       "      <th>Type</th>\n",
       "      <th>Amount</th>\n",
       "      <th>mm</th>\n",
       "      <th>yy</th>\n",
       "    </tr>\n",
       "  </thead>\n",
       "  <tbody>\n",
       "    <tr>\n",
       "      <th>0</th>\n",
       "      <td>A1</td>\n",
       "      <td>2004-01-12</td>\n",
       "      <td>JEWELLERY</td>\n",
       "      <td>344054.98</td>\n",
       "      <td>1</td>\n",
       "      <td>2004</td>\n",
       "    </tr>\n",
       "    <tr>\n",
       "      <th>1</th>\n",
       "      <td>A1</td>\n",
       "      <td>2004-01-03</td>\n",
       "      <td>PETRO</td>\n",
       "      <td>935.50</td>\n",
       "      <td>1</td>\n",
       "      <td>2004</td>\n",
       "    </tr>\n",
       "    <tr>\n",
       "      <th>2</th>\n",
       "      <td>A1</td>\n",
       "      <td>2004-01-15</td>\n",
       "      <td>CLOTHES</td>\n",
       "      <td>8687.90</td>\n",
       "      <td>1</td>\n",
       "      <td>2004</td>\n",
       "    </tr>\n",
       "    <tr>\n",
       "      <th>3</th>\n",
       "      <td>A1</td>\n",
       "      <td>2004-01-25</td>\n",
       "      <td>FOOD</td>\n",
       "      <td>341.16</td>\n",
       "      <td>1</td>\n",
       "      <td>2004</td>\n",
       "    </tr>\n",
       "    <tr>\n",
       "      <th>...</th>\n",
       "      <td>...</td>\n",
       "      <td>...</td>\n",
       "      <td>...</td>\n",
       "      <td>...</td>\n",
       "      <td>...</td>\n",
       "      <td>...</td>\n",
       "    </tr>\n",
       "    <tr>\n",
       "      <th>1496</th>\n",
       "      <td>A68</td>\n",
       "      <td>2006-03-25</td>\n",
       "      <td>BUS TICKET</td>\n",
       "      <td>22218.20</td>\n",
       "      <td>3</td>\n",
       "      <td>2006</td>\n",
       "    </tr>\n",
       "    <tr>\n",
       "      <th>1497</th>\n",
       "      <td>A69</td>\n",
       "      <td>2006-03-31</td>\n",
       "      <td>BUS TICKET</td>\n",
       "      <td>10004.91</td>\n",
       "      <td>3</td>\n",
       "      <td>2006</td>\n",
       "    </tr>\n",
       "    <tr>\n",
       "      <th>1498</th>\n",
       "      <td>A70</td>\n",
       "      <td>2006-03-23</td>\n",
       "      <td>BUS TICKET</td>\n",
       "      <td>31630.83</td>\n",
       "      <td>3</td>\n",
       "      <td>2006</td>\n",
       "    </tr>\n",
       "    <tr>\n",
       "      <th>1499</th>\n",
       "      <td>A71</td>\n",
       "      <td>2006-03-24</td>\n",
       "      <td>BUS TICKET</td>\n",
       "      <td>33048.37</td>\n",
       "      <td>3</td>\n",
       "      <td>2006</td>\n",
       "    </tr>\n",
       "  </tbody>\n",
       "</table>\n",
       "<p>1500 rows × 6 columns</p>\n",
       "</div>"
      ],
      "text/plain": [
       "     Customer      Month        Type    Amount  mm    yy\n",
       "0          A1 2004-01-12   JEWELLERY 344054.98   1  2004\n",
       "1          A1 2004-01-03       PETRO    935.50   1  2004\n",
       "2          A1 2004-01-15     CLOTHES   8687.90   1  2004\n",
       "3          A1 2004-01-25        FOOD    341.16   1  2004\n",
       "...       ...        ...         ...       ...  ..   ...\n",
       "1496      A68 2006-03-25  BUS TICKET  22218.20   3  2006\n",
       "1497      A69 2006-03-31  BUS TICKET  10004.91   3  2006\n",
       "1498      A70 2006-03-23  BUS TICKET  31630.83   3  2006\n",
       "1499      A71 2006-03-24  BUS TICKET  33048.37   3  2006\n",
       "\n",
       "[1500 rows x 6 columns]"
      ]
     },
     "execution_count": 218,
     "metadata": {},
     "output_type": "execute_result"
    }
   ],
   "source": [
    "cc_xls_1"
   ]
  },
  {
   "cell_type": "code",
   "execution_count": 219,
   "id": "c46d6f9d",
   "metadata": {},
   "outputs": [],
   "source": [
    "pd.set_option('display.float_format',lambda x: '%.2f' % x)"
   ]
  },
  {
   "cell_type": "code",
   "execution_count": 220,
   "id": "ac75223d",
   "metadata": {},
   "outputs": [
    {
     "name": "stdout",
     "output_type": "stream",
     "text": [
      "yy    Type        \n",
      "2004  AIR TICKET      715160.93\n",
      "      AUTO              4065.07\n",
      "      BIKE             76346.65\n",
      "      BUS TICKET       35397.17\n",
      "      CAMERA          111773.35\n",
      "      CAR             447106.19\n",
      "      CLOTHES          51937.64\n",
      "      FOOD              1633.56\n",
      "      JEWELLERY       507969.00\n",
      "      MOVIE TICKET      1518.97\n",
      "      PETRO             2329.79\n",
      "      RENTAL           21635.01\n",
      "      SANDALS           1279.22\n",
      "      SHOPPING         29827.02\n",
      "      TRAIN TICKET      3534.60\n",
      "2005  AIR TICKET     1129482.44\n",
      "      AUTO             20520.30\n",
      "      BIKE            394218.34\n",
      "      BUS TICKET       36833.80\n",
      "      CAMERA           96675.16\n",
      "      CAR             123598.78\n",
      "      CLOTHES          65127.75\n",
      "      FOOD              1368.21\n",
      "      JEWELLERY       681538.22\n",
      "      MOVIE TICKET      4547.34\n",
      "      PETRO             3701.57\n",
      "      RENTAL           31408.86\n",
      "      SANDALS           2109.52\n",
      "      SHOPPING         20449.62\n",
      "      TRAIN TICKET      7326.05\n",
      "2006  AIR TICKET     1274601.01\n",
      "      AUTO             66483.84\n",
      "      BIKE            389798.53\n",
      "      BUS TICKET       32387.53\n",
      "      CAMERA           78215.52\n",
      "      CAR             452153.70\n",
      "      CLOTHES          81960.88\n",
      "      FOOD              1547.14\n",
      "      JEWELLERY       704307.39\n",
      "      MOVIE TICKET      5810.58\n",
      "      PETRO             3126.70\n",
      "      RENTAL           29964.03\n",
      "      SANDALS           2483.39\n",
      "      SHOPPING         19353.32\n",
      "      TRAIN TICKET      7041.74\n",
      "Name: Amount, dtype: float64\n"
     ]
    }
   ],
   "source": [
    "yr_cat_av_month_spend=cc_xls_1.groupby(['yy','Type']).sum('Amount')/12\n",
    "print(yr_cat_av_month_spend['Amount'])"
   ]
  },
  {
   "cell_type": "code",
   "execution_count": 221,
   "id": "afb29d3b",
   "metadata": {
    "scrolled": true
   },
   "outputs": [
    {
     "data": {
      "text/html": [
       "<div>\n",
       "<style scoped>\n",
       "    .dataframe tbody tr th:only-of-type {\n",
       "        vertical-align: middle;\n",
       "    }\n",
       "\n",
       "    .dataframe tbody tr th {\n",
       "        vertical-align: top;\n",
       "    }\n",
       "\n",
       "    .dataframe thead th {\n",
       "        text-align: right;\n",
       "    }\n",
       "</style>\n",
       "<table border=\"1\" class=\"dataframe\">\n",
       "  <thead>\n",
       "    <tr style=\"text-align: right;\">\n",
       "      <th>mm</th>\n",
       "      <th>1</th>\n",
       "      <th>2</th>\n",
       "      <th>3</th>\n",
       "      <th>4</th>\n",
       "      <th>5</th>\n",
       "      <th>6</th>\n",
       "      <th>7</th>\n",
       "      <th>8</th>\n",
       "      <th>9</th>\n",
       "      <th>10</th>\n",
       "      <th>11</th>\n",
       "      <th>12</th>\n",
       "    </tr>\n",
       "    <tr>\n",
       "      <th>Type</th>\n",
       "      <th></th>\n",
       "      <th></th>\n",
       "      <th></th>\n",
       "      <th></th>\n",
       "      <th></th>\n",
       "      <th></th>\n",
       "      <th></th>\n",
       "      <th></th>\n",
       "      <th></th>\n",
       "      <th></th>\n",
       "      <th></th>\n",
       "      <th></th>\n",
       "    </tr>\n",
       "  </thead>\n",
       "  <tbody>\n",
       "    <tr>\n",
       "      <th>AIR TICKET</th>\n",
       "      <td>272151.76</td>\n",
       "      <td>226079.39</td>\n",
       "      <td>286005.08</td>\n",
       "      <td>255372.02</td>\n",
       "      <td>265359.44</td>\n",
       "      <td>205072.72</td>\n",
       "      <td>337515.79</td>\n",
       "      <td>277366.65</td>\n",
       "      <td>292399.75</td>\n",
       "      <td>213797.64</td>\n",
       "      <td>187761.57</td>\n",
       "      <td>94397.46</td>\n",
       "    </tr>\n",
       "    <tr>\n",
       "      <th>AUTO</th>\n",
       "      <td>16260.27</td>\n",
       "      <td>34280.59</td>\n",
       "      <td>31014.27</td>\n",
       "      <td>39690.40</td>\n",
       "      <td>21505.87</td>\n",
       "      <td>NaN</td>\n",
       "      <td>NaN</td>\n",
       "      <td>NaN</td>\n",
       "      <td>NaN</td>\n",
       "      <td>NaN</td>\n",
       "      <td>25194.89</td>\n",
       "      <td>1824.41</td>\n",
       "    </tr>\n",
       "    <tr>\n",
       "      <th>BIKE</th>\n",
       "      <td>204153.23</td>\n",
       "      <td>136446.82</td>\n",
       "      <td>283637.43</td>\n",
       "      <td>148895.84</td>\n",
       "      <td>187850.43</td>\n",
       "      <td>NaN</td>\n",
       "      <td>NaN</td>\n",
       "      <td>NaN</td>\n",
       "      <td>NaN</td>\n",
       "      <td>NaN</td>\n",
       "      <td>271992.78</td>\n",
       "      <td>NaN</td>\n",
       "    </tr>\n",
       "    <tr>\n",
       "      <th>BUS TICKET</th>\n",
       "      <td>10181.61</td>\n",
       "      <td>19792.88</td>\n",
       "      <td>14994.27</td>\n",
       "      <td>10592.41</td>\n",
       "      <td>9407.59</td>\n",
       "      <td>12374.42</td>\n",
       "      <td>1762.55</td>\n",
       "      <td>21678.22</td>\n",
       "      <td>4813.98</td>\n",
       "      <td>4326.49</td>\n",
       "      <td>9669.47</td>\n",
       "      <td>NaN</td>\n",
       "    </tr>\n",
       "    <tr>\n",
       "      <th>CAMERA</th>\n",
       "      <td>21392.13</td>\n",
       "      <td>15697.42</td>\n",
       "      <td>21417.34</td>\n",
       "      <td>20911.75</td>\n",
       "      <td>20253.45</td>\n",
       "      <td>21912.07</td>\n",
       "      <td>24869.45</td>\n",
       "      <td>29223.32</td>\n",
       "      <td>32782.09</td>\n",
       "      <td>NaN</td>\n",
       "      <td>16338.03</td>\n",
       "      <td>NaN</td>\n",
       "    </tr>\n",
       "    <tr>\n",
       "      <th>CAR</th>\n",
       "      <td>369868.57</td>\n",
       "      <td>891575.91</td>\n",
       "      <td>397509.35</td>\n",
       "      <td>123053.08</td>\n",
       "      <td>361677.78</td>\n",
       "      <td>NaN</td>\n",
       "      <td>NaN</td>\n",
       "      <td>NaN</td>\n",
       "      <td>389408.87</td>\n",
       "      <td>333026.81</td>\n",
       "      <td>459281.33</td>\n",
       "      <td>NaN</td>\n",
       "    </tr>\n",
       "    <tr>\n",
       "      <th>CLOTHES</th>\n",
       "      <td>21656.12</td>\n",
       "      <td>24939.44</td>\n",
       "      <td>28218.62</td>\n",
       "      <td>31159.42</td>\n",
       "      <td>23423.02</td>\n",
       "      <td>44392.93</td>\n",
       "      <td>NaN</td>\n",
       "      <td>NaN</td>\n",
       "      <td>21892.01</td>\n",
       "      <td>NaN</td>\n",
       "      <td>26346.87</td>\n",
       "      <td>18372.14</td>\n",
       "    </tr>\n",
       "    <tr>\n",
       "      <th>FOOD</th>\n",
       "      <td>350.14</td>\n",
       "      <td>308.24</td>\n",
       "      <td>344.34</td>\n",
       "      <td>337.90</td>\n",
       "      <td>349.61</td>\n",
       "      <td>293.08</td>\n",
       "      <td>486.54</td>\n",
       "      <td>358.19</td>\n",
       "      <td>330.85</td>\n",
       "      <td>296.45</td>\n",
       "      <td>250.58</td>\n",
       "      <td>327.88</td>\n",
       "    </tr>\n",
       "    <tr>\n",
       "      <th>JEWELLERY</th>\n",
       "      <td>274719.35</td>\n",
       "      <td>260053.60</td>\n",
       "      <td>156772.08</td>\n",
       "      <td>242806.97</td>\n",
       "      <td>180438.44</td>\n",
       "      <td>322625.84</td>\n",
       "      <td>101116.28</td>\n",
       "      <td>NaN</td>\n",
       "      <td>278895.08</td>\n",
       "      <td>199723.74</td>\n",
       "      <td>434209.47</td>\n",
       "      <td>459681.33</td>\n",
       "    </tr>\n",
       "    <tr>\n",
       "      <th>MOVIE TICKET</th>\n",
       "      <td>1648.48</td>\n",
       "      <td>2304.71</td>\n",
       "      <td>1941.25</td>\n",
       "      <td>2060.72</td>\n",
       "      <td>1800.84</td>\n",
       "      <td>638.50</td>\n",
       "      <td>NaN</td>\n",
       "      <td>2866.79</td>\n",
       "      <td>1177.04</td>\n",
       "      <td>3255.54</td>\n",
       "      <td>1542.34</td>\n",
       "      <td>3680.15</td>\n",
       "    </tr>\n",
       "    <tr>\n",
       "      <th>PETRO</th>\n",
       "      <td>560.33</td>\n",
       "      <td>545.71</td>\n",
       "      <td>579.69</td>\n",
       "      <td>422.68</td>\n",
       "      <td>586.00</td>\n",
       "      <td>472.98</td>\n",
       "      <td>664.23</td>\n",
       "      <td>532.53</td>\n",
       "      <td>509.63</td>\n",
       "      <td>604.28</td>\n",
       "      <td>587.98</td>\n",
       "      <td>359.46</td>\n",
       "    </tr>\n",
       "    <tr>\n",
       "      <th>RENTAL</th>\n",
       "      <td>13808.19</td>\n",
       "      <td>12971.97</td>\n",
       "      <td>12742.97</td>\n",
       "      <td>15288.59</td>\n",
       "      <td>11212.37</td>\n",
       "      <td>NaN</td>\n",
       "      <td>23881.33</td>\n",
       "      <td>14880.83</td>\n",
       "      <td>10064.24</td>\n",
       "      <td>9945.45</td>\n",
       "      <td>9650.36</td>\n",
       "      <td>11981.72</td>\n",
       "    </tr>\n",
       "    <tr>\n",
       "      <th>SANDALS</th>\n",
       "      <td>1747.37</td>\n",
       "      <td>1977.53</td>\n",
       "      <td>3345.37</td>\n",
       "      <td>2090.23</td>\n",
       "      <td>746.61</td>\n",
       "      <td>NaN</td>\n",
       "      <td>NaN</td>\n",
       "      <td>2710.55</td>\n",
       "      <td>2732.14</td>\n",
       "      <td>NaN</td>\n",
       "      <td>3378.69</td>\n",
       "      <td>3038.05</td>\n",
       "    </tr>\n",
       "    <tr>\n",
       "      <th>SHOPPING</th>\n",
       "      <td>8374.80</td>\n",
       "      <td>6741.94</td>\n",
       "      <td>7530.92</td>\n",
       "      <td>6869.57</td>\n",
       "      <td>9117.85</td>\n",
       "      <td>7427.83</td>\n",
       "      <td>NaN</td>\n",
       "      <td>4474.52</td>\n",
       "      <td>NaN</td>\n",
       "      <td>8715.27</td>\n",
       "      <td>6089.72</td>\n",
       "      <td>NaN</td>\n",
       "    </tr>\n",
       "    <tr>\n",
       "      <th>TRAIN TICKET</th>\n",
       "      <td>2140.49</td>\n",
       "      <td>1474.02</td>\n",
       "      <td>1354.72</td>\n",
       "      <td>1848.57</td>\n",
       "      <td>1672.67</td>\n",
       "      <td>2768.85</td>\n",
       "      <td>1715.92</td>\n",
       "      <td>1510.01</td>\n",
       "      <td>1323.51</td>\n",
       "      <td>419.18</td>\n",
       "      <td>1672.83</td>\n",
       "      <td>720.26</td>\n",
       "    </tr>\n",
       "  </tbody>\n",
       "</table>\n",
       "</div>"
      ],
      "text/plain": [
       "mm                  1         2         3         4         5         6         7         8         9         10        11        12\n",
       "Type                                                                                                                                \n",
       "AIR TICKET   272151.76 226079.39 286005.08 255372.02 265359.44 205072.72 337515.79 277366.65 292399.75 213797.64 187761.57  94397.46\n",
       "AUTO          16260.27  34280.59  31014.27  39690.40  21505.87       NaN       NaN       NaN       NaN       NaN  25194.89   1824.41\n",
       "BIKE         204153.23 136446.82 283637.43 148895.84 187850.43       NaN       NaN       NaN       NaN       NaN 271992.78       NaN\n",
       "BUS TICKET    10181.61  19792.88  14994.27  10592.41   9407.59  12374.42   1762.55  21678.22   4813.98   4326.49   9669.47       NaN\n",
       "CAMERA        21392.13  15697.42  21417.34  20911.75  20253.45  21912.07  24869.45  29223.32  32782.09       NaN  16338.03       NaN\n",
       "CAR          369868.57 891575.91 397509.35 123053.08 361677.78       NaN       NaN       NaN 389408.87 333026.81 459281.33       NaN\n",
       "CLOTHES       21656.12  24939.44  28218.62  31159.42  23423.02  44392.93       NaN       NaN  21892.01       NaN  26346.87  18372.14\n",
       "FOOD            350.14    308.24    344.34    337.90    349.61    293.08    486.54    358.19    330.85    296.45    250.58    327.88\n",
       "JEWELLERY    274719.35 260053.60 156772.08 242806.97 180438.44 322625.84 101116.28       NaN 278895.08 199723.74 434209.47 459681.33\n",
       "MOVIE TICKET   1648.48   2304.71   1941.25   2060.72   1800.84    638.50       NaN   2866.79   1177.04   3255.54   1542.34   3680.15\n",
       "PETRO           560.33    545.71    579.69    422.68    586.00    472.98    664.23    532.53    509.63    604.28    587.98    359.46\n",
       "RENTAL        13808.19  12971.97  12742.97  15288.59  11212.37       NaN  23881.33  14880.83  10064.24   9945.45   9650.36  11981.72\n",
       "SANDALS        1747.37   1977.53   3345.37   2090.23    746.61       NaN       NaN   2710.55   2732.14       NaN   3378.69   3038.05\n",
       "SHOPPING       8374.80   6741.94   7530.92   6869.57   9117.85   7427.83       NaN   4474.52       NaN   8715.27   6089.72       NaN\n",
       "TRAIN TICKET   2140.49   1474.02   1354.72   1848.57   1672.67   2768.85   1715.92   1510.01   1323.51    419.18   1672.83    720.26"
      ]
     },
     "execution_count": 221,
     "metadata": {},
     "output_type": "execute_result"
    }
   ],
   "source": [
    "# on categories, average Month spend ( 1=Jan, 2=Feb, 3=Mar...)\n",
    "\n",
    "pd.crosstab(cc_xls_1.Type,cc_xls_1.mm,values=cc_xls_1.Amount, aggfunc='mean')"
   ]
  },
  {
   "cell_type": "code",
   "execution_count": 222,
   "id": "9d25ab0f",
   "metadata": {},
   "outputs": [
    {
     "name": "stdout",
     "output_type": "stream",
     "text": [
      "             Amount\n",
      "                sum\n",
      "Customer           \n",
      "A1       2202653.18\n",
      "A10       319527.63\n",
      "A100        4625.13\n",
      "A11      1169124.17\n",
      "...             ...\n",
      "A96        94369.18\n",
      "A97        13440.47\n",
      "A98        12746.03\n",
      "A99       108137.20\n",
      "\n",
      "[100 rows x 1 columns]\n"
     ]
    }
   ],
   "source": [
    "#Agrregrate Customer wise gross spend\n",
    "cust_GrossSpend=cc_xls_1.groupby('Customer').agg({'Amount':[np.sum]})\n",
    "print(cust_GrossSpend)"
   ]
  },
  {
   "cell_type": "code",
   "execution_count": 223,
   "id": "ad0b20a2",
   "metadata": {},
   "outputs": [],
   "source": [
    "cc_xls_2=pd.read_excel(\"D:\\\\test_dir\\\\Bootcamp\\\\AAI DS Bootcamp - 01 Python - practise notebooks\\\\Credit Card Data.xlsx\",sheet_name= 2, parse_dates=True)"
   ]
  },
  {
   "cell_type": "code",
   "execution_count": 224,
   "id": "d5a49caa",
   "metadata": {},
   "outputs": [
    {
     "name": "stdout",
     "output_type": "stream",
     "text": [
      "<class 'pandas.core.frame.DataFrame'>\n",
      "RangeIndex: 807 entries, 0 to 806\n",
      "Data columns (total 4 columns):\n",
      " #   Column    Non-Null Count  Dtype         \n",
      "---  ------    --------------  -----         \n",
      " 0   SL No:    807 non-null    int64         \n",
      " 1   Customer  807 non-null    object        \n",
      " 2   Month     803 non-null    datetime64[ns]\n",
      " 3   Amount    807 non-null    float64       \n",
      "dtypes: datetime64[ns](1), float64(1), int64(1), object(1)\n",
      "memory usage: 25.3+ KB\n"
     ]
    }
   ],
   "source": [
    "cc_xls_2.info()"
   ]
  },
  {
   "cell_type": "code",
   "execution_count": 225,
   "id": "4a17c527",
   "metadata": {},
   "outputs": [],
   "source": [
    "cc_xls_2['Month']=pd.to_datetime(cc_xls_2['Month'])"
   ]
  },
  {
   "cell_type": "code",
   "execution_count": 226,
   "id": "c32f15ba",
   "metadata": {},
   "outputs": [
    {
     "data": {
      "text/html": [
       "<div>\n",
       "<style scoped>\n",
       "    .dataframe tbody tr th:only-of-type {\n",
       "        vertical-align: middle;\n",
       "    }\n",
       "\n",
       "    .dataframe tbody tr th {\n",
       "        vertical-align: top;\n",
       "    }\n",
       "\n",
       "    .dataframe thead th {\n",
       "        text-align: right;\n",
       "    }\n",
       "</style>\n",
       "<table border=\"1\" class=\"dataframe\">\n",
       "  <thead>\n",
       "    <tr style=\"text-align: right;\">\n",
       "      <th></th>\n",
       "      <th>SL No:</th>\n",
       "      <th>Customer</th>\n",
       "      <th>Month</th>\n",
       "      <th>Amount</th>\n",
       "    </tr>\n",
       "  </thead>\n",
       "  <tbody>\n",
       "    <tr>\n",
       "      <th>0</th>\n",
       "      <td>1</td>\n",
       "      <td>A1</td>\n",
       "      <td>2006-05-15</td>\n",
       "      <td>230847.25</td>\n",
       "    </tr>\n",
       "    <tr>\n",
       "      <th>1</th>\n",
       "      <td>2</td>\n",
       "      <td>A1</td>\n",
       "      <td>2005-08-27</td>\n",
       "      <td>1835.12</td>\n",
       "    </tr>\n",
       "    <tr>\n",
       "      <th>2</th>\n",
       "      <td>3</td>\n",
       "      <td>A1</td>\n",
       "      <td>2004-03-07</td>\n",
       "      <td>4858.70</td>\n",
       "    </tr>\n",
       "    <tr>\n",
       "      <th>3</th>\n",
       "      <td>4</td>\n",
       "      <td>A1</td>\n",
       "      <td>2005-03-01</td>\n",
       "      <td>1360526.91</td>\n",
       "    </tr>\n",
       "    <tr>\n",
       "      <th>...</th>\n",
       "      <td>...</td>\n",
       "      <td>...</td>\n",
       "      <td>...</td>\n",
       "      <td>...</td>\n",
       "    </tr>\n",
       "    <tr>\n",
       "      <th>803</th>\n",
       "      <td>804</td>\n",
       "      <td>A96</td>\n",
       "      <td>2004-01-26</td>\n",
       "      <td>50619.18</td>\n",
       "    </tr>\n",
       "    <tr>\n",
       "      <th>804</th>\n",
       "      <td>805</td>\n",
       "      <td>A97</td>\n",
       "      <td>2004-02-02</td>\n",
       "      <td>5186.47</td>\n",
       "    </tr>\n",
       "    <tr>\n",
       "      <th>805</th>\n",
       "      <td>806</td>\n",
       "      <td>A98</td>\n",
       "      <td>2004-02-05</td>\n",
       "      <td>12746.03</td>\n",
       "    </tr>\n",
       "    <tr>\n",
       "      <th>806</th>\n",
       "      <td>807</td>\n",
       "      <td>A99</td>\n",
       "      <td>2004-02-04</td>\n",
       "      <td>108137.20</td>\n",
       "    </tr>\n",
       "  </tbody>\n",
       "</table>\n",
       "<p>807 rows × 4 columns</p>\n",
       "</div>"
      ],
      "text/plain": [
       "     SL No: Customer      Month     Amount\n",
       "0         1       A1 2006-05-15  230847.25\n",
       "1         2       A1 2005-08-27    1835.12\n",
       "2         3       A1 2004-03-07    4858.70\n",
       "3         4       A1 2005-03-01 1360526.91\n",
       "..      ...      ...        ...        ...\n",
       "803     804      A96 2004-01-26   50619.18\n",
       "804     805      A97 2004-02-02    5186.47\n",
       "805     806      A98 2004-02-05   12746.03\n",
       "806     807      A99 2004-02-04  108137.20\n",
       "\n",
       "[807 rows x 4 columns]"
      ]
     },
     "execution_count": 226,
     "metadata": {},
     "output_type": "execute_result"
    }
   ],
   "source": [
    "cc_xls_2"
   ]
  },
  {
   "cell_type": "code",
   "execution_count": 227,
   "id": "8b8a2d97",
   "metadata": {},
   "outputs": [
    {
     "data": {
      "text/html": [
       "<div>\n",
       "<style scoped>\n",
       "    .dataframe tbody tr th:only-of-type {\n",
       "        vertical-align: middle;\n",
       "    }\n",
       "\n",
       "    .dataframe tbody tr th {\n",
       "        vertical-align: top;\n",
       "    }\n",
       "\n",
       "    .dataframe thead th {\n",
       "        text-align: right;\n",
       "    }\n",
       "</style>\n",
       "<table border=\"1\" class=\"dataframe\">\n",
       "  <thead>\n",
       "    <tr style=\"text-align: right;\">\n",
       "      <th></th>\n",
       "      <th>SL No:</th>\n",
       "      <th>Customer</th>\n",
       "      <th>Month</th>\n",
       "      <th>Amount</th>\n",
       "    </tr>\n",
       "  </thead>\n",
       "  <tbody>\n",
       "    <tr>\n",
       "      <th>274</th>\n",
       "      <td>275</td>\n",
       "      <td>A29</td>\n",
       "      <td>NaT</td>\n",
       "      <td>139343.95</td>\n",
       "    </tr>\n",
       "    <tr>\n",
       "      <th>299</th>\n",
       "      <td>300</td>\n",
       "      <td>A30</td>\n",
       "      <td>NaT</td>\n",
       "      <td>75520.70</td>\n",
       "    </tr>\n",
       "    <tr>\n",
       "      <th>418</th>\n",
       "      <td>419</td>\n",
       "      <td>A40</td>\n",
       "      <td>NaT</td>\n",
       "      <td>4203.40</td>\n",
       "    </tr>\n",
       "    <tr>\n",
       "      <th>789</th>\n",
       "      <td>790</td>\n",
       "      <td>A9</td>\n",
       "      <td>NaT</td>\n",
       "      <td>20150.64</td>\n",
       "    </tr>\n",
       "  </tbody>\n",
       "</table>\n",
       "</div>"
      ],
      "text/plain": [
       "     SL No: Customer Month    Amount\n",
       "274     275      A29   NaT 139343.95\n",
       "299     300      A30   NaT  75520.70\n",
       "418     419      A40   NaT   4203.40\n",
       "789     790       A9   NaT  20150.64"
      ]
     },
     "execution_count": 227,
     "metadata": {},
     "output_type": "execute_result"
    }
   ],
   "source": [
    "#find the Month places do not have values or NaT\n",
    "cc_xls_2[cc_xls_2['Month'].isnull()]\n"
   ]
  },
  {
   "cell_type": "code",
   "execution_count": 228,
   "id": "9a3e7356",
   "metadata": {},
   "outputs": [],
   "source": [
    "cc_xls_2.drop('SL No:',axis=1,inplace=True)"
   ]
  },
  {
   "cell_type": "code",
   "execution_count": 229,
   "id": "19d8c71d",
   "metadata": {},
   "outputs": [
    {
     "name": "stdout",
     "output_type": "stream",
     "text": [
      "             Amount\n",
      "                sum\n",
      "Customer           \n",
      "A1       1798150.18\n",
      "A10       159960.63\n",
      "A100        4625.13\n",
      "A11      1127754.17\n",
      "...             ...\n",
      "A96        50619.18\n",
      "A97         5186.47\n",
      "A98        12746.03\n",
      "A99       108137.20\n",
      "\n",
      "[100 rows x 1 columns]\n"
     ]
    }
   ],
   "source": [
    "cust_GrossPayment=cc_xls_2.groupby('Customer').agg({'Amount':[np.sum]})\n",
    "print(cust_GrossPayment)"
   ]
  },
  {
   "cell_type": "code",
   "execution_count": 230,
   "id": "a15924b7",
   "metadata": {},
   "outputs": [
    {
     "name": "stdout",
     "output_type": "stream",
     "text": [
      "     No Customer   Age        City   Product    Limit Company        Segment  (Amount, sum)\n",
      "0     1       A1 47.00   BANGALORE      Gold  1500000      C1  Self Employed     2202653.18\n",
      "1     2       A2 56.00    CALCUTTA    Silver   300000      C2   Salaried_MNC      175463.27\n",
      "2     3       A3 30.00      COCHIN  Platimum   540000      C3   Salaried_Pvt      533443.09\n",
      "3     4       A4 22.00      BOMBAY  Platimum   840084      C4           Govt      904660.07\n",
      "..  ...      ...   ...         ...       ...      ...     ...            ...            ...\n",
      "96   97      A97 75.00  TRIVANDRUM  Platimum    30000     C20           Govt       13440.47\n",
      "97   98      A98 29.00    CALCUTTA  Platimum    30000     C21  Normal Salary       12746.03\n",
      "98   99      A99 59.00    CALCUTTA  Platimum   120000     C22  Self Employed      108137.20\n",
      "99  100     A100 55.00      COCHIN    Silver   100000      C5   Salaried_MNC        4625.13\n",
      "\n",
      "[100 rows x 9 columns]\n"
     ]
    }
   ],
   "source": [
    "#merged df , Customer Details , Gross Send , Gross Payment \n",
    "cust_merge=pd.merge(cc_xls_0, cust_GrossSpend,how='left',left_on='Customer',right_on='Customer' )\n",
    "print(cust_merge)"
   ]
  },
  {
   "cell_type": "code",
   "execution_count": 231,
   "id": "626009d6",
   "metadata": {},
   "outputs": [
    {
     "name": "stdout",
     "output_type": "stream",
     "text": [
      "     No Customer   Age        City   Product    Limit Company        Segment  ('Amount', 'sum')_x  (Amount, sum)\n",
      "0     1       A1 47.00   BANGALORE      Gold  1500000      C1  Self Employed           2202653.18     1798150.18\n",
      "1     2       A2 56.00    CALCUTTA    Silver   300000      C2   Salaried_MNC            175463.27       92325.27\n",
      "2     3       A3 30.00      COCHIN  Platimum   540000      C3   Salaried_Pvt            533443.09      531399.09\n",
      "3     4       A4 22.00      BOMBAY  Platimum   840084      C4           Govt            904660.07      891531.07\n",
      "..  ...      ...   ...         ...       ...      ...     ...            ...                  ...            ...\n",
      "96   97      A97 75.00  TRIVANDRUM  Platimum    30000     C20           Govt             13440.47        5186.47\n",
      "97   98      A98 29.00    CALCUTTA  Platimum    30000     C21  Normal Salary             12746.03       12746.03\n",
      "98   99      A99 59.00    CALCUTTA  Platimum   120000     C22  Self Employed            108137.20      108137.20\n",
      "99  100     A100 55.00      COCHIN    Silver   100000      C5   Salaried_MNC              4625.13        4625.13\n",
      "\n",
      "[100 rows x 10 columns]\n"
     ]
    }
   ],
   "source": [
    "#unfied datafram with customer Gross Spend and Gross payment\n",
    "cust_merge=pd.merge(cust_merge, cust_GrossPayment,how='left',left_on='Customer',right_on='Customer' )\n",
    "print(cust_merge)"
   ]
  },
  {
   "cell_type": "code",
   "execution_count": 232,
   "id": "ad27dfb5",
   "metadata": {},
   "outputs": [
    {
     "data": {
      "text/plain": [
       "['No',\n",
       " 'Customer',\n",
       " 'Age',\n",
       " 'City',\n",
       " 'Product',\n",
       " 'Limit',\n",
       " 'Company',\n",
       " 'Segment',\n",
       " \"('Amount', 'sum')_x\",\n",
       " ('Amount', 'sum')]"
      ]
     },
     "execution_count": 232,
     "metadata": {},
     "output_type": "execute_result"
    }
   ],
   "source": [
    "list(cust_merge)"
   ]
  },
  {
   "cell_type": "code",
   "execution_count": 233,
   "id": "df32d037",
   "metadata": {},
   "outputs": [],
   "source": [
    "cust_merge.columns=['No',\n",
    " 'Customer',\n",
    " 'Age',\n",
    " 'City',\n",
    " 'Product',\n",
    " 'Limit',\n",
    " 'Company',\n",
    " 'Segment',\n",
    " 'GrossPurchase','GrossPayment']"
   ]
  },
  {
   "cell_type": "code",
   "execution_count": 234,
   "id": "1e3ccc7a",
   "metadata": {},
   "outputs": [
    {
     "name": "stdout",
     "output_type": "stream",
     "text": [
      "     No Customer   Age        City   Product    Limit Company        Segment  GrossPurchase  GrossPayment\n",
      "0     1       A1 47.00   BANGALORE      Gold  1500000      C1  Self Employed     2202653.18    1798150.18\n",
      "1     2       A2 56.00    CALCUTTA    Silver   300000      C2   Salaried_MNC      175463.27      92325.27\n",
      "2     3       A3 30.00      COCHIN  Platimum   540000      C3   Salaried_Pvt      533443.09     531399.09\n",
      "3     4       A4 22.00      BOMBAY  Platimum   840084      C4           Govt      904660.07     891531.07\n",
      "..  ...      ...   ...         ...       ...      ...     ...            ...            ...           ...\n",
      "96   97      A97 75.00  TRIVANDRUM  Platimum    30000     C20           Govt       13440.47       5186.47\n",
      "97   98      A98 29.00    CALCUTTA  Platimum    30000     C21  Normal Salary       12746.03      12746.03\n",
      "98   99      A99 59.00    CALCUTTA  Platimum   120000     C22  Self Employed      108137.20     108137.20\n",
      "99  100     A100 55.00      COCHIN    Silver   100000      C5   Salaried_MNC        4625.13       4625.13\n",
      "\n",
      "[100 rows x 10 columns]\n"
     ]
    }
   ],
   "source": [
    "print(cust_merge)"
   ]
  },
  {
   "cell_type": "code",
   "execution_count": 235,
   "id": "911d990e",
   "metadata": {},
   "outputs": [
    {
     "name": "stdout",
     "output_type": "stream",
     "text": [
      "     No Customer   Age        City   Product    Limit Company        Segment  GrossPurchase  GrossPayment  NetLiabity\n",
      "0     1       A1 47.00   BANGALORE      Gold  1500000      C1  Self Employed     2202653.18    1798150.18   404503.00\n",
      "1     2       A2 56.00    CALCUTTA    Silver   300000      C2   Salaried_MNC      175463.27      92325.27    83138.00\n",
      "2     3       A3 30.00      COCHIN  Platimum   540000      C3   Salaried_Pvt      533443.09     531399.09     2044.00\n",
      "3     4       A4 22.00      BOMBAY  Platimum   840084      C4           Govt      904660.07     891531.07    13129.00\n",
      "..  ...      ...   ...         ...       ...      ...     ...            ...            ...           ...         ...\n",
      "96   97      A97 75.00  TRIVANDRUM  Platimum    30000     C20           Govt       13440.47       5186.47     8254.00\n",
      "97   98      A98 29.00    CALCUTTA  Platimum    30000     C21  Normal Salary       12746.03      12746.03        0.00\n",
      "98   99      A99 59.00    CALCUTTA  Platimum   120000     C22  Self Employed      108137.20     108137.20        0.00\n",
      "99  100     A100 55.00      COCHIN    Silver   100000      C5   Salaried_MNC        4625.13       4625.13        0.00\n",
      "\n",
      "[100 rows x 11 columns]\n"
     ]
    }
   ],
   "source": [
    "cust_merge['NetLiabity']=cust_merge['GrossPurchase']-cust_merge['GrossPayment']\n",
    "print(cust_merge)"
   ]
  },
  {
   "cell_type": "code",
   "execution_count": 236,
   "id": "686a94ce",
   "metadata": {},
   "outputs": [
    {
     "name": "stdout",
     "output_type": "stream",
     "text": [
      "     No Customer   Age       City   Product    Limit Company        Segment  GrossPurchase  GrossPayment  NetLiabity  %util\n",
      "20   21      A21 22.00     COCHIN  Platimum   780000     C21  Normal Salary     2136421.83    1301177.83   835244.00 107.08\n",
      "4     5       A5 59.00  BANGALORE  Platimum   420084      C5  Normal Salary      923534.79     539831.79   383703.00  91.34\n",
      "60   61      A61 63.00     COCHIN      Gold  1500000     C23           Govt     4113751.63    2776650.63  1337101.00  89.14\n",
      "12   13      A13 38.00  BANGALORE      Gold   500000     C13   Salaried_MNC     1424137.66    1011635.66   412502.00  82.50\n",
      "..  ...      ...   ...        ...       ...      ...     ...            ...            ...           ...         ...    ...\n",
      "78   79      A79 35.00     COCHIN    Silver   500000     C41           Govt        3166.70       3166.70        0.00   0.00\n",
      "79   80      A80 71.00     BOMBAY    Silver  1500000      C3           Govt      950543.27     950543.27        0.00   0.00\n",
      "80   81      A81 44.00  BANGALORE      Gold   500000      C4           Govt      377084.60     377084.60        0.00   0.00\n",
      "99  100     A100 55.00     COCHIN    Silver   100000      C5   Salaried_MNC        4625.13       4625.13        0.00   0.00\n",
      "\n",
      "[100 rows x 12 columns]\n"
     ]
    }
   ],
   "source": [
    "cust_merge['%util']=(cust_merge['NetLiabity']/cust_merge['Limit'])*100\n",
    "print(cust_merge.sort_values('%util',ascending=False))"
   ]
  },
  {
   "cell_type": "code",
   "execution_count": 237,
   "id": "01997130",
   "metadata": {},
   "outputs": [
    {
     "data": {
      "text/html": [
       "<div>\n",
       "<style scoped>\n",
       "    .dataframe tbody tr th:only-of-type {\n",
       "        vertical-align: middle;\n",
       "    }\n",
       "\n",
       "    .dataframe tbody tr th {\n",
       "        vertical-align: top;\n",
       "    }\n",
       "\n",
       "    .dataframe thead th {\n",
       "        text-align: right;\n",
       "    }\n",
       "</style>\n",
       "<table border=\"1\" class=\"dataframe\">\n",
       "  <thead>\n",
       "    <tr style=\"text-align: right;\">\n",
       "      <th></th>\n",
       "      <th>No</th>\n",
       "      <th>Customer</th>\n",
       "      <th>Age</th>\n",
       "      <th>City</th>\n",
       "      <th>Product</th>\n",
       "      <th>Limit</th>\n",
       "      <th>Company</th>\n",
       "      <th>Segment</th>\n",
       "      <th>GrossPurchase</th>\n",
       "      <th>GrossPayment</th>\n",
       "      <th>NetLiabity</th>\n",
       "      <th>%util</th>\n",
       "    </tr>\n",
       "  </thead>\n",
       "  <tbody>\n",
       "    <tr>\n",
       "      <th>4</th>\n",
       "      <td>5</td>\n",
       "      <td>A5</td>\n",
       "      <td>59.00</td>\n",
       "      <td>BANGALORE</td>\n",
       "      <td>Platimum</td>\n",
       "      <td>420084</td>\n",
       "      <td>C5</td>\n",
       "      <td>Normal Salary</td>\n",
       "      <td>923534.79</td>\n",
       "      <td>539831.79</td>\n",
       "      <td>383703.00</td>\n",
       "      <td>91.34</td>\n",
       "    </tr>\n",
       "    <tr>\n",
       "      <th>20</th>\n",
       "      <td>21</td>\n",
       "      <td>A21</td>\n",
       "      <td>22.00</td>\n",
       "      <td>COCHIN</td>\n",
       "      <td>Platimum</td>\n",
       "      <td>780000</td>\n",
       "      <td>C21</td>\n",
       "      <td>Normal Salary</td>\n",
       "      <td>2136421.83</td>\n",
       "      <td>1301177.83</td>\n",
       "      <td>835244.00</td>\n",
       "      <td>107.08</td>\n",
       "    </tr>\n",
       "  </tbody>\n",
       "</table>\n",
       "</div>"
      ],
      "text/plain": [
       "    No Customer   Age       City   Product   Limit Company        Segment  GrossPurchase  GrossPayment  NetLiabity  %util\n",
       "4    5       A5 59.00  BANGALORE  Platimum  420084      C5  Normal Salary      923534.79     539831.79   383703.00  91.34\n",
       "20  21      A21 22.00     COCHIN  Platimum  780000     C21  Normal Salary     2136421.83    1301177.83   835244.00 107.08"
      ]
     },
     "execution_count": 237,
     "metadata": {},
     "output_type": "execute_result"
    }
   ],
   "source": [
    "#customers reaching 90% of thier respective limit\n",
    "\n",
    "cust_merge[cust_merge['%util']>90]"
   ]
  },
  {
   "cell_type": "code",
   "execution_count": 238,
   "id": "3e7b5bae",
   "metadata": {},
   "outputs": [
    {
     "data": {
      "text/html": [
       "<div>\n",
       "<style scoped>\n",
       "    .dataframe tbody tr th:only-of-type {\n",
       "        vertical-align: middle;\n",
       "    }\n",
       "\n",
       "    .dataframe tbody tr th {\n",
       "        vertical-align: top;\n",
       "    }\n",
       "\n",
       "    .dataframe thead tr th {\n",
       "        text-align: left;\n",
       "    }\n",
       "\n",
       "    .dataframe thead tr:last-of-type th {\n",
       "        text-align: right;\n",
       "    }\n",
       "</style>\n",
       "<table border=\"1\" class=\"dataframe\">\n",
       "  <thead>\n",
       "    <tr>\n",
       "      <th></th>\n",
       "      <th>Customer</th>\n",
       "    </tr>\n",
       "    <tr>\n",
       "      <th></th>\n",
       "      <th>count</th>\n",
       "    </tr>\n",
       "    <tr>\n",
       "      <th>City</th>\n",
       "      <th></th>\n",
       "    </tr>\n",
       "  </thead>\n",
       "  <tbody>\n",
       "    <tr>\n",
       "      <th>BANGALORE</th>\n",
       "      <td>19</td>\n",
       "    </tr>\n",
       "    <tr>\n",
       "      <th>BOMBAY</th>\n",
       "      <td>14</td>\n",
       "    </tr>\n",
       "    <tr>\n",
       "      <th>CALCUTTA</th>\n",
       "      <td>18</td>\n",
       "    </tr>\n",
       "    <tr>\n",
       "      <th>CHENNAI</th>\n",
       "      <td>8</td>\n",
       "    </tr>\n",
       "    <tr>\n",
       "      <th>COCHIN</th>\n",
       "      <td>20</td>\n",
       "    </tr>\n",
       "    <tr>\n",
       "      <th>DELHI</th>\n",
       "      <td>7</td>\n",
       "    </tr>\n",
       "    <tr>\n",
       "      <th>PATNA</th>\n",
       "      <td>7</td>\n",
       "    </tr>\n",
       "    <tr>\n",
       "      <th>TRIVANDRUM</th>\n",
       "      <td>7</td>\n",
       "    </tr>\n",
       "  </tbody>\n",
       "</table>\n",
       "</div>"
      ],
      "text/plain": [
       "           Customer\n",
       "              count\n",
       "City               \n",
       "BANGALORE        19\n",
       "BOMBAY           14\n",
       "CALCUTTA         18\n",
       "CHENNAI           8\n",
       "COCHIN           20\n",
       "DELHI             7\n",
       "PATNA             7\n",
       "TRIVANDRUM        7"
      ]
     },
     "execution_count": 238,
     "metadata": {},
     "output_type": "execute_result"
    }
   ],
   "source": [
    "#maximum number of customer are Cochin, Bangalore\n",
    "cust_merge.groupby(['City']).agg({'Customer':['count']})"
   ]
  },
  {
   "cell_type": "code",
   "execution_count": 239,
   "id": "a6e1b0fe",
   "metadata": {},
   "outputs": [],
   "source": [
    "col_to_use=['OBJECTID','Borough','Type','Provider','Location_T','City']"
   ]
  },
  {
   "cell_type": "code",
   "execution_count": 240,
   "id": "391aba92",
   "metadata": {},
   "outputs": [
    {
     "name": "stdout",
     "output_type": "stream",
     "text": [
      "         Borough          Type              Provider     Location_T      City\n",
      "OBJECTID                                                                     \n",
      "1             BK  Limited Free             ALTICEUSA        Outdoor  Brooklyn\n",
      "2             BK  Limited Free             ALTICEUSA        Outdoor  Brooklyn\n",
      "3             BK  Limited Free             ALTICEUSA        Outdoor  Brooklyn\n",
      "4             BK  Limited Free             ALTICEUSA        Outdoor  Brooklyn\n",
      "...          ...           ...                   ...            ...       ...\n",
      "2563          MN          Free  LinkNYC - Citybridge  Outdoor Kiosk  New York\n",
      "2564          MN          Free  LinkNYC - Citybridge  Outdoor Kiosk  New York\n",
      "2565          MN          Free  LinkNYC - Citybridge  Outdoor Kiosk  New York\n",
      "2566          MN          Free  LinkNYC - Citybridge  Outdoor Kiosk  New York\n",
      "\n",
      "[2566 rows x 5 columns]\n"
     ]
    }
   ],
   "source": [
    "wifi_xls=pd.read_excel('D:\\\\test_dir\\\\Bootcamp\\\\AAI DS Bootcamp - 01 Python - practise notebooks\\\\Wifi Data.xlsx',index_col='OBJECTID',usecols=col_to_use)\n",
    "print(wifi_xls)"
   ]
  },
  {
   "cell_type": "code",
   "execution_count": 241,
   "id": "74c18899",
   "metadata": {},
   "outputs": [
    {
     "data": {
      "text/plain": [
       "Borough       0\n",
       "Type          0\n",
       "Provider      0\n",
       "Location_T    0\n",
       "City          0\n",
       "dtype: int64"
      ]
     },
     "execution_count": 241,
     "metadata": {},
     "output_type": "execute_result"
    }
   ],
   "source": [
    "#check missing values \n",
    "wifi_xls.isnull().sum()"
   ]
  },
  {
   "cell_type": "code",
   "execution_count": 242,
   "id": "a773863a",
   "metadata": {},
   "outputs": [
    {
     "name": "stdout",
     "output_type": "stream",
     "text": [
      "                         Free+Paid\n",
      "Provider                          \n",
      "ALTICEUSA                      237\n",
      "AT&T                            27\n",
      "BPL                             59\n",
      "Chelsea                         30\n",
      "City Tech                       11\n",
      "Downtown Brooklyn              100\n",
      "Harlem                         128\n",
      "LinkNYC - Citybridge          1134\n",
      "Manhattan Down Alliance         36\n",
      "NYCHA                           28\n",
      "NYPL                            90\n",
      "Partner                          2\n",
      "QPL                             65\n",
      "SPECTRUM                       343\n",
      "Transit Wireless               276\n"
     ]
    }
   ],
   "source": [
    "prov_allserv=wifi_xls.groupby('Provider').agg({'Type':['count']})\n",
    "type(prov_allserv)\n",
    "prov_allserv.columns=['Free+Paid']\n",
    "print(prov_allserv)"
   ]
  },
  {
   "cell_type": "code",
   "execution_count": 243,
   "id": "af84ba22",
   "metadata": {},
   "outputs": [],
   "source": [
    "import matplotlib.pyplot as plt\n",
    "import scipy\n",
    "import seaborn as sns\n",
    "\n",
    "\n",
    "import warnings\n",
    "warnings.filterwarnings('ignore')"
   ]
  },
  {
   "cell_type": "code",
   "execution_count": 244,
   "id": "02a4c14c",
   "metadata": {},
   "outputs": [
    {
     "data": {
      "image/png": "[encoded data removed]",
      "text/plain": [
       "<Figure size 720x432 with 1 Axes>"
      ]
     },
     "metadata": {},
     "output_type": "display_data"
    }
   ],
   "source": [
    "sns.set_style(\"whitegrid\")\n",
    "bar,ax = plt.subplots(figsize=(10,6))\n",
    "ax = sns.barplot(x='Free+Paid', y=prov_allserv.index, data=prov_allserv, ci=None, palette=\"muted\",orient='h')\n",
    "ax.bar_label(ax.containers[0])    #for single seris, for multi seris loop throuh ax.containers\n",
    "ax.set_title(\"NYC- All Buroughs , Paid+ Free Wifi Service Points\", fontsize=15)\n",
    "ax.set_xlabel (\"Count\")\n",
    "ax.set_ylabel (\"Service Provider\")\n",
    "plt.show()"
   ]
  },
  {
   "cell_type": "code",
   "execution_count": 245,
   "id": "6bd5db28",
   "metadata": {},
   "outputs": [
    {
     "data": {
      "text/html": [
       "<div>\n",
       "<style scoped>\n",
       "    .dataframe tbody tr th:only-of-type {\n",
       "        vertical-align: middle;\n",
       "    }\n",
       "\n",
       "    .dataframe tbody tr th {\n",
       "        vertical-align: top;\n",
       "    }\n",
       "\n",
       "    .dataframe thead tr th {\n",
       "        text-align: left;\n",
       "    }\n",
       "\n",
       "    .dataframe thead tr:last-of-type th {\n",
       "        text-align: right;\n",
       "    }\n",
       "</style>\n",
       "<table border=\"1\" class=\"dataframe\">\n",
       "  <thead>\n",
       "    <tr>\n",
       "      <th></th>\n",
       "      <th>Provider</th>\n",
       "    </tr>\n",
       "    <tr>\n",
       "      <th></th>\n",
       "      <th>count</th>\n",
       "    </tr>\n",
       "    <tr>\n",
       "      <th>Type</th>\n",
       "      <th></th>\n",
       "    </tr>\n",
       "  </thead>\n",
       "  <tbody>\n",
       "    <tr>\n",
       "      <th>Free</th>\n",
       "      <td>1983</td>\n",
       "    </tr>\n",
       "    <tr>\n",
       "      <th>Limited Free</th>\n",
       "      <td>581</td>\n",
       "    </tr>\n",
       "    <tr>\n",
       "      <th>Partner Site</th>\n",
       "      <td>2</td>\n",
       "    </tr>\n",
       "  </tbody>\n",
       "</table>\n",
       "</div>"
      ],
      "text/plain": [
       "             Provider\n",
       "                count\n",
       "Type                 \n",
       "Free             1983\n",
       "Limited Free      581\n",
       "Partner Site        2"
      ]
     },
     "execution_count": 245,
     "metadata": {},
     "output_type": "execute_result"
    }
   ],
   "source": [
    "# there are providers do not provide free services\n",
    "\n",
    "wifi_xls.groupby('Type').agg({'Provider':['count']})"
   ]
  },
  {
   "cell_type": "code",
   "execution_count": 246,
   "id": "9f5ebbe4",
   "metadata": {},
   "outputs": [],
   "source": [
    "wifi_xls.sort_values('Type',inplace=True)"
   ]
  },
  {
   "cell_type": "code",
   "execution_count": 247,
   "id": "51113484",
   "metadata": {},
   "outputs": [],
   "source": [
    "filtering_free=wifi_xls['Type']=='Free'"
   ]
  },
  {
   "cell_type": "code",
   "execution_count": 248,
   "id": "ae2d4d01",
   "metadata": {},
   "outputs": [],
   "source": [
    "wifi_xls.where(filtering_free,inplace=True)"
   ]
  },
  {
   "cell_type": "code",
   "execution_count": 249,
   "id": "d819e5fb",
   "metadata": {},
   "outputs": [
    {
     "data": {
      "text/html": [
       "<div>\n",
       "<style scoped>\n",
       "    .dataframe tbody tr th:only-of-type {\n",
       "        vertical-align: middle;\n",
       "    }\n",
       "\n",
       "    .dataframe tbody tr th {\n",
       "        vertical-align: top;\n",
       "    }\n",
       "\n",
       "    .dataframe thead th {\n",
       "        text-align: right;\n",
       "    }\n",
       "</style>\n",
       "<table border=\"1\" class=\"dataframe\">\n",
       "  <thead>\n",
       "    <tr style=\"text-align: right;\">\n",
       "      <th></th>\n",
       "      <th>Borough</th>\n",
       "      <th>Type</th>\n",
       "      <th>Provider</th>\n",
       "      <th>Location_T</th>\n",
       "      <th>City</th>\n",
       "    </tr>\n",
       "    <tr>\n",
       "      <th>OBJECTID</th>\n",
       "      <th></th>\n",
       "      <th></th>\n",
       "      <th></th>\n",
       "      <th></th>\n",
       "      <th></th>\n",
       "    </tr>\n",
       "  </thead>\n",
       "  <tbody>\n",
       "    <tr>\n",
       "      <th>2566</th>\n",
       "      <td>MN</td>\n",
       "      <td>Free</td>\n",
       "      <td>LinkNYC - Citybridge</td>\n",
       "      <td>Outdoor Kiosk</td>\n",
       "      <td>New York</td>\n",
       "    </tr>\n",
       "    <tr>\n",
       "      <th>2188</th>\n",
       "      <td>MN</td>\n",
       "      <td>Free</td>\n",
       "      <td>Transit Wireless</td>\n",
       "      <td>Subway Station</td>\n",
       "      <td>New York</td>\n",
       "    </tr>\n",
       "    <tr>\n",
       "      <th>2189</th>\n",
       "      <td>MN</td>\n",
       "      <td>Free</td>\n",
       "      <td>Transit Wireless</td>\n",
       "      <td>Subway Station</td>\n",
       "      <td>New York</td>\n",
       "    </tr>\n",
       "    <tr>\n",
       "      <th>2190</th>\n",
       "      <td>MN</td>\n",
       "      <td>Free</td>\n",
       "      <td>Transit Wireless</td>\n",
       "      <td>Subway Station</td>\n",
       "      <td>New York</td>\n",
       "    </tr>\n",
       "    <tr>\n",
       "      <th>...</th>\n",
       "      <td>...</td>\n",
       "      <td>...</td>\n",
       "      <td>...</td>\n",
       "      <td>...</td>\n",
       "      <td>...</td>\n",
       "    </tr>\n",
       "    <tr>\n",
       "      <th>1327</th>\n",
       "      <td>NaN</td>\n",
       "      <td>NaN</td>\n",
       "      <td>NaN</td>\n",
       "      <td>NaN</td>\n",
       "      <td>NaN</td>\n",
       "    </tr>\n",
       "    <tr>\n",
       "      <th>1333</th>\n",
       "      <td>NaN</td>\n",
       "      <td>NaN</td>\n",
       "      <td>NaN</td>\n",
       "      <td>NaN</td>\n",
       "      <td>NaN</td>\n",
       "    </tr>\n",
       "    <tr>\n",
       "      <th>1645</th>\n",
       "      <td>NaN</td>\n",
       "      <td>NaN</td>\n",
       "      <td>NaN</td>\n",
       "      <td>NaN</td>\n",
       "      <td>NaN</td>\n",
       "    </tr>\n",
       "    <tr>\n",
       "      <th>2531</th>\n",
       "      <td>NaN</td>\n",
       "      <td>NaN</td>\n",
       "      <td>NaN</td>\n",
       "      <td>NaN</td>\n",
       "      <td>NaN</td>\n",
       "    </tr>\n",
       "  </tbody>\n",
       "</table>\n",
       "<p>2566 rows × 5 columns</p>\n",
       "</div>"
      ],
      "text/plain": [
       "         Borough  Type              Provider      Location_T      City\n",
       "OBJECTID                                                              \n",
       "2566          MN  Free  LinkNYC - Citybridge   Outdoor Kiosk  New York\n",
       "2188          MN  Free      Transit Wireless  Subway Station  New York\n",
       "2189          MN  Free      Transit Wireless  Subway Station  New York\n",
       "2190          MN  Free      Transit Wireless  Subway Station  New York\n",
       "...          ...   ...                   ...             ...       ...\n",
       "1327         NaN   NaN                   NaN             NaN       NaN\n",
       "1333         NaN   NaN                   NaN             NaN       NaN\n",
       "1645         NaN   NaN                   NaN             NaN       NaN\n",
       "2531         NaN   NaN                   NaN             NaN       NaN\n",
       "\n",
       "[2566 rows x 5 columns]"
      ]
     },
     "execution_count": 249,
     "metadata": {},
     "output_type": "execute_result"
    }
   ],
   "source": [
    "wifi_xls"
   ]
  },
  {
   "cell_type": "code",
   "execution_count": 250,
   "id": "2358398f",
   "metadata": {},
   "outputs": [
    {
     "data": {
      "text/html": [
       "<div>\n",
       "<style scoped>\n",
       "    .dataframe tbody tr th:only-of-type {\n",
       "        vertical-align: middle;\n",
       "    }\n",
       "\n",
       "    .dataframe tbody tr th {\n",
       "        vertical-align: top;\n",
       "    }\n",
       "\n",
       "    .dataframe thead th {\n",
       "        text-align: right;\n",
       "    }\n",
       "</style>\n",
       "<table border=\"1\" class=\"dataframe\">\n",
       "  <thead>\n",
       "    <tr style=\"text-align: right;\">\n",
       "      <th></th>\n",
       "      <th>Borough</th>\n",
       "      <th>Type</th>\n",
       "      <th>Provider</th>\n",
       "      <th>Location_T</th>\n",
       "      <th>City</th>\n",
       "    </tr>\n",
       "    <tr>\n",
       "      <th>OBJECTID</th>\n",
       "      <th></th>\n",
       "      <th></th>\n",
       "      <th></th>\n",
       "      <th></th>\n",
       "      <th></th>\n",
       "    </tr>\n",
       "  </thead>\n",
       "  <tbody>\n",
       "    <tr>\n",
       "      <th>1334</th>\n",
       "      <td>NaN</td>\n",
       "      <td>NaN</td>\n",
       "      <td>NaN</td>\n",
       "      <td>NaN</td>\n",
       "      <td>NaN</td>\n",
       "    </tr>\n",
       "    <tr>\n",
       "      <th>1332</th>\n",
       "      <td>NaN</td>\n",
       "      <td>NaN</td>\n",
       "      <td>NaN</td>\n",
       "      <td>NaN</td>\n",
       "      <td>NaN</td>\n",
       "    </tr>\n",
       "    <tr>\n",
       "      <th>1331</th>\n",
       "      <td>NaN</td>\n",
       "      <td>NaN</td>\n",
       "      <td>NaN</td>\n",
       "      <td>NaN</td>\n",
       "      <td>NaN</td>\n",
       "    </tr>\n",
       "    <tr>\n",
       "      <th>1330</th>\n",
       "      <td>NaN</td>\n",
       "      <td>NaN</td>\n",
       "      <td>NaN</td>\n",
       "      <td>NaN</td>\n",
       "      <td>NaN</td>\n",
       "    </tr>\n",
       "    <tr>\n",
       "      <th>1329</th>\n",
       "      <td>NaN</td>\n",
       "      <td>NaN</td>\n",
       "      <td>NaN</td>\n",
       "      <td>NaN</td>\n",
       "      <td>NaN</td>\n",
       "    </tr>\n",
       "    <tr>\n",
       "      <th>1328</th>\n",
       "      <td>NaN</td>\n",
       "      <td>NaN</td>\n",
       "      <td>NaN</td>\n",
       "      <td>NaN</td>\n",
       "      <td>NaN</td>\n",
       "    </tr>\n",
       "    <tr>\n",
       "      <th>1327</th>\n",
       "      <td>NaN</td>\n",
       "      <td>NaN</td>\n",
       "      <td>NaN</td>\n",
       "      <td>NaN</td>\n",
       "      <td>NaN</td>\n",
       "    </tr>\n",
       "    <tr>\n",
       "      <th>1333</th>\n",
       "      <td>NaN</td>\n",
       "      <td>NaN</td>\n",
       "      <td>NaN</td>\n",
       "      <td>NaN</td>\n",
       "      <td>NaN</td>\n",
       "    </tr>\n",
       "    <tr>\n",
       "      <th>1645</th>\n",
       "      <td>NaN</td>\n",
       "      <td>NaN</td>\n",
       "      <td>NaN</td>\n",
       "      <td>NaN</td>\n",
       "      <td>NaN</td>\n",
       "    </tr>\n",
       "    <tr>\n",
       "      <th>2531</th>\n",
       "      <td>NaN</td>\n",
       "      <td>NaN</td>\n",
       "      <td>NaN</td>\n",
       "      <td>NaN</td>\n",
       "      <td>NaN</td>\n",
       "    </tr>\n",
       "  </tbody>\n",
       "</table>\n",
       "</div>"
      ],
      "text/plain": [
       "         Borough Type Provider Location_T City\n",
       "OBJECTID                                      \n",
       "1334         NaN  NaN      NaN        NaN  NaN\n",
       "1332         NaN  NaN      NaN        NaN  NaN\n",
       "1331         NaN  NaN      NaN        NaN  NaN\n",
       "1330         NaN  NaN      NaN        NaN  NaN\n",
       "1329         NaN  NaN      NaN        NaN  NaN\n",
       "1328         NaN  NaN      NaN        NaN  NaN\n",
       "1327         NaN  NaN      NaN        NaN  NaN\n",
       "1333         NaN  NaN      NaN        NaN  NaN\n",
       "1645         NaN  NaN      NaN        NaN  NaN\n",
       "2531         NaN  NaN      NaN        NaN  NaN"
      ]
     },
     "execution_count": 250,
     "metadata": {},
     "output_type": "execute_result"
    }
   ],
   "source": [
    "wifi_xls.tail(10)"
   ]
  },
  {
   "cell_type": "code",
   "execution_count": 251,
   "id": "fd9319cf",
   "metadata": {},
   "outputs": [],
   "source": [
    "wifi_xls_free=wifi_xls.dropna()"
   ]
  },
  {
   "cell_type": "code",
   "execution_count": 252,
   "id": "e2bbd842",
   "metadata": {},
   "outputs": [
    {
     "data": {
      "text/html": [
       "<div>\n",
       "<style scoped>\n",
       "    .dataframe tbody tr th:only-of-type {\n",
       "        vertical-align: middle;\n",
       "    }\n",
       "\n",
       "    .dataframe tbody tr th {\n",
       "        vertical-align: top;\n",
       "    }\n",
       "\n",
       "    .dataframe thead th {\n",
       "        text-align: right;\n",
       "    }\n",
       "</style>\n",
       "<table border=\"1\" class=\"dataframe\">\n",
       "  <thead>\n",
       "    <tr style=\"text-align: right;\">\n",
       "      <th></th>\n",
       "      <th>Borough</th>\n",
       "      <th>Type</th>\n",
       "      <th>Provider</th>\n",
       "      <th>Location_T</th>\n",
       "      <th>City</th>\n",
       "    </tr>\n",
       "    <tr>\n",
       "      <th>OBJECTID</th>\n",
       "      <th></th>\n",
       "      <th></th>\n",
       "      <th></th>\n",
       "      <th></th>\n",
       "      <th></th>\n",
       "    </tr>\n",
       "  </thead>\n",
       "  <tbody>\n",
       "    <tr>\n",
       "      <th>2566</th>\n",
       "      <td>MN</td>\n",
       "      <td>Free</td>\n",
       "      <td>LinkNYC - Citybridge</td>\n",
       "      <td>Outdoor Kiosk</td>\n",
       "      <td>New York</td>\n",
       "    </tr>\n",
       "    <tr>\n",
       "      <th>2188</th>\n",
       "      <td>MN</td>\n",
       "      <td>Free</td>\n",
       "      <td>Transit Wireless</td>\n",
       "      <td>Subway Station</td>\n",
       "      <td>New York</td>\n",
       "    </tr>\n",
       "    <tr>\n",
       "      <th>2189</th>\n",
       "      <td>MN</td>\n",
       "      <td>Free</td>\n",
       "      <td>Transit Wireless</td>\n",
       "      <td>Subway Station</td>\n",
       "      <td>New York</td>\n",
       "    </tr>\n",
       "    <tr>\n",
       "      <th>2190</th>\n",
       "      <td>MN</td>\n",
       "      <td>Free</td>\n",
       "      <td>Transit Wireless</td>\n",
       "      <td>Subway Station</td>\n",
       "      <td>New York</td>\n",
       "    </tr>\n",
       "    <tr>\n",
       "      <th>...</th>\n",
       "      <td>...</td>\n",
       "      <td>...</td>\n",
       "      <td>...</td>\n",
       "      <td>...</td>\n",
       "      <td>...</td>\n",
       "    </tr>\n",
       "    <tr>\n",
       "      <th>671</th>\n",
       "      <td>BX</td>\n",
       "      <td>Free</td>\n",
       "      <td>LinkNYC - Citybridge</td>\n",
       "      <td>Outdoor Kiosk</td>\n",
       "      <td>Bronx</td>\n",
       "    </tr>\n",
       "    <tr>\n",
       "      <th>672</th>\n",
       "      <td>BX</td>\n",
       "      <td>Free</td>\n",
       "      <td>LinkNYC - Citybridge</td>\n",
       "      <td>Outdoor Kiosk</td>\n",
       "      <td>Bronx</td>\n",
       "    </tr>\n",
       "    <tr>\n",
       "      <th>666</th>\n",
       "      <td>BX</td>\n",
       "      <td>Free</td>\n",
       "      <td>LinkNYC - Citybridge</td>\n",
       "      <td>Outdoor Kiosk</td>\n",
       "      <td>Bronx</td>\n",
       "    </tr>\n",
       "    <tr>\n",
       "      <th>665</th>\n",
       "      <td>BX</td>\n",
       "      <td>Free</td>\n",
       "      <td>LinkNYC - Citybridge</td>\n",
       "      <td>Outdoor Kiosk</td>\n",
       "      <td>Bronx</td>\n",
       "    </tr>\n",
       "  </tbody>\n",
       "</table>\n",
       "<p>1983 rows × 5 columns</p>\n",
       "</div>"
      ],
      "text/plain": [
       "         Borough  Type              Provider      Location_T      City\n",
       "OBJECTID                                                              \n",
       "2566          MN  Free  LinkNYC - Citybridge   Outdoor Kiosk  New York\n",
       "2188          MN  Free      Transit Wireless  Subway Station  New York\n",
       "2189          MN  Free      Transit Wireless  Subway Station  New York\n",
       "2190          MN  Free      Transit Wireless  Subway Station  New York\n",
       "...          ...   ...                   ...             ...       ...\n",
       "671           BX  Free  LinkNYC - Citybridge   Outdoor Kiosk     Bronx\n",
       "672           BX  Free  LinkNYC - Citybridge   Outdoor Kiosk     Bronx\n",
       "666           BX  Free  LinkNYC - Citybridge   Outdoor Kiosk     Bronx\n",
       "665           BX  Free  LinkNYC - Citybridge   Outdoor Kiosk     Bronx\n",
       "\n",
       "[1983 rows x 5 columns]"
      ]
     },
     "execution_count": 252,
     "metadata": {},
     "output_type": "execute_result"
    }
   ],
   "source": [
    "wifi_xls_free"
   ]
  },
  {
   "cell_type": "code",
   "execution_count": 253,
   "id": "47b5edb4",
   "metadata": {},
   "outputs": [
    {
     "name": "stdout",
     "output_type": "stream",
     "text": [
      "                         Free\n",
      "Provider                     \n",
      "AT&T                       26\n",
      "BPL                        59\n",
      "Chelsea                    30\n",
      "City Tech                  11\n",
      "Downtown Brooklyn         100\n",
      "Harlem                    128\n",
      "LinkNYC - Citybridge     1134\n",
      "Manhattan Down Alliance    36\n",
      "NYCHA                      28\n",
      "NYPL                       90\n",
      "QPL                        65\n",
      "Transit Wireless          276\n"
     ]
    }
   ],
   "source": [
    "prov_free=wifi_xls_free.groupby('Provider').agg({'Type':['count']})\n",
    "type(prov_free)\n",
    "prov_free.columns=['Free']\n",
    "print(prov_free)"
   ]
  },
  {
   "cell_type": "code",
   "execution_count": 254,
   "id": "094844e1",
   "metadata": {
    "scrolled": true
   },
   "outputs": [
    {
     "data": {
      "image/png": "[encoded data removed]",
      "text/plain": [
       "<Figure size 720x432 with 1 Axes>"
      ]
     },
     "metadata": {},
     "output_type": "display_data"
    }
   ],
   "source": [
    "sns.set_style(\"whitegrid\")\n",
    "bar,ax = plt.subplots(figsize=(10,6))\n",
    "ax = sns.barplot(x='Free', y=prov_free.index, data=prov_free, ci=None, palette=\"muted\",orient='h')\n",
    "ax.bar_label(ax.containers[0])    #for single seris, for multi seris loop throuh ax.containers\n",
    "ax.set_title(\"NYC- All Buroughs , Free Wifi Service Points\", fontsize=15)\n",
    "ax.set_xlabel (\"Count\")\n",
    "ax.set_ylabel (\"Service Provider\")\n",
    "plt.show()"
   ]
  },
  {
   "cell_type": "code",
   "execution_count": 255,
   "id": "1237b397",
   "metadata": {},
   "outputs": [
    {
     "name": "stdout",
     "output_type": "stream",
     "text": [
      "         Borough          Type              Provider     Location_T      City\n",
      "OBJECTID                                                                     \n",
      "1             BK  Limited Free             ALTICEUSA        Outdoor  Brooklyn\n",
      "2             BK  Limited Free             ALTICEUSA        Outdoor  Brooklyn\n",
      "3             BK  Limited Free             ALTICEUSA        Outdoor  Brooklyn\n",
      "4             BK  Limited Free             ALTICEUSA        Outdoor  Brooklyn\n",
      "...          ...           ...                   ...            ...       ...\n",
      "2563          MN          Free  LinkNYC - Citybridge  Outdoor Kiosk  New York\n",
      "2564          MN          Free  LinkNYC - Citybridge  Outdoor Kiosk  New York\n",
      "2565          MN          Free  LinkNYC - Citybridge  Outdoor Kiosk  New York\n",
      "2566          MN          Free  LinkNYC - Citybridge  Outdoor Kiosk  New York\n",
      "\n",
      "[2566 rows x 5 columns]\n"
     ]
    }
   ],
   "source": [
    "wifi_xls1=pd.read_excel('D:\\\\test_dir\\\\Bootcamp\\\\AAI DS Bootcamp - 01 Python - practise notebooks\\\\Wifi Data.xlsx',index_col='OBJECTID',usecols=col_to_use)\n",
    "print(wifi_xls1)"
   ]
  },
  {
   "cell_type": "code",
   "execution_count": 256,
   "id": "5537622c",
   "metadata": {},
   "outputs": [
    {
     "name": "stdout",
     "output_type": "stream",
     "text": [
      "                     Nos\n",
      "Location_T              \n",
      "Indoor               125\n",
      "Library              214\n",
      "Outdoor              696\n",
      "Outdoor Kiosk       1134\n",
      "Outdoor TWC Aerial   121\n",
      "Subway Station       276\n"
     ]
    }
   ],
   "source": [
    "# Most common Outdoor Kiosk\n",
    "# Least common Outdoor TWS Aerial\n",
    "\n",
    "where_n_count=wifi_xls1.groupby('Location_T').agg({'Type':'count'})\n",
    "where_n_count.columns=['Nos']\n",
    "print(where_n_count)"
   ]
  },
  {
   "cell_type": "code",
   "execution_count": null,
   "id": "8a7b1bfb",
   "metadata": {},
   "outputs": [],
   "source": []
  }
 ],
 "metadata": {
  "kernelspec": {
   "display_name": "Python 3 (ipykernel)",
   "language": "python",
   "name": "python3"
  },
  "language_info": {
   "codemirror_mode": {
    "name": "ipython",
    "version": 3
   },
   "file_extension": ".py",
   "mimetype": "text/x-python",
   "name": "python",
   "nbconvert_exporter": "python",
   "pygments_lexer": "ipython3",
   "version": "3.8.13"
  }
 },
 "nbformat": 4,
 "nbformat_minor": 5
}
