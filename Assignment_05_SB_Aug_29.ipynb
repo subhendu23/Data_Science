{
 "cells": [
  {
   "cell_type": "markdown",
   "id": "24ae2055",
   "metadata": {},
   "source": [
    "### Assignment 4 ###"
   ]
  },
  {
   "cell_type": "code",
   "execution_count": 1,
   "id": "b574f2a6",
   "metadata": {},
   "outputs": [],
   "source": [
    "import pandas as pd\n",
    "import numpy as numpy\n",
    "\n",
    "import matplotlib.pyplot as plt\n",
    "import seaborn as sns\n",
    "from scipy import stats\n",
    "import researchpy as rp\n",
    "import statsmodels.api as sm\n",
    "from statsmodels.formula.api import ols"
   ]
  },
  {
   "cell_type": "code",
   "execution_count": 2,
   "id": "3c461cb8",
   "metadata": {},
   "outputs": [],
   "source": [
    "#Q#1 \n",
    "student_data = {'Student': ['1', '2', '3', '4'],\n",
    "        'Internship': [1,2,1,0], 'Job Offer':[4,6,3,1]}"
   ]
  },
  {
   "cell_type": "code",
   "execution_count": 3,
   "id": "bc143648",
   "metadata": {},
   "outputs": [],
   "source": [
    "student_df=pd.DataFrame(student_data)"
   ]
  },
  {
   "cell_type": "code",
   "execution_count": 4,
   "id": "c3feae75",
   "metadata": {},
   "outputs": [],
   "source": [
    "student_df=student_df.set_index('Student')\n"
   ]
  },
  {
   "cell_type": "code",
   "execution_count": 5,
   "id": "e5933e3a",
   "metadata": {},
   "outputs": [
    {
     "data": {
      "text/html": [
       "<div>\n",
       "<style scoped>\n",
       "    .dataframe tbody tr th:only-of-type {\n",
       "        vertical-align: middle;\n",
       "    }\n",
       "\n",
       "    .dataframe tbody tr th {\n",
       "        vertical-align: top;\n",
       "    }\n",
       "\n",
       "    .dataframe thead th {\n",
       "        text-align: right;\n",
       "    }\n",
       "</style>\n",
       "<table border=\"1\" class=\"dataframe\">\n",
       "  <thead>\n",
       "    <tr style=\"text-align: right;\">\n",
       "      <th></th>\n",
       "      <th>Internship</th>\n",
       "      <th>Job Offer</th>\n",
       "    </tr>\n",
       "    <tr>\n",
       "      <th>Student</th>\n",
       "      <th></th>\n",
       "      <th></th>\n",
       "    </tr>\n",
       "  </thead>\n",
       "  <tbody>\n",
       "    <tr>\n",
       "      <th>1</th>\n",
       "      <td>1</td>\n",
       "      <td>4</td>\n",
       "    </tr>\n",
       "    <tr>\n",
       "      <th>2</th>\n",
       "      <td>2</td>\n",
       "      <td>6</td>\n",
       "    </tr>\n",
       "    <tr>\n",
       "      <th>3</th>\n",
       "      <td>1</td>\n",
       "      <td>3</td>\n",
       "    </tr>\n",
       "    <tr>\n",
       "      <th>4</th>\n",
       "      <td>0</td>\n",
       "      <td>1</td>\n",
       "    </tr>\n",
       "  </tbody>\n",
       "</table>\n",
       "</div>"
      ],
      "text/plain": [
       "         Internship  Job Offer\n",
       "Student                       \n",
       "1                 1          4\n",
       "2                 2          6\n",
       "3                 1          3\n",
       "4                 0          1"
      ]
     },
     "execution_count": 5,
     "metadata": {},
     "output_type": "execute_result"
    }
   ],
   "source": [
    "student_df"
   ]
  },
  {
   "cell_type": "code",
   "execution_count": 6,
   "id": "e4cf444a",
   "metadata": {},
   "outputs": [
    {
     "data": {
      "image/png": "[encoded data removed]",
      "text/plain": [
       "<Figure size 432x288 with 1 Axes>"
      ]
     },
     "metadata": {
      "needs_background": "light"
     },
     "output_type": "display_data"
    }
   ],
   "source": [
    "student_df.plot.scatter(x='Internship', y='Job Offer', figsize=(6, 4))\n",
    "\n",
    "plt.show()"
   ]
  },
  {
   "cell_type": "code",
   "execution_count": 7,
   "id": "27e933ac",
   "metadata": {},
   "outputs": [
    {
     "name": "stdout",
     "output_type": "stream",
     "text": [
      "1.0\n",
      "3.5\n"
     ]
    }
   ],
   "source": [
    "internship_mean=student_df['Internship'].mean()\n",
    "joboffer_mean=student_df['Job Offer'].mean()\n",
    "print(internship_mean)\n",
    "print(joboffer_mean)"
   ]
  },
  {
   "cell_type": "code",
   "execution_count": 8,
   "id": "0524e2e8",
   "metadata": {},
   "outputs": [],
   "source": [
    "student_df['JobOffer_Cov']=(student_df['Job Offer']-joboffer_mean)*(student_df['Internship']-internship_mean)"
   ]
  },
  {
   "cell_type": "code",
   "execution_count": 9,
   "id": "d587e59c",
   "metadata": {},
   "outputs": [],
   "source": [
    "student_df['Internship_var']=(student_df['Internship']-internship_mean)**2"
   ]
  },
  {
   "cell_type": "code",
   "execution_count": 10,
   "id": "50579ae6",
   "metadata": {},
   "outputs": [
    {
     "data": {
      "text/html": [
       "<div>\n",
       "<style scoped>\n",
       "    .dataframe tbody tr th:only-of-type {\n",
       "        vertical-align: middle;\n",
       "    }\n",
       "\n",
       "    .dataframe tbody tr th {\n",
       "        vertical-align: top;\n",
       "    }\n",
       "\n",
       "    .dataframe thead th {\n",
       "        text-align: right;\n",
       "    }\n",
       "</style>\n",
       "<table border=\"1\" class=\"dataframe\">\n",
       "  <thead>\n",
       "    <tr style=\"text-align: right;\">\n",
       "      <th></th>\n",
       "      <th>Internship</th>\n",
       "      <th>Job Offer</th>\n",
       "      <th>JobOffer_Cov</th>\n",
       "      <th>Internship_var</th>\n",
       "    </tr>\n",
       "    <tr>\n",
       "      <th>Student</th>\n",
       "      <th></th>\n",
       "      <th></th>\n",
       "      <th></th>\n",
       "      <th></th>\n",
       "    </tr>\n",
       "  </thead>\n",
       "  <tbody>\n",
       "    <tr>\n",
       "      <th>1</th>\n",
       "      <td>1</td>\n",
       "      <td>4</td>\n",
       "      <td>0.0</td>\n",
       "      <td>0.0</td>\n",
       "    </tr>\n",
       "    <tr>\n",
       "      <th>2</th>\n",
       "      <td>2</td>\n",
       "      <td>6</td>\n",
       "      <td>2.5</td>\n",
       "      <td>1.0</td>\n",
       "    </tr>\n",
       "    <tr>\n",
       "      <th>3</th>\n",
       "      <td>1</td>\n",
       "      <td>3</td>\n",
       "      <td>-0.0</td>\n",
       "      <td>0.0</td>\n",
       "    </tr>\n",
       "    <tr>\n",
       "      <th>4</th>\n",
       "      <td>0</td>\n",
       "      <td>1</td>\n",
       "      <td>2.5</td>\n",
       "      <td>1.0</td>\n",
       "    </tr>\n",
       "  </tbody>\n",
       "</table>\n",
       "</div>"
      ],
      "text/plain": [
       "         Internship  Job Offer  JobOffer_Cov  Internship_var\n",
       "Student                                                     \n",
       "1                 1          4           0.0             0.0\n",
       "2                 2          6           2.5             1.0\n",
       "3                 1          3          -0.0             0.0\n",
       "4                 0          1           2.5             1.0"
      ]
     },
     "execution_count": 10,
     "metadata": {},
     "output_type": "execute_result"
    }
   ],
   "source": [
    "student_df"
   ]
  },
  {
   "cell_type": "code",
   "execution_count": 11,
   "id": "ac8e7c9c",
   "metadata": {},
   "outputs": [
    {
     "name": "stdout",
     "output_type": "stream",
     "text": [
      "beta = 2.5\n"
     ]
    }
   ],
   "source": [
    "beta=student_df['JobOffer_Cov'].sum()/student_df['Internship_var'].sum()\n",
    "print(f'beta = {beta}')"
   ]
  },
  {
   "cell_type": "code",
   "execution_count": 12,
   "id": "6fccdda8",
   "metadata": {},
   "outputs": [
    {
     "name": "stdout",
     "output_type": "stream",
     "text": [
      "alfa = 1.0\n"
     ]
    }
   ],
   "source": [
    "alfa= joboffer_mean-(beta*internship_mean)\n",
    "print(f'alfa = {alfa}')"
   ]
  },
  {
   "cell_type": "code",
   "execution_count": 13,
   "id": "5af9effb",
   "metadata": {},
   "outputs": [],
   "source": [
    "y_pred=alfa+beta*student_df['Internship']"
   ]
  },
  {
   "cell_type": "code",
   "execution_count": 14,
   "id": "240d237b",
   "metadata": {},
   "outputs": [
    {
     "data": {
      "image/png": "[encoded data removed]",
      "text/plain": [
       "<Figure size 432x288 with 1 Axes>"
      ]
     },
     "metadata": {
      "needs_background": "light"
     },
     "output_type": "display_data"
    }
   ],
   "source": [
    "student_df.plot(x='Internship', y='Job Offer', \n",
    "                     kind='scatter', s=50, figsize=(6, 4))\n",
    "\n",
    "plt.plot(student_df['Internship'], y_pred, color='red')\n",
    "\n",
    "plt.show()"
   ]
  },
  {
   "cell_type": "code",
   "execution_count": 15,
   "id": "2a1e0ee5",
   "metadata": {},
   "outputs": [],
   "source": [
    "#Q1 a ) Independent varable X = Internship\n",
    "#2 b) The Slope (beta )= 2.5"
   ]
  },
  {
   "cell_type": "markdown",
   "id": "138d75d0",
   "metadata": {},
   "source": [
    "### Q2: Score received on an exam measured in \"percentage points\" (Y) is regressed on “percentage attendance” (X) for 22 students in the course Statistics for Data Science. ###\n",
    "### If the Y intercept, b0 = 39.39 and the slope, b1 = 0.341, which of the following statement is correct?###\n",
    "\n",
    "### c) If attendance increases by 1%, the estimated average score received will increase by 0.341 percentage points ###"
   ]
  },
  {
   "cell_type": "markdown",
   "id": "60981e6f",
   "metadata": {},
   "source": [
    "### Question3 ###\n",
    "$$ \\mu_{salary growth} = 178 $$\n",
    "$$ \\mu_{eduspend} = 47.8 $$\n",
    "$$ \\sigma_{salary growth} = 63.15 $$\n",
    "$$ \\sigma_{eduspend} = 22.8 $$\n",
    "$$ r_{xy} = 0.43 $$\n",
    "\n",
    "\n",
    "$$\\hat{\\beta}=r_{xy}.\\frac{\\sigma_{salary growth}}{\\sigma_{eduspend}}= 1.19 $$"
   ]
  },
  {
   "cell_type": "markdown",
   "id": "7921571a",
   "metadata": {},
   "source": [
    "### Question 4 ###\n",
    "We have to run T test on $$\\beta$$\n",
    "\n",
    "$$ t=\\frac{\\beta-0}{SE_{\\beta}}$$"
   ]
  },
  {
   "cell_type": "code",
   "execution_count": 16,
   "id": "bb201614",
   "metadata": {},
   "outputs": [
    {
     "name": "stdout",
     "output_type": "stream",
     "text": [
      "Beta_constant :58.76039119804402\n"
     ]
    }
   ],
   "source": [
    "# using the above \n",
    "beta_constant =24.033/0.409\n",
    "print(f'Beta_constant :{beta_constant}')"
   ]
  },
  {
   "cell_type": "code",
   "execution_count": 17,
   "id": "7ab6b93e",
   "metadata": {},
   "outputs": [
    {
     "name": "stdout",
     "output_type": "stream",
     "text": [
      "beta_crim: -0.41624\n"
     ]
    }
   ],
   "source": [
    "beta_crim=-0.9460*0.44\n",
    "print(f'beta_crim: {beta_crim}')"
   ]
  },
  {
   "cell_type": "code",
   "execution_count": 18,
   "id": "f5adf187",
   "metadata": {},
   "outputs": [],
   "source": [
    "# We can not find standardized Coefficients - constant not available \n",
    "# for CRIM we nned sd Y and X,"
   ]
  },
  {
   "cell_type": "markdown",
   "id": "7bb5ad26",
   "metadata": {},
   "source": [
    "### Question 5 ###"
   ]
  },
  {
   "cell_type": "code",
   "execution_count": 19,
   "id": "3efe1e05",
   "metadata": {},
   "outputs": [
    {
     "data": {
      "text/plain": [
       "5.856131164121652e-20"
      ]
     },
     "execution_count": 19,
     "metadata": {},
     "output_type": "execute_result"
    }
   ],
   "source": [
    "stats.t.cdf(x=-9.460,df=504,)"
   ]
  },
  {
   "cell_type": "code",
   "execution_count": 20,
   "id": "a5637f42",
   "metadata": {},
   "outputs": [],
   "source": [
    "# Price = beta-0 + beta-1* CRIM\n",
    "\n",
    "#H0:beta_1<=-0.3\n",
    "#H1:beta_1>-0.3\n",
    "\n",
    "#alpha =0.05 left tail test"
   ]
  },
  {
   "cell_type": "code",
   "execution_count": 21,
   "id": "846604d6",
   "metadata": {},
   "outputs": [
    {
     "data": {
      "text/plain": [
       "5.856131164121652e-20"
      ]
     },
     "execution_count": 21,
     "metadata": {},
     "output_type": "execute_result"
    }
   ],
   "source": [
    "p_value=stats.t.sf(x=abs(-9.460),df=504)\n",
    "p_value"
   ]
  },
  {
   "cell_type": "code",
   "execution_count": 22,
   "id": "1607d7be",
   "metadata": {},
   "outputs": [],
   "source": [
    "# so we can reject the #H0:beta_1<=-0.3 and beta_crim will range \n",
    "\n",
    "beta_crim=[-0.416-1.96*0.044,-0.41624+1.96*0.0444 ]"
   ]
  },
  {
   "cell_type": "code",
   "execution_count": 23,
   "id": "e43c63eb",
   "metadata": {},
   "outputs": [
    {
     "data": {
      "text/plain": [
       "[-0.50224, -0.329216]"
      ]
     },
     "execution_count": 23,
     "metadata": {},
     "output_type": "execute_result"
    }
   ],
   "source": [
    "beta_crim"
   ]
  },
  {
   "cell_type": "code",
   "execution_count": 24,
   "id": "5c712ba3",
   "metadata": {},
   "outputs": [],
   "source": [
    "# so this evicences for unit change in the price will drop b 30,000 atleast"
   ]
  },
  {
   "cell_type": "markdown",
   "id": "bd1e9a5a",
   "metadata": {},
   "source": [
    "### Question 6 ###"
   ]
  },
  {
   "cell_type": "code",
   "execution_count": 25,
   "id": "fc13d9e4",
   "metadata": {},
   "outputs": [],
   "source": [
    "truck_maint_df=pd.read_excel('MLR_TruckMaintenance.xlsx')\n",
    "truck_maint_df=truck_maint_df.set_index('Truck')"
   ]
  },
  {
   "cell_type": "code",
   "execution_count": 26,
   "id": "7b613b10",
   "metadata": {},
   "outputs": [
    {
     "name": "stdout",
     "output_type": "stream",
     "text": [
      "<class 'pandas.core.frame.DataFrame'>\n",
      "Int64Index: 23 entries, 1 to 23\n",
      "Data columns (total 3 columns):\n",
      " #   Column               Non-Null Count  Dtype  \n",
      "---  ------               --------------  -----  \n",
      " 0   Maintenance Expense  23 non-null     float64\n",
      " 1   Miles Driven         23 non-null     int64  \n",
      " 2   Age of Truck         23 non-null     int64  \n",
      "dtypes: float64(1), int64(2)\n",
      "memory usage: 736.0 bytes\n"
     ]
    }
   ],
   "source": [
    "truck_maint_df.info()"
   ]
  },
  {
   "cell_type": "code",
   "execution_count": 27,
   "id": "3d072e09",
   "metadata": {},
   "outputs": [
    {
     "data": {
      "text/html": [
       "<div>\n",
       "<style scoped>\n",
       "    .dataframe tbody tr th:only-of-type {\n",
       "        vertical-align: middle;\n",
       "    }\n",
       "\n",
       "    .dataframe tbody tr th {\n",
       "        vertical-align: top;\n",
       "    }\n",
       "\n",
       "    .dataframe thead th {\n",
       "        text-align: right;\n",
       "    }\n",
       "</style>\n",
       "<table border=\"1\" class=\"dataframe\">\n",
       "  <thead>\n",
       "    <tr style=\"text-align: right;\">\n",
       "      <th></th>\n",
       "      <th>Maintenance Expense</th>\n",
       "      <th>Miles Driven</th>\n",
       "      <th>Age of Truck</th>\n",
       "    </tr>\n",
       "    <tr>\n",
       "      <th>Truck</th>\n",
       "      <th></th>\n",
       "      <th></th>\n",
       "      <th></th>\n",
       "    </tr>\n",
       "  </thead>\n",
       "  <tbody>\n",
       "    <tr>\n",
       "      <th>1</th>\n",
       "      <td>908.56</td>\n",
       "      <td>10500</td>\n",
       "      <td>10</td>\n",
       "    </tr>\n",
       "  </tbody>\n",
       "</table>\n",
       "</div>"
      ],
      "text/plain": [
       "       Maintenance Expense  Miles Driven  Age of Truck\n",
       "Truck                                                 \n",
       "1                   908.56         10500            10"
      ]
     },
     "execution_count": 27,
     "metadata": {},
     "output_type": "execute_result"
    }
   ],
   "source": [
    "truck_maint_df.sample()"
   ]
  },
  {
   "cell_type": "code",
   "execution_count": 28,
   "id": "2bef37d9",
   "metadata": {},
   "outputs": [
    {
     "data": {
      "image/png": "[encoded data removed]",
      "text/plain": [
       "<Figure size 432x288 with 1 Axes>"
      ]
     },
     "metadata": {
      "needs_background": "light"
     },
     "output_type": "display_data"
    }
   ],
   "source": [
    "# a)MLR Miles Driven Maintenance expense, Let us see relationship\n",
    "\n",
    "truck_maint_df.plot.scatter(x='Miles Driven', y='Maintenance Expense', figsize=(6, 4))\n",
    "\n",
    "plt.show()\n"
   ]
  },
  {
   "cell_type": "code",
   "execution_count": 29,
   "id": "642f75ff",
   "metadata": {},
   "outputs": [],
   "source": [
    "slope, intercept, r_value, _, _ ,= stats.linregress(truck_maint_df['Miles Driven'],truck_maint_df['Maintenance Expense'])"
   ]
  },
  {
   "cell_type": "code",
   "execution_count": 30,
   "id": "b4bb83e6",
   "metadata": {},
   "outputs": [
    {
     "name": "stdout",
     "output_type": "stream",
     "text": [
      "slope: 0.08006110339077266\n"
     ]
    }
   ],
   "source": [
    "print(f'slope: {slope}')"
   ]
  },
  {
   "cell_type": "code",
   "execution_count": 31,
   "id": "c50cf50f",
   "metadata": {},
   "outputs": [
    {
     "name": "stdout",
     "output_type": "stream",
     "text": [
      "Intercept: 13.224155086158987\n"
     ]
    }
   ],
   "source": [
    "print(f'Intercept: {intercept}')"
   ]
  },
  {
   "cell_type": "code",
   "execution_count": 32,
   "id": "c9b74801",
   "metadata": {},
   "outputs": [],
   "source": [
    "# Equation of the MLR : Maitenence cost = 12.22{Intercept} + slope{0.08006}*Miles Driven"
   ]
  },
  {
   "cell_type": "code",
   "execution_count": 33,
   "id": "a1d42041",
   "metadata": {},
   "outputs": [
    {
     "name": "stdout",
     "output_type": "stream",
     "text": [
      "R-square value 0.9479112090743634\n"
     ]
    }
   ],
   "source": [
    "#Q6- B ) both the independent and dependent variables are highly corelataed \n",
    "print('R-square value', r_value**2)"
   ]
  },
  {
   "cell_type": "code",
   "execution_count": 34,
   "id": "c9293ba7",
   "metadata": {},
   "outputs": [
    {
     "data": {
      "text/plain": [
       "Text(0.5, 1.0, 'Miles Driven vs Maintenance Exp')"
      ]
     },
     "execution_count": 34,
     "metadata": {},
     "output_type": "execute_result"
    },
    {
     "data": {
      "image/png": "[encoded data removed]",
      "text/plain": [
       "<Figure size 864x576 with 1 Axes>"
      ]
     },
     "metadata": {
      "needs_background": "light"
     },
     "output_type": "display_data"
    }
   ],
   "source": [
    "plt.figure(figsize=(12, 8))\n",
    "\n",
    "sns.scatterplot(x='Miles Driven', y='Maintenance Expense', data=truck_maint_df, label='Original')\n",
    "\n",
    "sns.lineplot(x=truck_maint_df['Miles Driven'], y=(slope * truck_maint_df['Miles Driven'] + intercept), \n",
    "             color='r', label='Fitted line')\n",
    "\n",
    "plt.title('Miles Driven vs Maintenance Exp')"
   ]
  },
  {
   "cell_type": "markdown",
   "id": "cd525438",
   "metadata": {},
   "source": [
    "### Question 7 ###\n"
   ]
  },
  {
   "cell_type": "code",
   "execution_count": 35,
   "id": "64d0ae3d",
   "metadata": {},
   "outputs": [],
   "source": [
    "factory_overhead_df=pd.read_csv('MLR_FactoryOverhead.csv')\n",
    "factory_overhead_df=factory_overhead_df.set_index(['Month'])"
   ]
  },
  {
   "cell_type": "code",
   "execution_count": 36,
   "id": "899388ce",
   "metadata": {},
   "outputs": [
    {
     "data": {
      "text/html": [
       "<div>\n",
       "<style scoped>\n",
       "    .dataframe tbody tr th:only-of-type {\n",
       "        vertical-align: middle;\n",
       "    }\n",
       "\n",
       "    .dataframe tbody tr th {\n",
       "        vertical-align: top;\n",
       "    }\n",
       "\n",
       "    .dataframe thead th {\n",
       "        text-align: right;\n",
       "    }\n",
       "</style>\n",
       "<table border=\"1\" class=\"dataframe\">\n",
       "  <thead>\n",
       "    <tr style=\"text-align: right;\">\n",
       "      <th></th>\n",
       "      <th>Machine Hours</th>\n",
       "      <th>Production Runs</th>\n",
       "      <th>Overhead Cost</th>\n",
       "    </tr>\n",
       "    <tr>\n",
       "      <th>Month</th>\n",
       "      <th></th>\n",
       "      <th></th>\n",
       "      <th></th>\n",
       "    </tr>\n",
       "  </thead>\n",
       "  <tbody>\n",
       "    <tr>\n",
       "      <th>2</th>\n",
       "      <td>1284</td>\n",
       "      <td>29</td>\n",
       "      <td>87804</td>\n",
       "    </tr>\n",
       "    <tr>\n",
       "      <th>29</th>\n",
       "      <td>1585</td>\n",
       "      <td>32</td>\n",
       "      <td>98498</td>\n",
       "    </tr>\n",
       "    <tr>\n",
       "      <th>33</th>\n",
       "      <td>1678</td>\n",
       "      <td>41</td>\n",
       "      <td>117183</td>\n",
       "    </tr>\n",
       "    <tr>\n",
       "      <th>24</th>\n",
       "      <td>1420</td>\n",
       "      <td>42</td>\n",
       "      <td>105752</td>\n",
       "    </tr>\n",
       "    <tr>\n",
       "      <th>5</th>\n",
       "      <td>1500</td>\n",
       "      <td>35</td>\n",
       "      <td>106968</td>\n",
       "    </tr>\n",
       "    <tr>\n",
       "      <th>6</th>\n",
       "      <td>1777</td>\n",
       "      <td>30</td>\n",
       "      <td>107925</td>\n",
       "    </tr>\n",
       "    <tr>\n",
       "      <th>1</th>\n",
       "      <td>1539</td>\n",
       "      <td>31</td>\n",
       "      <td>99798</td>\n",
       "    </tr>\n",
       "    <tr>\n",
       "      <th>20</th>\n",
       "      <td>1794</td>\n",
       "      <td>29</td>\n",
       "      <td>110530</td>\n",
       "    </tr>\n",
       "    <tr>\n",
       "      <th>30</th>\n",
       "      <td>1493</td>\n",
       "      <td>33</td>\n",
       "      <td>101803</td>\n",
       "    </tr>\n",
       "    <tr>\n",
       "      <th>18</th>\n",
       "      <td>1104</td>\n",
       "      <td>44</td>\n",
       "      <td>91892</td>\n",
       "    </tr>\n",
       "  </tbody>\n",
       "</table>\n",
       "</div>"
      ],
      "text/plain": [
       "       Machine Hours  Production Runs  Overhead Cost\n",
       "Month                                               \n",
       "2               1284               29          87804\n",
       "29              1585               32          98498\n",
       "33              1678               41         117183\n",
       "24              1420               42         105752\n",
       "5               1500               35         106968\n",
       "6               1777               30         107925\n",
       "1               1539               31          99798\n",
       "20              1794               29         110530\n",
       "30              1493               33         101803\n",
       "18              1104               44          91892"
      ]
     },
     "execution_count": 36,
     "metadata": {},
     "output_type": "execute_result"
    }
   ],
   "source": [
    "factory_overhead_df.sample(10)\n"
   ]
  },
  {
   "cell_type": "code",
   "execution_count": 37,
   "id": "aace4479",
   "metadata": {},
   "outputs": [
    {
     "name": "stdout",
     "output_type": "stream",
     "text": [
      "<class 'pandas.core.frame.DataFrame'>\n",
      "Int64Index: 36 entries, 1 to 36\n",
      "Data columns (total 3 columns):\n",
      " #   Column           Non-Null Count  Dtype\n",
      "---  ------           --------------  -----\n",
      " 0   Machine Hours    36 non-null     int64\n",
      " 1   Production Runs  36 non-null     int64\n",
      " 2   Overhead Cost    36 non-null     int64\n",
      "dtypes: int64(3)\n",
      "memory usage: 1.1 KB\n"
     ]
    }
   ],
   "source": [
    "factory_overhead_df.info()"
   ]
  },
  {
   "cell_type": "code",
   "execution_count": 38,
   "id": "00aac80a",
   "metadata": {},
   "outputs": [
    {
     "data": {
      "text/plain": [
       "Text(0.5, 1.0, 'Machine Hours vs Overhead Cost')"
      ]
     },
     "execution_count": 38,
     "metadata": {},
     "output_type": "execute_result"
    },
    {
     "data": {
      "text/plain": [
       "<Figure size 864x576 with 0 Axes>"
      ]
     },
     "metadata": {},
     "output_type": "display_data"
    },
    {
     "data": {
      "image/png": "[encoded data removed]",
      "text/plain": [
       "<Figure size 360x360 with 1 Axes>"
      ]
     },
     "metadata": {
      "needs_background": "light"
     },
     "output_type": "display_data"
    }
   ],
   "source": [
    "plt.figure(figsize=(12, 8))\n",
    "\n",
    "sns.lmplot(x='Machine Hours', y='Overhead Cost', data=factory_overhead_df)\n",
    "\n",
    "plt.title('Machine Hours vs Overhead Cost')"
   ]
  },
  {
   "cell_type": "code",
   "execution_count": 39,
   "id": "e67ce04e",
   "metadata": {},
   "outputs": [
    {
     "data": {
      "text/plain": [
       "Text(0.5, 1.0, 'Machine Hours vs Overhead Cost')"
      ]
     },
     "execution_count": 39,
     "metadata": {},
     "output_type": "execute_result"
    },
    {
     "data": {
      "text/plain": [
       "<Figure size 864x576 with 0 Axes>"
      ]
     },
     "metadata": {},
     "output_type": "display_data"
    },
    {
     "data": {
      "image/png": "[encoded data removed]",
      "text/plain": [
       "<Figure size 360x360 with 1 Axes>"
      ]
     },
     "metadata": {
      "needs_background": "light"
     },
     "output_type": "display_data"
    }
   ],
   "source": [
    "plt.figure(figsize=(12, 8))\n",
    "\n",
    "sns.lmplot(x='Production Runs', y='Overhead Cost', data=factory_overhead_df)\n",
    "\n",
    "plt.title('Machine Hours vs Overhead Cost')"
   ]
  },
  {
   "cell_type": "code",
   "execution_count": 40,
   "id": "c35401bd",
   "metadata": {},
   "outputs": [
    {
     "data": {
      "text/plain": [
       "<AxesSubplot:>"
      ]
     },
     "execution_count": 40,
     "metadata": {},
     "output_type": "execute_result"
    },
    {
     "data": {
      "image/png": "[encoded data removed]",
      "text/plain": [
       "<Figure size 432x288 with 2 Axes>"
      ]
     },
     "metadata": {
      "needs_background": "light"
     },
     "output_type": "display_data"
    }
   ],
   "source": [
    "sns.heatmap(data=factory_overhead_df.corr(),square=True)"
   ]
  },
  {
   "cell_type": "code",
   "execution_count": 41,
   "id": "37abc66c",
   "metadata": {},
   "outputs": [],
   "source": [
    "X = factory_overhead_df.drop(['Overhead Cost'], axis=1)\n",
    "X=sm.add_constant(X)\n",
    "\n",
    "y = factory_overhead_df['Overhead Cost']"
   ]
  },
  {
   "cell_type": "code",
   "execution_count": 42,
   "id": "74bdd979",
   "metadata": {},
   "outputs": [
    {
     "data": {
      "text/html": [
       "<div>\n",
       "<style scoped>\n",
       "    .dataframe tbody tr th:only-of-type {\n",
       "        vertical-align: middle;\n",
       "    }\n",
       "\n",
       "    .dataframe tbody tr th {\n",
       "        vertical-align: top;\n",
       "    }\n",
       "\n",
       "    .dataframe thead th {\n",
       "        text-align: right;\n",
       "    }\n",
       "</style>\n",
       "<table border=\"1\" class=\"dataframe\">\n",
       "  <thead>\n",
       "    <tr style=\"text-align: right;\">\n",
       "      <th></th>\n",
       "      <th>const</th>\n",
       "      <th>Machine Hours</th>\n",
       "      <th>Production Runs</th>\n",
       "    </tr>\n",
       "    <tr>\n",
       "      <th>Month</th>\n",
       "      <th></th>\n",
       "      <th></th>\n",
       "      <th></th>\n",
       "    </tr>\n",
       "  </thead>\n",
       "  <tbody>\n",
       "    <tr>\n",
       "      <th>1</th>\n",
       "      <td>1.0</td>\n",
       "      <td>1539</td>\n",
       "      <td>31</td>\n",
       "    </tr>\n",
       "    <tr>\n",
       "      <th>2</th>\n",
       "      <td>1.0</td>\n",
       "      <td>1284</td>\n",
       "      <td>29</td>\n",
       "    </tr>\n",
       "    <tr>\n",
       "      <th>3</th>\n",
       "      <td>1.0</td>\n",
       "      <td>1490</td>\n",
       "      <td>27</td>\n",
       "    </tr>\n",
       "    <tr>\n",
       "      <th>4</th>\n",
       "      <td>1.0</td>\n",
       "      <td>1355</td>\n",
       "      <td>22</td>\n",
       "    </tr>\n",
       "    <tr>\n",
       "      <th>5</th>\n",
       "      <td>1.0</td>\n",
       "      <td>1500</td>\n",
       "      <td>35</td>\n",
       "    </tr>\n",
       "  </tbody>\n",
       "</table>\n",
       "</div>"
      ],
      "text/plain": [
       "       const  Machine Hours  Production Runs\n",
       "Month                                       \n",
       "1        1.0           1539               31\n",
       "2        1.0           1284               29\n",
       "3        1.0           1490               27\n",
       "4        1.0           1355               22\n",
       "5        1.0           1500               35"
      ]
     },
     "execution_count": 42,
     "metadata": {},
     "output_type": "execute_result"
    }
   ],
   "source": [
    "X.head()"
   ]
  },
  {
   "cell_type": "code",
   "execution_count": 43,
   "id": "332a5aa6",
   "metadata": {},
   "outputs": [
    {
     "data": {
      "text/plain": [
       "const              3996.678209\n",
       "Machine Hours        43.536398\n",
       "Production Runs     883.617925\n",
       "dtype: float64"
      ]
     },
     "execution_count": 43,
     "metadata": {},
     "output_type": "execute_result"
    }
   ],
   "source": [
    "reg_model = sm.OLS(y, X).fit()\n",
    "\n",
    "reg_model.params"
   ]
  },
  {
   "cell_type": "code",
   "execution_count": 44,
   "id": "bdd0e303",
   "metadata": {},
   "outputs": [
    {
     "data": {
      "text/html": [
       "<table class=\"simpletable\">\n",
       "<caption>OLS Regression Results</caption>\n",
       "<tr>\n",
       "  <th>Dep. Variable:</th>      <td>Overhead Cost</td>  <th>  R-squared:         </th> <td>   0.866</td>\n",
       "</tr>\n",
       "<tr>\n",
       "  <th>Model:</th>                   <td>OLS</td>       <th>  Adj. R-squared:    </th> <td>   0.858</td>\n",
       "</tr>\n",
       "<tr>\n",
       "  <th>Method:</th>             <td>Least Squares</td>  <th>  F-statistic:       </th> <td>   107.0</td>\n",
       "</tr>\n",
       "<tr>\n",
       "  <th>Date:</th>             <td>Mon, 29 Aug 2022</td> <th>  Prob (F-statistic):</th> <td>3.75e-15</td>\n",
       "</tr>\n",
       "<tr>\n",
       "  <th>Time:</th>                 <td>12:56:25</td>     <th>  Log-Likelihood:    </th> <td> -349.07</td>\n",
       "</tr>\n",
       "<tr>\n",
       "  <th>No. Observations:</th>      <td>    36</td>      <th>  AIC:               </th> <td>   704.1</td>\n",
       "</tr>\n",
       "<tr>\n",
       "  <th>Df Residuals:</th>          <td>    33</td>      <th>  BIC:               </th> <td>   708.9</td>\n",
       "</tr>\n",
       "<tr>\n",
       "  <th>Df Model:</th>              <td>     2</td>      <th>                     </th>     <td> </td>   \n",
       "</tr>\n",
       "<tr>\n",
       "  <th>Covariance Type:</th>      <td>nonrobust</td>    <th>                     </th>     <td> </td>   \n",
       "</tr>\n",
       "</table>\n",
       "<table class=\"simpletable\">\n",
       "<tr>\n",
       "         <td></td>            <th>coef</th>     <th>std err</th>      <th>t</th>      <th>P>|t|</th>  <th>[0.025</th>    <th>0.975]</th>  \n",
       "</tr>\n",
       "<tr>\n",
       "  <th>const</th>           <td> 3996.6782</td> <td> 6603.651</td> <td>    0.605</td> <td> 0.549</td> <td>-9438.551</td> <td> 1.74e+04</td>\n",
       "</tr>\n",
       "<tr>\n",
       "  <th>Machine Hours</th>   <td>   43.5364</td> <td>    3.589</td> <td>   12.129</td> <td> 0.000</td> <td>   36.234</td> <td>   50.839</td>\n",
       "</tr>\n",
       "<tr>\n",
       "  <th>Production Runs</th> <td>  883.6179</td> <td>   82.251</td> <td>   10.743</td> <td> 0.000</td> <td>  716.276</td> <td> 1050.960</td>\n",
       "</tr>\n",
       "</table>\n",
       "<table class=\"simpletable\">\n",
       "<tr>\n",
       "  <th>Omnibus:</th>       <td> 3.142</td> <th>  Durbin-Watson:     </th> <td>   1.313</td>\n",
       "</tr>\n",
       "<tr>\n",
       "  <th>Prob(Omnibus):</th> <td> 0.208</td> <th>  Jarque-Bera (JB):  </th> <td>   2.259</td>\n",
       "</tr>\n",
       "<tr>\n",
       "  <th>Skew:</th>          <td>-0.609</td> <th>  Prob(JB):          </th> <td>   0.323</td>\n",
       "</tr>\n",
       "<tr>\n",
       "  <th>Kurtosis:</th>      <td> 3.155</td> <th>  Cond. No.          </th> <td>1.42e+04</td>\n",
       "</tr>\n",
       "</table><br/><br/>Notes:<br/>[1] Standard Errors assume that the covariance matrix of the errors is correctly specified.<br/>[2] The condition number is large, 1.42e+04. This might indicate that there are<br/>strong multicollinearity or other numerical problems."
      ],
      "text/plain": [
       "<class 'statsmodels.iolib.summary.Summary'>\n",
       "\"\"\"\n",
       "                            OLS Regression Results                            \n",
       "==============================================================================\n",
       "Dep. Variable:          Overhead Cost   R-squared:                       0.866\n",
       "Model:                            OLS   Adj. R-squared:                  0.858\n",
       "Method:                 Least Squares   F-statistic:                     107.0\n",
       "Date:                Mon, 29 Aug 2022   Prob (F-statistic):           3.75e-15\n",
       "Time:                        12:56:25   Log-Likelihood:                -349.07\n",
       "No. Observations:                  36   AIC:                             704.1\n",
       "Df Residuals:                      33   BIC:                             708.9\n",
       "Df Model:                           2                                         \n",
       "Covariance Type:            nonrobust                                         \n",
       "===================================================================================\n",
       "                      coef    std err          t      P>|t|      [0.025      0.975]\n",
       "-----------------------------------------------------------------------------------\n",
       "const            3996.6782   6603.651      0.605      0.549   -9438.551    1.74e+04\n",
       "Machine Hours      43.5364      3.589     12.129      0.000      36.234      50.839\n",
       "Production Runs   883.6179     82.251     10.743      0.000     716.276    1050.960\n",
       "==============================================================================\n",
       "Omnibus:                        3.142   Durbin-Watson:                   1.313\n",
       "Prob(Omnibus):                  0.208   Jarque-Bera (JB):                2.259\n",
       "Skew:                          -0.609   Prob(JB):                        0.323\n",
       "Kurtosis:                       3.155   Cond. No.                     1.42e+04\n",
       "==============================================================================\n",
       "\n",
       "Notes:\n",
       "[1] Standard Errors assume that the covariance matrix of the errors is correctly specified.\n",
       "[2] The condition number is large, 1.42e+04. This might indicate that there are\n",
       "strong multicollinearity or other numerical problems.\n",
       "\"\"\""
      ]
     },
     "execution_count": 44,
     "metadata": {},
     "output_type": "execute_result"
    }
   ],
   "source": [
    "reg_model.summary()"
   ]
  },
  {
   "cell_type": "code",
   "execution_count": 45,
   "id": "2273eea7",
   "metadata": {},
   "outputs": [],
   "source": [
    "slope_mh, intercept_mh, r_value_mh, _, _ ,= stats.linregress(factory_overhead_df['Machine Hours'],factory_overhead_df['Overhead Cost'])"
   ]
  },
  {
   "cell_type": "code",
   "execution_count": 46,
   "id": "97f80030",
   "metadata": {},
   "outputs": [
    {
     "name": "stdout",
     "output_type": "stream",
     "text": [
      "slope_mh:34.7022364208012\n",
      "Intercept_mh:48621.35463393337\n",
      "R2_mh:0.3992780530435396\n"
     ]
    }
   ],
   "source": [
    "print(f'slope_mh:{slope_mh}')\n",
    "print(f'Intercept_mh:{intercept_mh}')\n",
    "print(f'R2_mh:{r_value_mh**2}')"
   ]
  },
  {
   "cell_type": "code",
   "execution_count": 47,
   "id": "0887c3d2",
   "metadata": {},
   "outputs": [],
   "source": [
    "slope_pr, intercept_pr, r_value_pr, _, _ ,= stats.linregress(factory_overhead_df['Production Runs'],factory_overhead_df['Overhead Cost'])"
   ]
  },
  {
   "cell_type": "code",
   "execution_count": 48,
   "id": "b126b4d8",
   "metadata": {},
   "outputs": [
    {
     "name": "stdout",
     "output_type": "stream",
     "text": [
      "slope_pr:655.0706601982704\n",
      "Intercept_pr:75605.5157139844\n",
      "R2_pr:0.2709655638064029\n"
     ]
    }
   ],
   "source": [
    "print(f'slope_pr:{slope_pr}')\n",
    "print(f'Intercept_pr:{intercept_pr}')\n",
    "print(f'R2_pr:{r_value_pr**2}')"
   ]
  },
  {
   "cell_type": "code",
   "execution_count": 49,
   "id": "f68cd05d",
   "metadata": {},
   "outputs": [],
   "source": [
    "# R sq for Machine hours are higher than Production runs\n"
   ]
  },
  {
   "cell_type": "code",
   "execution_count": 50,
   "id": "73359ced",
   "metadata": {},
   "outputs": [],
   "source": [
    "sd_overheadcost=factory_overhead_df['Overhead Cost'].std()\n",
    "sd_productionruns=factory_overhead_df['Production Runs'].std()\n",
    "sd_machinehours=factory_overhead_df['Machine Hours'].std()"
   ]
  },
  {
   "cell_type": "code",
   "execution_count": 51,
   "id": "f97c84ae",
   "metadata": {},
   "outputs": [
    {
     "name": "stdout",
     "output_type": "stream",
     "text": [
      "beta_std_machinehours:0.6318845250863006\n",
      "beta_std_productionruns:0.520543527292774\n"
     ]
    }
   ],
   "source": [
    "# let us find the standardized beta for  Production Runs and Machine hours respectively \n",
    "\n",
    "print(f'beta_std_machinehours:{slope_mh*(sd_machinehours/sd_overheadcost)}')\n",
    "print(f'beta_std_productionruns:{slope_pr*(sd_productionruns/sd_overheadcost)}')"
   ]
  },
  {
   "cell_type": "code",
   "execution_count": 52,
   "id": "2ca52445",
   "metadata": {},
   "outputs": [],
   "source": [
    "# Machine Runs are better predictor for overhead cost."
   ]
  }
 ],
 "metadata": {
  "kernelspec": {
   "display_name": "Python 3 (ipykernel)",
   "language": "python",
   "name": "python3"
  },
  "language_info": {
   "codemirror_mode": {
    "name": "ipython",
    "version": 3
   },
   "file_extension": ".py",
   "mimetype": "text/x-python",
   "name": "python",
   "nbconvert_exporter": "python",
   "pygments_lexer": "ipython3",
   "version": "3.8.13"
  }
 },
 "nbformat": 4,
 "nbformat_minor": 5
}
