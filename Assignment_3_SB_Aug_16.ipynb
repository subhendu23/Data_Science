{
 "cells": [
  {
   "cell_type": "markdown",
   "id": "d60b2985",
   "metadata": {},
   "source": [
    "### Assignment 3 ###\n"
   ]
  },
  {
   "cell_type": "code",
   "execution_count": 22,
   "id": "08ce257a",
   "metadata": {},
   "outputs": [],
   "source": [
    "# import libraries \n",
    "import scipy.stats as st\n",
    "from scipy.special import gamma, factorial\n",
    "import matplotlib.pyplot as plt\n",
    "import numpy as np\n",
    "np.set_printoptions(precision=3)"
   ]
  },
  {
   "cell_type": "code",
   "execution_count": 10,
   "id": "025ab0f2",
   "metadata": {},
   "outputs": [
    {
     "name": "stdout",
     "output_type": "stream",
     "text": [
      "5.80 percentage orders delivered more than 90 miniutes\n"
     ]
    }
   ],
   "source": [
    "# Question _1_1\n",
    "mu=68\n",
    "sd=14  # P(X>=90) =1-P(x<=90)\n",
    "p_more_90=1-st.norm.cdf(90,mu,sd)\n",
    "print (\"%.2f percentage orders delivered more than 90 miniutes\" %(p_more_90*100))"
   ]
  },
  {
   "cell_type": "code",
   "execution_count": 11,
   "id": "a5ad0853",
   "metadata": {},
   "outputs": [
    {
     "name": "stdout",
     "output_type": "stream",
     "text": [
      "to deliver 99 per of the orders before time , they should advertise 104 hours delivery time\n"
     ]
    }
   ],
   "source": [
    "#Question _1_2\n",
    "# P(X=?) =0.01\n",
    "#P(Z< ?) =1 -0.01= 0.99 => Z =2.576\n",
    "# Z * sd+ mu = X\n",
    "mu=68\n",
    "sd=14 \n",
    "X= mu+sd*2.576\n",
    "print(\"to deliver 99 per of the orders before time , they should advertise %2d hours delivery time\" % round(X))"
   ]
  },
  {
   "cell_type": "code",
   "execution_count": 12,
   "id": "96e534dc",
   "metadata": {},
   "outputs": [
    {
     "name": "stdout",
     "output_type": "stream",
     "text": [
      "The probaility of 5 member family will see 25 min delay  at SF airport will be 50.51.percent \n",
      "\n"
     ]
    }
   ],
   "source": [
    "#Question _2\n",
    "delay_sample=[5.5,10.5,13,22.5,45,55]\n",
    "df=6-1\n",
    "mean_sample_delay=np.average(delay_sample)\n",
    "sd_sample_delay=np.std(delay_sample,axis=0)\n",
    "#P(X=25 assuming all population mean of flights delay)=t.cdf(sample_mean, df, pop_mean , sample_sd)\n",
    "\n",
    "P=st.t.cdf(mean_sample_delay,df,25,sd_sample_delay)\n",
    "\n",
    "print(\"The probaility of 5 member family will see 25 min delay  at SF airport will be %.2f.percent \\n\" % (P*100))\n",
    "\n",
    "\n"
   ]
  },
  {
   "cell_type": "code",
   "execution_count": 13,
   "id": "b54fe19a",
   "metadata": {},
   "outputs": [
    {
     "name": "stdout",
     "output_type": "stream",
     "text": [
      "Probability of the car transmission failing less or equal at 5000 is 39.35 percent \n"
     ]
    }
   ],
   "source": [
    "# Question _3\n",
    "\n",
    "#exponential distribution \n",
    "# mean= 1/lamda\n",
    "\n",
    "#given mean miles for failure is 10,000 miles \n",
    "\n",
    "Lambda =1/10000\n",
    "\n",
    "P_X_lessoreq_5000 = st.expon.cdf(x=5000,scale=10000)\n",
    "print (\"Probability of the car transmission failing less or equal at 5000 is %.2f percent \" % (P_X_lessoreq_5000*100))"
   ]
  },
  {
   "cell_type": "code",
   "execution_count": 20,
   "id": "73a0a229",
   "metadata": {},
   "outputs": [
    {
     "name": "stdout",
     "output_type": "stream",
     "text": [
      "Probability of the bearing lasts fewer than 6000 hours is 66.56 percent \n"
     ]
    }
   ],
   "source": [
    "#Question _4_a\n",
    "gamma_shapeparam=0.5\n",
    "alpha_scaleparam=5000\n",
    "\n",
    "P_X_less_or_eq_6000=st.weibull_min.cdf(6000, gamma_shapeparam,loc=0,scale=alpha_scaleparam)\n",
    "print (\"Probability of the bearing lasts fewer than 6000 hours is %.2f percent \" % (P_X_less_or_eq_6000*100))"
   ]
  },
  {
   "cell_type": "markdown",
   "id": "d116395c",
   "metadata": {},
   "source": [
    "$$ E[X]= \\beta \\Gamma (1+1/k){  }  $$ "
   ]
  },
  {
   "cell_type": "code",
   "execution_count": 30,
   "id": "860ad729",
   "metadata": {},
   "outputs": [
    {
     "name": "stdout",
     "output_type": "stream",
     "text": [
      "Mean time to failure 10000 hours \n",
      "\n"
     ]
    }
   ],
   "source": [
    "#Question _4_b\n",
    "k=0.5\n",
    "alpha_scaleparam_lambda=1/5000\n",
    "beta=1/alpha_scaleparam_lambda\n",
    "\n",
    "mean_time_to_fail=gamma(1+1/k)* beta\n",
    "print(\"Mean time to failure %d hours \\n\" %mean_time_to_fail)"
   ]
  },
  {
   "cell_type": "markdown",
   "id": "89c3a9c8",
   "metadata": {},
   "source": [
    "#Question 5\n",
    "\n",
    "|Description||Datatype|\\\n",
    "|GMAT Score||Interval|\\\n",
    "|Blood Type||Nominal|\\\n",
    "|Credit Score||Discreet|\\\n",
    "|Temperature-Degree||Interval|\\\n",
    "|Temperature-Kelvin||Interval|\\\n",
    "|Zip Code||Nominal|\\\n",
    "|Shoe Size -UK||Interval|\\\n",
    "|Birth Year||Interval|\\\n",
    "|Military Rank||Ordinal|\\\n",
    "|Tax Rate||Ratio|\n"
   ]
  },
  {
   "cell_type": "markdown",
   "id": "fd22efb8",
   "metadata": {},
   "source": []
  },
  {
   "cell_type": "code",
   "execution_count": 47,
   "id": "7621a98d",
   "metadata": {},
   "outputs": [
    {
     "name": "stdout",
     "output_type": "stream",
     "text": [
      "[37.983 38.9   42.256 46.845 41.805 41.314 28.898 36.466 36.073 41.597\n",
      " 37.63  33.286 39.45  36.34  42.611 39.395 35.36  38.473 40.481 44.663\n",
      " 34.695 41.791 34.164 37.384 42.966 40.207 42.804 32.245 47.747 34.426\n",
      " 43.285 36.005 39.34  39.772 35.776 37.695 38.591 37.493 39.258 35.945\n",
      " 36.9   42.436 41.473 42.678 42.154 38.97  39.187 27.116 40.329 40.058\n",
      " 40.148 50.284 40.857 40.362 36.017 32.299 40.521 43.869 42.07  34.029\n",
      " 38.552 42.584 43.17  39.029 37.36  34.02  34.325 29.1   31.279 33.202\n",
      " 42.737 37.774 43.632 37.611 33.286 44.458 40.882 42.916 35.029 35.679\n",
      " 35.042 36.126 38.825 41.448 38.624 44.881 35.947 39.985 23.713 43.045\n",
      " 34.951 36.44  44.375 40.688 43.732 34.657 42.664 28.157 38.58  35.198]\n",
      "The mu gets added by 3 38.569 \n",
      "\n",
      "The std dev remains the same 4.468 \n",
      "\n"
     ]
    }
   ],
   "source": [
    "# Question_6\n",
    "# if X (mu, sigma_sq) the a*X is on (a *mu , a * sigma_sq)\n",
    "\n",
    "\n",
    "mu=35\n",
    "sigma=5\n",
    "data_x=np.random.normal(mu,sigma,size=100)\n",
    "data_x+=3\n",
    "print(data_x)\n",
    "mu_data_x=np.mean(data_x)\n",
    "sigma_data_x=np.std(data_x)\n",
    "print(\"The mu gets added by 3 %.3f \\n\" % mu_data_x)\n",
    "print(\"The std dev remains the same %.3f \\n\" % sigma_data_x)"
   ]
  },
  {
   "cell_type": "markdown",
   "id": "6586ff24",
   "metadata": {},
   "source": [
    "$ CI = \\bar{x} \\pm z \\frac {s}{\\sqrt {n}} $"
   ]
  },
  {
   "cell_type": "code",
   "execution_count": 63,
   "id": "369240d3",
   "metadata": {},
   "outputs": [
    {
     "name": "stdout",
     "output_type": "stream",
     "text": [
      " The mean of the spend for the population will be between 674.78  and   512.90, for confidedence level 95 percent. \n",
      "\n"
     ]
    }
   ],
   "source": [
    "\n",
    "#Question _7\n",
    "import math\n",
    "sample=80\n",
    "sample_mean=593.84 \n",
    "sample_sd=369.34\n",
    "Z_95= 1.96\n",
    "CI=[(sample_mean+Z_95*(sample_sd/math.sqrt(sample))),(sample_mean-Z_95*(sample_sd/math.sqrt(sample)))]\n",
    "print(\" The mean of the spend for the population will be between {0:5.2f}  and {1:8.2f}, for confidedence level 95 percent. \\n\".format(CI[0],CI[1]))"
   ]
  },
  {
   "cell_type": "markdown",
   "id": "d4ffa748",
   "metadata": {},
   "source": [
    "**```Skewness = (Mean - Mode) / (Standard Deviation)```**\n",
    "This is also the Karl Pearson's coefficient of Skewness.\n",
    "\n",
    "or \n",
    "\n",
    "**```Skewness = 3(Mean - Median) / (Standard Deviation)```**"
   ]
  },
  {
   "cell_type": "code",
   "execution_count": 67,
   "id": "9dd0ff85",
   "metadata": {},
   "outputs": [
    {
     "name": "stdout",
     "output_type": "stream",
     "text": [
      "Portfolio Mode = 50.880 \n",
      "Portfolio median = 56.427 \n"
     ]
    }
   ],
   "source": [
    "#Question _8\n",
    "\n",
    "KP_skew=0.64\n",
    "sd_portfolio=13\n",
    "mean_portfolio= 59.2\n",
    "\n",
    "mode_portfolio= mean_portfolio-(KP_skew*sd_portfolio)\n",
    "print(\"Portfolio Mode = %.3f \"% mode_portfolio)\n",
    "\n",
    "median_portfolio= (3*mean_portfolio-KP_skew*sd_portfolio)/3\n",
    "print(\"Portfolio median = %.3f \"%median_portfolio)"
   ]
  },
  {
   "cell_type": "code",
   "execution_count": 78,
   "id": "506d2ca1",
   "metadata": {},
   "outputs": [
    {
     "name": "stdout",
     "output_type": "stream",
     "text": [
      "70.0 -1.303024574669187\n",
      "62.0 -1.4510814341704166\n",
      "A should be choice because higher mean and relatively higher kurtosis\n"
     ]
    }
   ],
   "source": [
    "#Question _9\n",
    "\n",
    "A_runs=[25,85,40,80,120]\n",
    "B_runs=[50,70,65,45,80]\n",
    "\n",
    "A_mean=np.average(A_runs)\n",
    "B_mean=np.average(B_runs)\n",
    "print(A_mean,st.kurtosis(A_runs))\n",
    "print(B_mean,st.kurtosis(B_runs))\n",
    "\n",
    "print (\"A should be choice because higher mean and relatively higher kurtosis\")\n",
    "\n"
   ]
  },
  {
   "cell_type": "code",
   "execution_count": 88,
   "id": "4b06db5a",
   "metadata": {},
   "outputs": [
    {
     "name": "stdout",
     "output_type": "stream",
     "text": [
      "10.0 | 2.088931871468374 | 0.0 | -0.24999999999999956 \n",
      "\n",
      "10.0 | 3.1908961408698624 | 0.0 | -1.5969387755102038 \n",
      "\n",
      "Machine A is desireable as lower sd/variance  and higher Kurtosis\n"
     ]
    }
   ],
   "source": [
    "#Question _10\n",
    "\n",
    "A=[6, 8, 8, 10, 10, 10, 10, 10, 12, 12, 14]\n",
    "B=[6, 6, 6, 8, 8, 10, 12, 12, 14, 14, 14]\n",
    "\n",
    "mean_a,sd_a,skew_a,kurt_a=np.average(A),np.std(A),st.skew(A,axis=0,bias=True),st.kurtosis(A)\n",
    "print (mean_a,\"|\",sd_a,\"|\",skew_a,\"|\",kurt_a,\"\\n\")\n",
    "mean_b,sd_b,skew_b,kurt_b=np.average(B),np.std(B),st.skew(B,axis=0,bias=True),st.kurtosis(B)\n",
    "print (mean_b,\"|\",sd_b,\"|\",skew_b,\"|\",kurt_b,\"\\n\")\n",
    "\n",
    "print(\"Machine A is desireable as lower sd/variance  and higher Kurtosis\")"
   ]
  },
  {
   "cell_type": "markdown",
   "id": "7f6ebc60",
   "metadata": {},
   "source": [
    "#Question_11\n",
    "<div class=\"alert alert-block alert-success\">\n",
    "<b>Not Odd:</b> a) Asking volunteers at the mall.\n",
    "</div>\n",
    "\n",
    "<div class=\"alert alert-block alert-warning\">\n",
    "<b>Odd:</b> b) Pilot testing of a new product launch\n",
    "</div>\n",
    "\n",
    "<div class=\"alert alert-block alert-success\">\n",
    "<b>Not Odd:</b> c) Find brand of smartphone preferred by people based on either gender or age or socio-economic status.\n",
    "</div>\n",
    "\n",
    "<div class=\"alert alert-block alert-success\">\n",
    "<b>Not Odd:</b> d) Pick all students and split them by grade and select random from each grade.\n",
    "</div>"
   ]
  },
  {
   "cell_type": "code",
   "execution_count": null,
   "id": "4650d300",
   "metadata": {},
   "outputs": [],
   "source": []
  }
 ],
 "metadata": {
  "kernelspec": {
   "display_name": "Python 3 (ipykernel)",
   "language": "python",
   "name": "python3"
  },
  "language_info": {
   "codemirror_mode": {
    "name": "ipython",
    "version": 3
   },
   "file_extension": ".py",
   "mimetype": "text/x-python",
   "name": "python",
   "nbconvert_exporter": "python",
   "pygments_lexer": "ipython3",
   "version": "3.8.13"
  }
 },
 "nbformat": 4,
 "nbformat_minor": 5
}
