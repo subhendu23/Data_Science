{
 "cells": [
  {
   "cell_type": "code",
   "execution_count": 141,
   "id": "236310b2",
   "metadata": {},
   "outputs": [],
   "source": [
    "import pandas as pd\n",
    "import numpy as numpy\n",
    "\n",
    "import matplotlib.pyplot as plt\n",
    "import seaborn as sns\n",
    "from scipy import stats\n",
    "import researchpy as rp\n",
    "import statsmodels.api as sm\n",
    "from statsmodels.formula.api import ols"
   ]
  },
  {
   "cell_type": "markdown",
   "id": "e35ceb1c",
   "metadata": {},
   "source": [
    "### Q1. MLR Stepwise Regression – Household Expense\n",
    "500 household were surveyed on their monthly expenses. The data is in the file MLR_MonthlyExpense.\n",
    "For this, use the monthly payment as the dependent variable.\n",
    "1) Begin with family size and iterative add one variable and estimate the resulting regression equation.\n",
    "2) Does adding any explanatory variable lead to a fall in adjusted R-Squared.\n",
    "3) Which variables are added in the final model?\n",
    "4) Interpret the coefficients, R-squared and standard error of estimate for the final model.\n",
    "5) What result do you get if you use mlxtend stepwise regression"
   ]
  },
  {
   "cell_type": "code",
   "execution_count": 142,
   "id": "a5529b0d",
   "metadata": {},
   "outputs": [
    {
     "data": {
      "text/html": [
       "<div>\n",
       "<style scoped>\n",
       "    .dataframe tbody tr th:only-of-type {\n",
       "        vertical-align: middle;\n",
       "    }\n",
       "\n",
       "    .dataframe tbody tr th {\n",
       "        vertical-align: top;\n",
       "    }\n",
       "\n",
       "    .dataframe thead th {\n",
       "        text-align: right;\n",
       "    }\n",
       "</style>\n",
       "<table border=\"1\" class=\"dataframe\">\n",
       "  <thead>\n",
       "    <tr style=\"text-align: right;\">\n",
       "      <th></th>\n",
       "      <th>Monthly Payment</th>\n",
       "      <th>Family Size</th>\n",
       "      <th>Sector No</th>\n",
       "      <th>Rent</th>\n",
       "      <th>Own</th>\n",
       "      <th>Income</th>\n",
       "      <th>Utilities</th>\n",
       "      <th>Debt</th>\n",
       "    </tr>\n",
       "    <tr>\n",
       "      <th>Household</th>\n",
       "      <th></th>\n",
       "      <th></th>\n",
       "      <th></th>\n",
       "      <th></th>\n",
       "      <th></th>\n",
       "      <th></th>\n",
       "      <th></th>\n",
       "      <th></th>\n",
       "    </tr>\n",
       "  </thead>\n",
       "  <tbody>\n",
       "    <tr>\n",
       "      <th>467</th>\n",
       "      <td>$1,222</td>\n",
       "      <td>3</td>\n",
       "      <td>1</td>\n",
       "      <td>0</td>\n",
       "      <td>1</td>\n",
       "      <td>$48,369</td>\n",
       "      <td>$259</td>\n",
       "      <td>$5,107</td>\n",
       "    </tr>\n",
       "    <tr>\n",
       "      <th>335</th>\n",
       "      <td>$853</td>\n",
       "      <td>6</td>\n",
       "      <td>1</td>\n",
       "      <td>0</td>\n",
       "      <td>1</td>\n",
       "      <td>$39,773</td>\n",
       "      <td>$272</td>\n",
       "      <td>$5,070</td>\n",
       "    </tr>\n",
       "    <tr>\n",
       "      <th>163</th>\n",
       "      <td>$892</td>\n",
       "      <td>5</td>\n",
       "      <td>1</td>\n",
       "      <td>1</td>\n",
       "      <td>0</td>\n",
       "      <td>$76,802</td>\n",
       "      <td>$213</td>\n",
       "      <td>$2,551</td>\n",
       "    </tr>\n",
       "    <tr>\n",
       "      <th>46</th>\n",
       "      <td>$1,458</td>\n",
       "      <td>5</td>\n",
       "      <td>2</td>\n",
       "      <td>0</td>\n",
       "      <td>1</td>\n",
       "      <td>$1,16,010</td>\n",
       "      <td>$277</td>\n",
       "      <td>$6,153</td>\n",
       "    </tr>\n",
       "    <tr>\n",
       "      <th>365</th>\n",
       "      <td>$1,331</td>\n",
       "      <td>6</td>\n",
       "      <td>1</td>\n",
       "      <td>0</td>\n",
       "      <td>1</td>\n",
       "      <td>$67,154</td>\n",
       "      <td>$271</td>\n",
       "      <td>$7,349</td>\n",
       "    </tr>\n",
       "    <tr>\n",
       "      <th>116</th>\n",
       "      <td>$670</td>\n",
       "      <td>3</td>\n",
       "      <td>3</td>\n",
       "      <td>0</td>\n",
       "      <td>1</td>\n",
       "      <td>$1,10,068</td>\n",
       "      <td>$261</td>\n",
       "      <td>$3,671</td>\n",
       "    </tr>\n",
       "    <tr>\n",
       "      <th>124</th>\n",
       "      <td>$1,500</td>\n",
       "      <td>3</td>\n",
       "      <td>2</td>\n",
       "      <td>0</td>\n",
       "      <td>1</td>\n",
       "      <td>$79,808</td>\n",
       "      <td>$261</td>\n",
       "      <td>$4,963</td>\n",
       "    </tr>\n",
       "    <tr>\n",
       "      <th>363</th>\n",
       "      <td>$603</td>\n",
       "      <td>3</td>\n",
       "      <td>4</td>\n",
       "      <td>1</td>\n",
       "      <td>0</td>\n",
       "      <td>$45,995</td>\n",
       "      <td>$206</td>\n",
       "      <td>$3,203</td>\n",
       "    </tr>\n",
       "    <tr>\n",
       "      <th>495</th>\n",
       "      <td>$1,032</td>\n",
       "      <td>2</td>\n",
       "      <td>1</td>\n",
       "      <td>0</td>\n",
       "      <td>1</td>\n",
       "      <td>$86,424</td>\n",
       "      <td>$246</td>\n",
       "      <td>$6,001</td>\n",
       "    </tr>\n",
       "    <tr>\n",
       "      <th>468</th>\n",
       "      <td>$1,076</td>\n",
       "      <td>2</td>\n",
       "      <td>2</td>\n",
       "      <td>1</td>\n",
       "      <td>0</td>\n",
       "      <td>$74,330</td>\n",
       "      <td>$197</td>\n",
       "      <td>$1,686</td>\n",
       "    </tr>\n",
       "  </tbody>\n",
       "</table>\n",
       "</div>"
      ],
      "text/plain": [
       "          Monthly Payment  Family Size  Sector No  Rent  Own     Income  \\\n",
       "Household                                                                 \n",
       "467                $1,222            3          1     0    1    $48,369   \n",
       "335                  $853            6          1     0    1    $39,773   \n",
       "163                  $892            5          1     1    0    $76,802   \n",
       "46                 $1,458            5          2     0    1  $1,16,010   \n",
       "365                $1,331            6          1     0    1    $67,154   \n",
       "116                  $670            3          3     0    1  $1,10,068   \n",
       "124                $1,500            3          2     0    1    $79,808   \n",
       "363                  $603            3          4     1    0    $45,995   \n",
       "495                $1,032            2          1     0    1    $86,424   \n",
       "468                $1,076            2          2     1    0    $74,330   \n",
       "\n",
       "          Utilities    Debt  \n",
       "Household                    \n",
       "467            $259  $5,107  \n",
       "335            $272  $5,070  \n",
       "163            $213  $2,551  \n",
       "46             $277  $6,153  \n",
       "365            $271  $7,349  \n",
       "116            $261  $3,671  \n",
       "124            $261  $4,963  \n",
       "363            $206  $3,203  \n",
       "495            $246  $6,001  \n",
       "468            $197  $1,686  "
      ]
     },
     "execution_count": 142,
     "metadata": {},
     "output_type": "execute_result"
    }
   ],
   "source": [
    "HouseHoldExp_df=pd.read_csv('MLR_MonthlyExpense.csv')\n",
    "HouseHoldExp_df=HouseHoldExp_df.set_index(['Household'])\n",
    "HouseHoldExp_df.sample(10)\n"
   ]
  },
  {
   "cell_type": "code",
   "execution_count": 143,
   "id": "599e2e3b",
   "metadata": {},
   "outputs": [
    {
     "name": "stderr",
     "output_type": "stream",
     "text": [
      "C:\\Users\\sbiswal\\AppData\\Local\\Temp\\ipykernel_26436\\385151474.py:1: FutureWarning: The default value of regex will change from True to False in a future version. In addition, single character regular expressions will *not* be treated as literal strings when regex=True.\n",
      "  HouseHoldExp_df['MonthlyPay_replace'] =HouseHoldExp_df['Monthly Payment'].str.replace('$', '').str.replace(',','')\n",
      "C:\\Users\\sbiswal\\AppData\\Local\\Temp\\ipykernel_26436\\385151474.py:2: FutureWarning: The default value of regex will change from True to False in a future version. In addition, single character regular expressions will *not* be treated as literal strings when regex=True.\n",
      "  HouseHoldExp_df['Income_replace'] =HouseHoldExp_df['Income'].str.replace('$', '').str.replace(',','')\n",
      "C:\\Users\\sbiswal\\AppData\\Local\\Temp\\ipykernel_26436\\385151474.py:3: FutureWarning: The default value of regex will change from True to False in a future version. In addition, single character regular expressions will *not* be treated as literal strings when regex=True.\n",
      "  HouseHoldExp_df['Utilities_replace'] =HouseHoldExp_df['Utilities'].str.replace('$', '').str.replace(',','')\n",
      "C:\\Users\\sbiswal\\AppData\\Local\\Temp\\ipykernel_26436\\385151474.py:4: FutureWarning: The default value of regex will change from True to False in a future version. In addition, single character regular expressions will *not* be treated as literal strings when regex=True.\n",
      "  HouseHoldExp_df['Debt_replace'] =HouseHoldExp_df['Debt'].str.replace('$', '').str.replace(',','')\n"
     ]
    },
    {
     "data": {
      "text/html": [
       "<div>\n",
       "<style scoped>\n",
       "    .dataframe tbody tr th:only-of-type {\n",
       "        vertical-align: middle;\n",
       "    }\n",
       "\n",
       "    .dataframe tbody tr th {\n",
       "        vertical-align: top;\n",
       "    }\n",
       "\n",
       "    .dataframe thead th {\n",
       "        text-align: right;\n",
       "    }\n",
       "</style>\n",
       "<table border=\"1\" class=\"dataframe\">\n",
       "  <thead>\n",
       "    <tr style=\"text-align: right;\">\n",
       "      <th></th>\n",
       "      <th>Family Size</th>\n",
       "      <th>Sector No</th>\n",
       "      <th>Rent</th>\n",
       "      <th>Own</th>\n",
       "      <th>MonthlyPay_replace</th>\n",
       "      <th>Income_replace</th>\n",
       "      <th>Utilities_replace</th>\n",
       "      <th>Debt_replace</th>\n",
       "    </tr>\n",
       "    <tr>\n",
       "      <th>Household</th>\n",
       "      <th></th>\n",
       "      <th></th>\n",
       "      <th></th>\n",
       "      <th></th>\n",
       "      <th></th>\n",
       "      <th></th>\n",
       "      <th></th>\n",
       "      <th></th>\n",
       "    </tr>\n",
       "  </thead>\n",
       "  <tbody>\n",
       "    <tr>\n",
       "      <th>1</th>\n",
       "      <td>2</td>\n",
       "      <td>2</td>\n",
       "      <td>0</td>\n",
       "      <td>1</td>\n",
       "      <td>1585</td>\n",
       "      <td>96709</td>\n",
       "      <td>252</td>\n",
       "      <td>5692</td>\n",
       "    </tr>\n",
       "    <tr>\n",
       "      <th>2</th>\n",
       "      <td>6</td>\n",
       "      <td>2</td>\n",
       "      <td>1</td>\n",
       "      <td>0</td>\n",
       "      <td>1314</td>\n",
       "      <td>77470</td>\n",
       "      <td>216</td>\n",
       "      <td>4267</td>\n",
       "    </tr>\n",
       "    <tr>\n",
       "      <th>3</th>\n",
       "      <td>3</td>\n",
       "      <td>4</td>\n",
       "      <td>1</td>\n",
       "      <td>0</td>\n",
       "      <td>383</td>\n",
       "      <td>65746</td>\n",
       "      <td>207</td>\n",
       "      <td>2903</td>\n",
       "    </tr>\n",
       "    <tr>\n",
       "      <th>4</th>\n",
       "      <td>1</td>\n",
       "      <td>1</td>\n",
       "      <td>0</td>\n",
       "      <td>1</td>\n",
       "      <td>1002</td>\n",
       "      <td>56610</td>\n",
       "      <td>249</td>\n",
       "      <td>3896</td>\n",
       "    </tr>\n",
       "    <tr>\n",
       "      <th>5</th>\n",
       "      <td>3</td>\n",
       "      <td>3</td>\n",
       "      <td>1</td>\n",
       "      <td>0</td>\n",
       "      <td>743</td>\n",
       "      <td>59185</td>\n",
       "      <td>217</td>\n",
       "      <td>3011</td>\n",
       "    </tr>\n",
       "  </tbody>\n",
       "</table>\n",
       "</div>"
      ],
      "text/plain": [
       "           Family Size  Sector No  Rent  Own  MonthlyPay_replace  \\\n",
       "Household                                                          \n",
       "1                    2          2     0    1                1585   \n",
       "2                    6          2     1    0                1314   \n",
       "3                    3          4     1    0                 383   \n",
       "4                    1          1     0    1                1002   \n",
       "5                    3          3     1    0                 743   \n",
       "\n",
       "           Income_replace  Utilities_replace  Debt_replace  \n",
       "Household                                                   \n",
       "1                   96709                252          5692  \n",
       "2                   77470                216          4267  \n",
       "3                   65746                207          2903  \n",
       "4                   56610                249          3896  \n",
       "5                   59185                217          3011  "
      ]
     },
     "execution_count": 143,
     "metadata": {},
     "output_type": "execute_result"
    }
   ],
   "source": [
    "HouseHoldExp_df['MonthlyPay_replace'] =HouseHoldExp_df['Monthly Payment'].str.replace('$', '').str.replace(',','')\n",
    "HouseHoldExp_df['Income_replace'] =HouseHoldExp_df['Income'].str.replace('$', '').str.replace(',','')\n",
    "HouseHoldExp_df['Utilities_replace'] =HouseHoldExp_df['Utilities'].str.replace('$', '').str.replace(',','')\n",
    "HouseHoldExp_df['Debt_replace'] =HouseHoldExp_df['Debt'].str.replace('$', '').str.replace(',','')\n",
    "HouseHoldExp_df['MonthlyPay_replace'] = pd.to_numeric(HouseHoldExp_df['MonthlyPay_replace'])\n",
    "HouseHoldExp_df['Income_replace'] = pd.to_numeric(HouseHoldExp_df['Income_replace'])\n",
    "HouseHoldExp_df['Utilities_replace'] = pd.to_numeric(HouseHoldExp_df['Utilities_replace'])\n",
    "HouseHoldExp_df['Debt_replace'] = pd.to_numeric(HouseHoldExp_df['Debt_replace'])\n",
    "HouseHoldExp_df.drop(['Monthly Payment','Income','Utilities','Debt'],inplace=True,axis=1)\n",
    "HouseHoldExp_df.head()"
   ]
  },
  {
   "cell_type": "code",
   "execution_count": 144,
   "id": "e1cee28d",
   "metadata": {},
   "outputs": [],
   "source": [
    "HouseHoldExp_df.drop('Rent',inplace=True,axis=1)\n",
    "HouseHoldExp_df1=HouseHoldExp_df"
   ]
  },
  {
   "cell_type": "code",
   "execution_count": 145,
   "id": "ebcb2022",
   "metadata": {},
   "outputs": [
    {
     "data": {
      "text/html": [
       "<div>\n",
       "<style scoped>\n",
       "    .dataframe tbody tr th:only-of-type {\n",
       "        vertical-align: middle;\n",
       "    }\n",
       "\n",
       "    .dataframe tbody tr th {\n",
       "        vertical-align: top;\n",
       "    }\n",
       "\n",
       "    .dataframe thead th {\n",
       "        text-align: right;\n",
       "    }\n",
       "</style>\n",
       "<table border=\"1\" class=\"dataframe\">\n",
       "  <thead>\n",
       "    <tr style=\"text-align: right;\">\n",
       "      <th></th>\n",
       "      <th>Family Size</th>\n",
       "      <th>MonthlyPay_replace</th>\n",
       "      <th>Income_replace</th>\n",
       "      <th>Utilities_replace</th>\n",
       "      <th>Debt_replace</th>\n",
       "      <th>Sector No_2</th>\n",
       "      <th>Sector No_3</th>\n",
       "      <th>Sector No_4</th>\n",
       "      <th>Own_1</th>\n",
       "    </tr>\n",
       "    <tr>\n",
       "      <th>Household</th>\n",
       "      <th></th>\n",
       "      <th></th>\n",
       "      <th></th>\n",
       "      <th></th>\n",
       "      <th></th>\n",
       "      <th></th>\n",
       "      <th></th>\n",
       "      <th></th>\n",
       "      <th></th>\n",
       "    </tr>\n",
       "  </thead>\n",
       "  <tbody>\n",
       "    <tr>\n",
       "      <th>1</th>\n",
       "      <td>2</td>\n",
       "      <td>1585</td>\n",
       "      <td>96709</td>\n",
       "      <td>252</td>\n",
       "      <td>5692</td>\n",
       "      <td>1</td>\n",
       "      <td>0</td>\n",
       "      <td>0</td>\n",
       "      <td>1</td>\n",
       "    </tr>\n",
       "    <tr>\n",
       "      <th>2</th>\n",
       "      <td>6</td>\n",
       "      <td>1314</td>\n",
       "      <td>77470</td>\n",
       "      <td>216</td>\n",
       "      <td>4267</td>\n",
       "      <td>1</td>\n",
       "      <td>0</td>\n",
       "      <td>0</td>\n",
       "      <td>0</td>\n",
       "    </tr>\n",
       "    <tr>\n",
       "      <th>3</th>\n",
       "      <td>3</td>\n",
       "      <td>383</td>\n",
       "      <td>65746</td>\n",
       "      <td>207</td>\n",
       "      <td>2903</td>\n",
       "      <td>0</td>\n",
       "      <td>0</td>\n",
       "      <td>1</td>\n",
       "      <td>0</td>\n",
       "    </tr>\n",
       "    <tr>\n",
       "      <th>4</th>\n",
       "      <td>1</td>\n",
       "      <td>1002</td>\n",
       "      <td>56610</td>\n",
       "      <td>249</td>\n",
       "      <td>3896</td>\n",
       "      <td>0</td>\n",
       "      <td>0</td>\n",
       "      <td>0</td>\n",
       "      <td>1</td>\n",
       "    </tr>\n",
       "    <tr>\n",
       "      <th>5</th>\n",
       "      <td>3</td>\n",
       "      <td>743</td>\n",
       "      <td>59185</td>\n",
       "      <td>217</td>\n",
       "      <td>3011</td>\n",
       "      <td>0</td>\n",
       "      <td>1</td>\n",
       "      <td>0</td>\n",
       "      <td>0</td>\n",
       "    </tr>\n",
       "  </tbody>\n",
       "</table>\n",
       "</div>"
      ],
      "text/plain": [
       "           Family Size  MonthlyPay_replace  Income_replace  Utilities_replace  \\\n",
       "Household                                                                       \n",
       "1                    2                1585           96709                252   \n",
       "2                    6                1314           77470                216   \n",
       "3                    3                 383           65746                207   \n",
       "4                    1                1002           56610                249   \n",
       "5                    3                 743           59185                217   \n",
       "\n",
       "           Debt_replace  Sector No_2  Sector No_3  Sector No_4  Own_1  \n",
       "Household                                                              \n",
       "1                  5692            1            0            0      1  \n",
       "2                  4267            1            0            0      0  \n",
       "3                  2903            0            0            1      0  \n",
       "4                  3896            0            0            0      1  \n",
       "5                  3011            0            1            0      0  "
      ]
     },
     "execution_count": 145,
     "metadata": {},
     "output_type": "execute_result"
    }
   ],
   "source": [
    "HouseHoldExp_df= pd.get_dummies(HouseHoldExp_df,columns=['Sector No','Own'],drop_first=True)\n",
    "HouseHoldExp_df.head()"
   ]
  },
  {
   "cell_type": "code",
   "execution_count": 146,
   "id": "82958c57",
   "metadata": {},
   "outputs": [
    {
     "data": {
      "text/plain": [
       "<seaborn.axisgrid.PairGrid at 0x17e5c185af0>"
      ]
     },
     "execution_count": 146,
     "metadata": {},
     "output_type": "execute_result"
    },
    {
     "data": {
      "image/png": "[encoded data removed]",
      "text/plain": [
       "<Figure size 750x250 with 3 Axes>"
      ]
     },
     "metadata": {},
     "output_type": "display_data"
    }
   ],
   "source": [
    "# Lets look at relationship of Profit with the numerical predictors\n",
    "sns.pairplot(HouseHoldExp_df,     \n",
    "             x_vars=['Income_replace', 'Utilities_replace', 'Debt_replace'],\n",
    "             y_vars=['MonthlyPay_replace'])"
   ]
  },
  {
   "cell_type": "code",
   "execution_count": 147,
   "id": "20b032d0",
   "metadata": {},
   "outputs": [
    {
     "data": {
      "text/plain": [
       "<AxesSubplot:title={'center':'MonthlyPay_replace'}, xlabel='Sector No'>"
      ]
     },
     "execution_count": 147,
     "metadata": {},
     "output_type": "execute_result"
    },
    {
     "data": {
      "image/png": "[encoded data removed]",
      "text/plain": [
       "<Figure size 1200x800 with 1 Axes>"
      ]
     },
     "metadata": {},
     "output_type": "display_data"
    }
   ],
   "source": [
    "HouseHoldExp_df1.boxplot(column=['MonthlyPay_replace'], by='Sector No', figsize=(12, 8))"
   ]
  },
  {
   "cell_type": "code",
   "execution_count": 148,
   "id": "fd305f51",
   "metadata": {},
   "outputs": [
    {
     "data": {
      "text/plain": [
       "<AxesSubplot:title={'center':'MonthlyPay_replace'}, xlabel='Own'>"
      ]
     },
     "execution_count": 148,
     "metadata": {},
     "output_type": "execute_result"
    },
    {
     "data": {
      "image/png": "[encoded data removed]",
      "text/plain": [
       "<Figure size 1200x800 with 1 Axes>"
      ]
     },
     "metadata": {},
     "output_type": "display_data"
    }
   ],
   "source": [
    "HouseHoldExp_df1.boxplot(column=['MonthlyPay_replace'], by='Own', figsize=(12, 8))"
   ]
  },
  {
   "cell_type": "code",
   "execution_count": 149,
   "id": "fce65e71",
   "metadata": {},
   "outputs": [
    {
     "data": {
      "text/plain": [
       "<AxesSubplot:xlabel='MonthlyPay_replace', ylabel='Density'>"
      ]
     },
     "execution_count": 149,
     "metadata": {},
     "output_type": "execute_result"
    },
    {
     "data": {
      "image/png": "[encoded data removed]",
      "text/plain": [
       "<Figure size 640x480 with 1 Axes>"
      ]
     },
     "metadata": {},
     "output_type": "display_data"
    }
   ],
   "source": [
    "sns.kdeplot(x=HouseHoldExp_df.MonthlyPay_replace)"
   ]
  },
  {
   "cell_type": "code",
   "execution_count": 150,
   "id": "6753ee08",
   "metadata": {},
   "outputs": [],
   "source": [
    "columns = HouseHoldExp_df.columns"
   ]
  },
  {
   "cell_type": "code",
   "execution_count": 151,
   "id": "5b3dfc6e",
   "metadata": {},
   "outputs": [
    {
     "data": {
      "text/plain": [
       "Index(['Family Size', 'MonthlyPay_replace', 'Income_replace',\n",
       "       'Utilities_replace', 'Debt_replace', 'Sector No_2', 'Sector No_3',\n",
       "       'Sector No_4', 'Own_1'],\n",
       "      dtype='object')"
      ]
     },
     "execution_count": 151,
     "metadata": {},
     "output_type": "execute_result"
    }
   ],
   "source": [
    "columns"
   ]
  },
  {
   "cell_type": "code",
   "execution_count": 152,
   "id": "269ef264",
   "metadata": {},
   "outputs": [],
   "source": [
    "y=HouseHoldExp_df['MonthlyPay_replace']\n",
    "X=HouseHoldExp_df"
   ]
  },
  {
   "cell_type": "code",
   "execution_count": 153,
   "id": "f0b82923",
   "metadata": {},
   "outputs": [],
   "source": [
    "X.drop('MonthlyPay_replace',inplace=True, axis=1)"
   ]
  },
  {
   "cell_type": "code",
   "execution_count": 154,
   "id": "df0144c6",
   "metadata": {},
   "outputs": [],
   "source": [
    "X = sm.add_constant(X)"
   ]
  },
  {
   "cell_type": "code",
   "execution_count": 155,
   "id": "d4cf1bef",
   "metadata": {},
   "outputs": [
    {
     "name": "stdout",
     "output_type": "stream",
     "text": [
      "extracted pvalue for const is 1.3238856902081358e-235\n",
      "adj R Sq. is 0.0\n",
      "----------------------------------------------\n",
      "extracted pvalue for Family Size is 6.268927936881773e-124\n",
      "adj R Sq. is 0.6745147205181972\n",
      "----------------------------------------------\n",
      "extracted pvalue for Income_replace is 3.061160307308705e-198\n",
      "adj R Sq. is 0.8359879543045069\n",
      "----------------------------------------------\n",
      "extracted pvalue for Utilities_replace is 2.0078864697812084e-260\n",
      "adj R Sq. is 0.9075906898770324\n",
      "----------------------------------------------\n",
      "extracted pvalue for Debt_replace is 1.605519325013131e-253\n",
      "adj R Sq. is 0.9015134875764095\n",
      "----------------------------------------------\n",
      "extracted pvalue for Sector No_2 is 2.43432807534188e-50\n",
      "adj R Sq. is 0.3588855954938086\n",
      "----------------------------------------------\n",
      "extracted pvalue for Sector No_3 is 1.582959211261215e-24\n",
      "adj R Sq. is 0.18746421930075818\n",
      "----------------------------------------------\n",
      "extracted pvalue for Sector No_4 is 2.5502829501416437e-13\n",
      "adj R Sq. is 0.10001181774238899\n",
      "----------------------------------------------\n",
      "extracted pvalue for Own_1 is 1.0889934402299867e-128\n",
      "adj R Sq. is 0.6884912746315566\n",
      "----------------------------------------------\n"
     ]
    },
    {
     "name": "stderr",
     "output_type": "stream",
     "text": [
      "C:\\Users\\sbiswal\\AppData\\Local\\Temp\\ipykernel_26436\\3468077514.py:8: FutureWarning: The frame.append method is deprecated and will be removed from pandas in a future version. Use pandas.concat instead.\n",
      "  pvalue_df=pvalue_df.append(pd.DataFrame(zip([i],[float(results.pvalues)],[float(results.rsquared_adj)]),columns =['Predictor', 'pvalue', 'R-Sq']))\n",
      "C:\\Users\\sbiswal\\AppData\\Local\\Temp\\ipykernel_26436\\3468077514.py:8: FutureWarning: The frame.append method is deprecated and will be removed from pandas in a future version. Use pandas.concat instead.\n",
      "  pvalue_df=pvalue_df.append(pd.DataFrame(zip([i],[float(results.pvalues)],[float(results.rsquared_adj)]),columns =['Predictor', 'pvalue', 'R-Sq']))\n",
      "C:\\Users\\sbiswal\\AppData\\Local\\Temp\\ipykernel_26436\\3468077514.py:8: FutureWarning: The frame.append method is deprecated and will be removed from pandas in a future version. Use pandas.concat instead.\n",
      "  pvalue_df=pvalue_df.append(pd.DataFrame(zip([i],[float(results.pvalues)],[float(results.rsquared_adj)]),columns =['Predictor', 'pvalue', 'R-Sq']))\n",
      "C:\\Users\\sbiswal\\AppData\\Local\\Temp\\ipykernel_26436\\3468077514.py:8: FutureWarning: The frame.append method is deprecated and will be removed from pandas in a future version. Use pandas.concat instead.\n",
      "  pvalue_df=pvalue_df.append(pd.DataFrame(zip([i],[float(results.pvalues)],[float(results.rsquared_adj)]),columns =['Predictor', 'pvalue', 'R-Sq']))\n",
      "C:\\Users\\sbiswal\\AppData\\Local\\Temp\\ipykernel_26436\\3468077514.py:8: FutureWarning: The frame.append method is deprecated and will be removed from pandas in a future version. Use pandas.concat instead.\n",
      "  pvalue_df=pvalue_df.append(pd.DataFrame(zip([i],[float(results.pvalues)],[float(results.rsquared_adj)]),columns =['Predictor', 'pvalue', 'R-Sq']))\n",
      "C:\\Users\\sbiswal\\AppData\\Local\\Temp\\ipykernel_26436\\3468077514.py:8: FutureWarning: The frame.append method is deprecated and will be removed from pandas in a future version. Use pandas.concat instead.\n",
      "  pvalue_df=pvalue_df.append(pd.DataFrame(zip([i],[float(results.pvalues)],[float(results.rsquared_adj)]),columns =['Predictor', 'pvalue', 'R-Sq']))\n",
      "C:\\Users\\sbiswal\\AppData\\Local\\Temp\\ipykernel_26436\\3468077514.py:8: FutureWarning: The frame.append method is deprecated and will be removed from pandas in a future version. Use pandas.concat instead.\n",
      "  pvalue_df=pvalue_df.append(pd.DataFrame(zip([i],[float(results.pvalues)],[float(results.rsquared_adj)]),columns =['Predictor', 'pvalue', 'R-Sq']))\n",
      "C:\\Users\\sbiswal\\AppData\\Local\\Temp\\ipykernel_26436\\3468077514.py:8: FutureWarning: The frame.append method is deprecated and will be removed from pandas in a future version. Use pandas.concat instead.\n",
      "  pvalue_df=pvalue_df.append(pd.DataFrame(zip([i],[float(results.pvalues)],[float(results.rsquared_adj)]),columns =['Predictor', 'pvalue', 'R-Sq']))\n",
      "C:\\Users\\sbiswal\\AppData\\Local\\Temp\\ipykernel_26436\\3468077514.py:8: FutureWarning: The frame.append method is deprecated and will be removed from pandas in a future version. Use pandas.concat instead.\n",
      "  pvalue_df=pvalue_df.append(pd.DataFrame(zip([i],[float(results.pvalues)],[float(results.rsquared_adj)]),columns =['Predictor', 'pvalue', 'R-Sq']))\n"
     ]
    }
   ],
   "source": [
    "# choose a Significance level of .05 and select the predictor with lowest p value - provided its p value is less than .05\n",
    "\n",
    "x_opt = X # initializing the dataframe containing optional/trial variable(s)\n",
    "pvalue_df = pd.DataFrame() # Blank dataframe to store p values\n",
    "for i in X:\n",
    "    x_opt=X[i]\n",
    "    results = sm.OLS(y,x_opt).fit()\n",
    "    pvalue_df=pvalue_df.append(pd.DataFrame(zip([i],[float(results.pvalues)],[float(results.rsquared_adj)]),columns =['Predictor', 'pvalue', 'R-Sq']))\n",
    "    print(\"extracted pvalue for {} is {}\".format(i,float(results.pvalues)))\n",
    "    print('adj R Sq. is',results.rsquared_adj)\n",
    "    print('----------------------------------------------')"
   ]
  },
  {
   "cell_type": "code",
   "execution_count": 156,
   "id": "9ce29d9e",
   "metadata": {},
   "outputs": [
    {
     "data": {
      "text/html": [
       "<div>\n",
       "<style scoped>\n",
       "    .dataframe tbody tr th:only-of-type {\n",
       "        vertical-align: middle;\n",
       "    }\n",
       "\n",
       "    .dataframe tbody tr th {\n",
       "        vertical-align: top;\n",
       "    }\n",
       "\n",
       "    .dataframe thead th {\n",
       "        text-align: right;\n",
       "    }\n",
       "</style>\n",
       "<table border=\"1\" class=\"dataframe\">\n",
       "  <thead>\n",
       "    <tr style=\"text-align: right;\">\n",
       "      <th></th>\n",
       "      <th>Predictor</th>\n",
       "      <th>pvalue</th>\n",
       "      <th>R-Sq</th>\n",
       "    </tr>\n",
       "  </thead>\n",
       "  <tbody>\n",
       "    <tr>\n",
       "      <th>0</th>\n",
       "      <td>Utilities_replace</td>\n",
       "      <td>2.007886e-260</td>\n",
       "      <td>0.907591</td>\n",
       "    </tr>\n",
       "    <tr>\n",
       "      <th>0</th>\n",
       "      <td>Debt_replace</td>\n",
       "      <td>1.605519e-253</td>\n",
       "      <td>0.901513</td>\n",
       "    </tr>\n",
       "    <tr>\n",
       "      <th>0</th>\n",
       "      <td>Income_replace</td>\n",
       "      <td>3.061160e-198</td>\n",
       "      <td>0.835988</td>\n",
       "    </tr>\n",
       "    <tr>\n",
       "      <th>0</th>\n",
       "      <td>Own_1</td>\n",
       "      <td>1.088993e-128</td>\n",
       "      <td>0.688491</td>\n",
       "    </tr>\n",
       "    <tr>\n",
       "      <th>0</th>\n",
       "      <td>Family Size</td>\n",
       "      <td>6.268928e-124</td>\n",
       "      <td>0.674515</td>\n",
       "    </tr>\n",
       "    <tr>\n",
       "      <th>0</th>\n",
       "      <td>Sector No_2</td>\n",
       "      <td>2.434328e-50</td>\n",
       "      <td>0.358886</td>\n",
       "    </tr>\n",
       "    <tr>\n",
       "      <th>0</th>\n",
       "      <td>Sector No_3</td>\n",
       "      <td>1.582959e-24</td>\n",
       "      <td>0.187464</td>\n",
       "    </tr>\n",
       "    <tr>\n",
       "      <th>0</th>\n",
       "      <td>Sector No_4</td>\n",
       "      <td>2.550283e-13</td>\n",
       "      <td>0.100012</td>\n",
       "    </tr>\n",
       "  </tbody>\n",
       "</table>\n",
       "</div>"
      ],
      "text/plain": [
       "           Predictor         pvalue      R-Sq\n",
       "0  Utilities_replace  2.007886e-260  0.907591\n",
       "0       Debt_replace  1.605519e-253  0.901513\n",
       "0     Income_replace  3.061160e-198  0.835988\n",
       "0              Own_1  1.088993e-128  0.688491\n",
       "0        Family Size  6.268928e-124  0.674515\n",
       "0        Sector No_2   2.434328e-50  0.358886\n",
       "0        Sector No_3   1.582959e-24  0.187464\n",
       "0        Sector No_4   2.550283e-13  0.100012"
      ]
     },
     "execution_count": 156,
     "metadata": {},
     "output_type": "execute_result"
    }
   ],
   "source": [
    "pvalue_df = pvalue_df[pvalue_df[\"Predictor\"].str.contains(\"const\") == False]\n",
    "pvalue_df.sort_values('pvalue',inplace=True)\n",
    "pvalue_df"
   ]
  },
  {
   "cell_type": "code",
   "execution_count": 157,
   "id": "ad9a151c",
   "metadata": {},
   "outputs": [],
   "source": [
    "# from P value stand point all all dependent variables are significant\n"
   ]
  },
  {
   "cell_type": "code",
   "execution_count": 158,
   "id": "3b443a09",
   "metadata": {},
   "outputs": [],
   "source": [
    "# Extract the name of the variable having lowest pvalue and push it into a list \n",
    "a = list(pvalue_df[\"Predictor\"])\n",
    "b = [a.pop(0)]"
   ]
  },
  {
   "cell_type": "code",
   "execution_count": 159,
   "id": "53037e36",
   "metadata": {},
   "outputs": [
    {
     "data": {
      "text/plain": [
       "['Utilities_replace']"
      ]
     },
     "execution_count": 159,
     "metadata": {},
     "output_type": "execute_result"
    }
   ],
   "source": [
    "b # list containing name of the selected variable in first iteration"
   ]
  },
  {
   "cell_type": "code",
   "execution_count": 160,
   "id": "d222dad8",
   "metadata": {},
   "outputs": [
    {
     "data": {
      "text/plain": [
       "['Debt_replace',\n",
       " 'Income_replace',\n",
       " 'Own_1',\n",
       " 'Family Size',\n",
       " 'Sector No_2',\n",
       " 'Sector No_3',\n",
       " 'Sector No_4']"
      ]
     },
     "execution_count": 160,
     "metadata": {},
     "output_type": "execute_result"
    }
   ],
   "source": [
    "a # list containing names of the trial variables"
   ]
  },
  {
   "cell_type": "code",
   "execution_count": 161,
   "id": "287f337f",
   "metadata": {},
   "outputs": [
    {
     "name": "stdout",
     "output_type": "stream",
     "text": [
      "extracted pvalue for Debt_replace is 1.1987150119645965e-21\n",
      "extracted pvalue for Utilities_replace is 0.41511039957850737\n",
      "adj R Sq. is 0.3641195912172418\n",
      "----------------------------------------------\n",
      "extracted pvalue for Income_replace is 2.697251016098821e-13\n",
      "extracted pvalue for Utilities_replace is 1.506333605460051e-23\n",
      "adj R Sq. is 0.31362379502032933\n",
      "----------------------------------------------\n",
      "extracted pvalue for Own_1 is 2.943420880432558e-12\n",
      "extracted pvalue for Utilities_replace is 0.04343300833911773\n",
      "adj R Sq. is 0.3071078915832218\n",
      "----------------------------------------------\n",
      "extracted pvalue for Family Size is 6.429118609971349e-08\n",
      "extracted pvalue for Utilities_replace is 4.697755033465727e-37\n",
      "adj R Sq. is 0.2793587165280217\n",
      "----------------------------------------------\n",
      "extracted pvalue for Sector No_2 is 1.8259565591539036e-17\n",
      "extracted pvalue for Utilities_replace is 3.1551463583204907e-22\n",
      "adj R Sq. is 0.3392694155135322\n",
      "----------------------------------------------\n",
      "extracted pvalue for Sector No_3 is 0.3153723529415647\n",
      "extracted pvalue for Utilities_replace is 1.0629170314854974e-30\n",
      "adj R Sq. is 0.2372105291751827\n",
      "----------------------------------------------\n",
      "extracted pvalue for Sector No_4 is 2.717667586417957e-26\n",
      "extracted pvalue for Utilities_replace is 1.5030832520500233e-19\n",
      "adj R Sq. is 0.39067916786020895\n",
      "----------------------------------------------\n"
     ]
    },
    {
     "name": "stderr",
     "output_type": "stream",
     "text": [
      "C:\\Users\\sbiswal\\AppData\\Local\\Temp\\ipykernel_26436\\3688802780.py:11: FutureWarning: The frame.append method is deprecated and will be removed from pandas in a future version. Use pandas.concat instead.\n",
      "  pvalue_df=pvalue_df.append(pd.DataFrame(zip([i],[float(results.pvalues[2])]),columns =['Predictor', 'pvalue']))\n",
      "C:\\Users\\sbiswal\\AppData\\Local\\Temp\\ipykernel_26436\\3688802780.py:11: FutureWarning: The frame.append method is deprecated and will be removed from pandas in a future version. Use pandas.concat instead.\n",
      "  pvalue_df=pvalue_df.append(pd.DataFrame(zip([i],[float(results.pvalues[2])]),columns =['Predictor', 'pvalue']))\n",
      "C:\\Users\\sbiswal\\AppData\\Local\\Temp\\ipykernel_26436\\3688802780.py:11: FutureWarning: The frame.append method is deprecated and will be removed from pandas in a future version. Use pandas.concat instead.\n",
      "  pvalue_df=pvalue_df.append(pd.DataFrame(zip([i],[float(results.pvalues[2])]),columns =['Predictor', 'pvalue']))\n",
      "C:\\Users\\sbiswal\\AppData\\Local\\Temp\\ipykernel_26436\\3688802780.py:11: FutureWarning: The frame.append method is deprecated and will be removed from pandas in a future version. Use pandas.concat instead.\n",
      "  pvalue_df=pvalue_df.append(pd.DataFrame(zip([i],[float(results.pvalues[2])]),columns =['Predictor', 'pvalue']))\n",
      "C:\\Users\\sbiswal\\AppData\\Local\\Temp\\ipykernel_26436\\3688802780.py:11: FutureWarning: The frame.append method is deprecated and will be removed from pandas in a future version. Use pandas.concat instead.\n",
      "  pvalue_df=pvalue_df.append(pd.DataFrame(zip([i],[float(results.pvalues[2])]),columns =['Predictor', 'pvalue']))\n",
      "C:\\Users\\sbiswal\\AppData\\Local\\Temp\\ipykernel_26436\\3688802780.py:11: FutureWarning: The frame.append method is deprecated and will be removed from pandas in a future version. Use pandas.concat instead.\n",
      "  pvalue_df=pvalue_df.append(pd.DataFrame(zip([i],[float(results.pvalues[2])]),columns =['Predictor', 'pvalue']))\n",
      "C:\\Users\\sbiswal\\AppData\\Local\\Temp\\ipykernel_26436\\3688802780.py:11: FutureWarning: The frame.append method is deprecated and will be removed from pandas in a future version. Use pandas.concat instead.\n",
      "  pvalue_df=pvalue_df.append(pd.DataFrame(zip([i],[float(results.pvalues[2])]),columns =['Predictor', 'pvalue']))\n"
     ]
    }
   ],
   "source": [
    "# Now we select the variable containing lowest p value and add variavles one at a time iterativelty to check in which\n",
    "# combination we get the new variable with lowest p value.\n",
    "\n",
    "x_sel=X[b] #dataframe containing selected variable(s)\n",
    "x_opt=X[a] #dataframe containing optional/trial variable(s)\n",
    "pvalue_df = pd.DataFrame() # Blank dataframe to store p values\n",
    "for i in x_opt:\n",
    "    x_vars=pd.concat([x_sel,x_opt[i]], join = 'outer', axis = 1)\n",
    "    x_vars=sm.add_constant(x_vars)\n",
    "    results = sm.OLS(y,x_vars).fit()\n",
    "    pvalue_df=pvalue_df.append(pd.DataFrame(zip([i],[float(results.pvalues[2])]),columns =['Predictor', 'pvalue']))\n",
    "    print(\"extracted pvalue for {} is {}\".format(i,float(results.pvalues[2])))\n",
    "    print(\"extracted pvalue for\",b[0],\"is\",float(results.pvalues[1]))\n",
    "    print('adj R Sq. is',results.rsquared_adj)\n",
    "    print('----------------------------------------------')"
   ]
  },
  {
   "cell_type": "code",
   "execution_count": 162,
   "id": "9c08235a",
   "metadata": {},
   "outputs": [],
   "source": [
    "pvalue_df.sort_values('pvalue',inplace=True)"
   ]
  },
  {
   "cell_type": "code",
   "execution_count": 163,
   "id": "55c80b19",
   "metadata": {},
   "outputs": [
    {
     "data": {
      "text/html": [
       "<div>\n",
       "<style scoped>\n",
       "    .dataframe tbody tr th:only-of-type {\n",
       "        vertical-align: middle;\n",
       "    }\n",
       "\n",
       "    .dataframe tbody tr th {\n",
       "        vertical-align: top;\n",
       "    }\n",
       "\n",
       "    .dataframe thead th {\n",
       "        text-align: right;\n",
       "    }\n",
       "</style>\n",
       "<table border=\"1\" class=\"dataframe\">\n",
       "  <thead>\n",
       "    <tr style=\"text-align: right;\">\n",
       "      <th></th>\n",
       "      <th>Predictor</th>\n",
       "      <th>pvalue</th>\n",
       "    </tr>\n",
       "  </thead>\n",
       "  <tbody>\n",
       "    <tr>\n",
       "      <th>0</th>\n",
       "      <td>Sector No_4</td>\n",
       "      <td>2.717668e-26</td>\n",
       "    </tr>\n",
       "    <tr>\n",
       "      <th>0</th>\n",
       "      <td>Debt_replace</td>\n",
       "      <td>1.198715e-21</td>\n",
       "    </tr>\n",
       "    <tr>\n",
       "      <th>0</th>\n",
       "      <td>Sector No_2</td>\n",
       "      <td>1.825957e-17</td>\n",
       "    </tr>\n",
       "    <tr>\n",
       "      <th>0</th>\n",
       "      <td>Income_replace</td>\n",
       "      <td>2.697251e-13</td>\n",
       "    </tr>\n",
       "    <tr>\n",
       "      <th>0</th>\n",
       "      <td>Own_1</td>\n",
       "      <td>2.943421e-12</td>\n",
       "    </tr>\n",
       "    <tr>\n",
       "      <th>0</th>\n",
       "      <td>Family Size</td>\n",
       "      <td>6.429119e-08</td>\n",
       "    </tr>\n",
       "    <tr>\n",
       "      <th>0</th>\n",
       "      <td>Sector No_3</td>\n",
       "      <td>3.153724e-01</td>\n",
       "    </tr>\n",
       "  </tbody>\n",
       "</table>\n",
       "</div>"
      ],
      "text/plain": [
       "        Predictor        pvalue\n",
       "0     Sector No_4  2.717668e-26\n",
       "0    Debt_replace  1.198715e-21\n",
       "0     Sector No_2  1.825957e-17\n",
       "0  Income_replace  2.697251e-13\n",
       "0           Own_1  2.943421e-12\n",
       "0     Family Size  6.429119e-08\n",
       "0     Sector No_3  3.153724e-01"
      ]
     },
     "execution_count": 163,
     "metadata": {},
     "output_type": "execute_result"
    }
   ],
   "source": [
    "pvalue_df\n"
   ]
  },
  {
   "cell_type": "code",
   "execution_count": 164,
   "id": "d3925b26",
   "metadata": {},
   "outputs": [],
   "source": [
    "a=list(pvalue_df[\"Predictor\"])\n",
    "b=b+[a.pop(0)]"
   ]
  },
  {
   "cell_type": "code",
   "execution_count": 165,
   "id": "86205af0",
   "metadata": {},
   "outputs": [
    {
     "data": {
      "text/plain": [
       "['Utilities_replace', 'Sector No_4']"
      ]
     },
     "execution_count": 165,
     "metadata": {},
     "output_type": "execute_result"
    }
   ],
   "source": [
    "b"
   ]
  },
  {
   "cell_type": "code",
   "execution_count": 166,
   "id": "4982a138",
   "metadata": {},
   "outputs": [
    {
     "data": {
      "text/plain": [
       "['Debt_replace',\n",
       " 'Sector No_2',\n",
       " 'Income_replace',\n",
       " 'Own_1',\n",
       " 'Family Size',\n",
       " 'Sector No_3']"
      ]
     },
     "execution_count": 166,
     "metadata": {},
     "output_type": "execute_result"
    }
   ],
   "source": [
    "a"
   ]
  },
  {
   "cell_type": "code",
   "execution_count": 167,
   "id": "3eff8c0d",
   "metadata": {},
   "outputs": [
    {
     "name": "stdout",
     "output_type": "stream",
     "text": [
      "extracted pvalue for Debt_replace is 7.363395436574772e-13\n",
      "extracted pvalue for Utilities_replace is 0.25981256160236754\n",
      "extracted pvalue for Sector No_4 is 1.5989565685133388e-17\n",
      "adj R Sq. is 0.44966029663790197\n",
      "----------------------------------------------\n",
      "extracted pvalue for Sector No_2 is 3.876976594358872e-11\n",
      "extracted pvalue for Utilities_replace is 1.9786689683277293e-15\n",
      "extracted pvalue for Sector No_4 is 5.441435816938051e-20\n",
      "adj R Sq. is 0.44096252824813276\n",
      "----------------------------------------------\n",
      "extracted pvalue for Income_replace is 3.842631198005888e-05\n",
      "extracted pvalue for Utilities_replace is 2.468404629124231e-17\n",
      "extracted pvalue for Sector No_4 is 2.9047667344207557e-18\n",
      "adj R Sq. is 0.40998015070876825\n",
      "----------------------------------------------\n",
      "extracted pvalue for Own_1 is 1.0123876874589377e-09\n",
      "extracted pvalue for Utilities_replace is 0.03861937714183851\n",
      "extracted pvalue for Sector No_4 is 9.250954545587683e-24\n",
      "adj R Sq. is 0.4337247416662001\n",
      "----------------------------------------------\n",
      "extracted pvalue for Family Size is 1.631576348270817e-06\n",
      "extracted pvalue for Utilities_replace is 7.411854137428638e-24\n",
      "extracted pvalue for Sector No_4 is 6.900533100024083e-25\n",
      "adj R Sq. is 0.417127139967012\n",
      "----------------------------------------------\n",
      "extracted pvalue for Sector No_3 is 1.7046090071590307e-09\n",
      "extracted pvalue for Utilities_replace is 5.111442207464048e-15\n",
      "extracted pvalue for Sector No_4 is 5.812607217509205e-34\n",
      "adj R Sq. is 0.4325627089367302\n",
      "----------------------------------------------\n"
     ]
    },
    {
     "name": "stderr",
     "output_type": "stream",
     "text": [
      "C:\\Users\\sbiswal\\AppData\\Local\\Temp\\ipykernel_26436\\3576440984.py:9: FutureWarning: The frame.append method is deprecated and will be removed from pandas in a future version. Use pandas.concat instead.\n",
      "  pvalue_df=pvalue_df.append(pd.DataFrame(zip([i],[float(results.pvalues[3])]),columns =['Predictor', 'pvalue']))\n",
      "C:\\Users\\sbiswal\\AppData\\Local\\Temp\\ipykernel_26436\\3576440984.py:9: FutureWarning: The frame.append method is deprecated and will be removed from pandas in a future version. Use pandas.concat instead.\n",
      "  pvalue_df=pvalue_df.append(pd.DataFrame(zip([i],[float(results.pvalues[3])]),columns =['Predictor', 'pvalue']))\n",
      "C:\\Users\\sbiswal\\AppData\\Local\\Temp\\ipykernel_26436\\3576440984.py:9: FutureWarning: The frame.append method is deprecated and will be removed from pandas in a future version. Use pandas.concat instead.\n",
      "  pvalue_df=pvalue_df.append(pd.DataFrame(zip([i],[float(results.pvalues[3])]),columns =['Predictor', 'pvalue']))\n",
      "C:\\Users\\sbiswal\\AppData\\Local\\Temp\\ipykernel_26436\\3576440984.py:9: FutureWarning: The frame.append method is deprecated and will be removed from pandas in a future version. Use pandas.concat instead.\n",
      "  pvalue_df=pvalue_df.append(pd.DataFrame(zip([i],[float(results.pvalues[3])]),columns =['Predictor', 'pvalue']))\n",
      "C:\\Users\\sbiswal\\AppData\\Local\\Temp\\ipykernel_26436\\3576440984.py:9: FutureWarning: The frame.append method is deprecated and will be removed from pandas in a future version. Use pandas.concat instead.\n",
      "  pvalue_df=pvalue_df.append(pd.DataFrame(zip([i],[float(results.pvalues[3])]),columns =['Predictor', 'pvalue']))\n",
      "C:\\Users\\sbiswal\\AppData\\Local\\Temp\\ipykernel_26436\\3576440984.py:9: FutureWarning: The frame.append method is deprecated and will be removed from pandas in a future version. Use pandas.concat instead.\n",
      "  pvalue_df=pvalue_df.append(pd.DataFrame(zip([i],[float(results.pvalues[3])]),columns =['Predictor', 'pvalue']))\n"
     ]
    }
   ],
   "source": [
    "x_sel=X[b]\n",
    "x_opt=X[a]\n",
    "pvalue_df = pd.DataFrame()\n",
    "\n",
    "for i in x_opt:\n",
    "    x_vars=pd.concat([x_sel,x_opt[i]], join = 'outer', axis = 1)\n",
    "    x_vars=sm.add_constant(x_vars)\n",
    "    results = sm.OLS(y,x_vars).fit()\n",
    "    pvalue_df=pvalue_df.append(pd.DataFrame(zip([i],[float(results.pvalues[3])]),columns =['Predictor', 'pvalue']))\n",
    "    print(\"extracted pvalue for {} is {}\".format(i,float(results.pvalues[3])))\n",
    "    print(\"extracted pvalue for\",b[0],\"is\",float(results.pvalues[1]))\n",
    "    print(\"extracted pvalue for\",b[1],\"is\",float(results.pvalues[2]))\n",
    "    print('adj R Sq. is',results.rsquared_adj)\n",
    "    print('----------------------------------------------')"
   ]
  },
  {
   "cell_type": "code",
   "execution_count": 168,
   "id": "9c953ff7",
   "metadata": {},
   "outputs": [],
   "source": [
    "pvalue_df.sort_values('pvalue',inplace=True)"
   ]
  },
  {
   "cell_type": "code",
   "execution_count": 169,
   "id": "17deb6b2",
   "metadata": {},
   "outputs": [
    {
     "data": {
      "text/html": [
       "<div>\n",
       "<style scoped>\n",
       "    .dataframe tbody tr th:only-of-type {\n",
       "        vertical-align: middle;\n",
       "    }\n",
       "\n",
       "    .dataframe tbody tr th {\n",
       "        vertical-align: top;\n",
       "    }\n",
       "\n",
       "    .dataframe thead th {\n",
       "        text-align: right;\n",
       "    }\n",
       "</style>\n",
       "<table border=\"1\" class=\"dataframe\">\n",
       "  <thead>\n",
       "    <tr style=\"text-align: right;\">\n",
       "      <th></th>\n",
       "      <th>Predictor</th>\n",
       "      <th>pvalue</th>\n",
       "    </tr>\n",
       "  </thead>\n",
       "  <tbody>\n",
       "    <tr>\n",
       "      <th>0</th>\n",
       "      <td>Debt_replace</td>\n",
       "      <td>7.363395e-13</td>\n",
       "    </tr>\n",
       "    <tr>\n",
       "      <th>0</th>\n",
       "      <td>Sector No_2</td>\n",
       "      <td>3.876977e-11</td>\n",
       "    </tr>\n",
       "    <tr>\n",
       "      <th>0</th>\n",
       "      <td>Own_1</td>\n",
       "      <td>1.012388e-09</td>\n",
       "    </tr>\n",
       "    <tr>\n",
       "      <th>0</th>\n",
       "      <td>Sector No_3</td>\n",
       "      <td>1.704609e-09</td>\n",
       "    </tr>\n",
       "    <tr>\n",
       "      <th>0</th>\n",
       "      <td>Family Size</td>\n",
       "      <td>1.631576e-06</td>\n",
       "    </tr>\n",
       "    <tr>\n",
       "      <th>0</th>\n",
       "      <td>Income_replace</td>\n",
       "      <td>3.842631e-05</td>\n",
       "    </tr>\n",
       "  </tbody>\n",
       "</table>\n",
       "</div>"
      ],
      "text/plain": [
       "        Predictor        pvalue\n",
       "0    Debt_replace  7.363395e-13\n",
       "0     Sector No_2  3.876977e-11\n",
       "0           Own_1  1.012388e-09\n",
       "0     Sector No_3  1.704609e-09\n",
       "0     Family Size  1.631576e-06\n",
       "0  Income_replace  3.842631e-05"
      ]
     },
     "execution_count": 169,
     "metadata": {},
     "output_type": "execute_result"
    }
   ],
   "source": [
    "pvalue_df"
   ]
  },
  {
   "cell_type": "code",
   "execution_count": 170,
   "id": "cec5d118",
   "metadata": {},
   "outputs": [],
   "source": [
    "a=list(pvalue_df[\"Predictor\"])\n",
    "b=b+[a.pop(0)]"
   ]
  },
  {
   "cell_type": "code",
   "execution_count": 171,
   "id": "73fb358c",
   "metadata": {},
   "outputs": [
    {
     "data": {
      "text/plain": [
       "['Utilities_replace', 'Sector No_4', 'Debt_replace']"
      ]
     },
     "execution_count": 171,
     "metadata": {},
     "output_type": "execute_result"
    }
   ],
   "source": [
    "b"
   ]
  },
  {
   "cell_type": "code",
   "execution_count": 172,
   "id": "d8af3d3c",
   "metadata": {},
   "outputs": [
    {
     "data": {
      "text/plain": [
       "['Sector No_2', 'Own_1', 'Sector No_3', 'Family Size', 'Income_replace']"
      ]
     },
     "execution_count": 172,
     "metadata": {},
     "output_type": "execute_result"
    }
   ],
   "source": [
    "a"
   ]
  },
  {
   "cell_type": "code",
   "execution_count": 173,
   "id": "8984adb7",
   "metadata": {},
   "outputs": [
    {
     "name": "stdout",
     "output_type": "stream",
     "text": [
      "extracted pvalue for Sector No_2 is 2.2741147025357843e-08\n",
      "extracted pvalue for Utilities_replace is 0.248903877740423\n",
      "extracted pvalue for Sector No_4 is 2.925773054524807e-14\n",
      "extracted pvalue for Debt_replace is 4.2393164536796317e-10\n",
      "adj R Sq. is 0.48231400845751093\n",
      "----------------------------------------------\n",
      "extracted pvalue for Own_1 is 5.058327978082786e-10\n",
      "extracted pvalue for Utilities_replace is 2.3470348840409706e-06\n",
      "extracted pvalue for Sector No_4 is 1.40997217082342e-15\n",
      "extracted pvalue for Debt_replace is 3.749601515921291e-13\n",
      "adj R Sq. is 0.49001294619349445\n",
      "----------------------------------------------\n",
      "extracted pvalue for Sector No_3 is 1.5669753494049934e-06\n",
      "extracted pvalue for Utilities_replace is 0.2468361864799438\n",
      "extracted pvalue for Sector No_4 is 1.633931888815006e-22\n",
      "extracted pvalue for Debt_replace is 6.407697723771292e-10\n",
      "adj R Sq. is 0.47367807255919214\n",
      "----------------------------------------------\n",
      "extracted pvalue for Family Size is 1.2406448043020446e-11\n",
      "extracted pvalue for Utilities_replace is 0.14224236287244202\n",
      "extracted pvalue for Sector No_4 is 1.562192001703946e-14\n",
      "extracted pvalue for Debt_replace is 6.685231078073183e-18\n",
      "adj R Sq. is 0.497436764461621\n",
      "----------------------------------------------\n",
      "extracted pvalue for Income_replace is 0.26728903150558925\n",
      "extracted pvalue for Utilities_replace is 0.17258217355405667\n",
      "extracted pvalue for Sector No_4 is 1.2114863537466027e-15\n",
      "extracted pvalue for Debt_replace is 2.351616232004131e-09\n",
      "adj R Sq. is 0.4499191278990634\n",
      "----------------------------------------------\n"
     ]
    },
    {
     "name": "stderr",
     "output_type": "stream",
     "text": [
      "C:\\Users\\sbiswal\\AppData\\Local\\Temp\\ipykernel_26436\\3692040554.py:9: FutureWarning: The frame.append method is deprecated and will be removed from pandas in a future version. Use pandas.concat instead.\n",
      "  pvalue_df=pvalue_df.append(pd.DataFrame(zip([i],[float(results.pvalues[4])]),columns =['Predictor', 'pvalue']))\n",
      "C:\\Users\\sbiswal\\AppData\\Local\\Temp\\ipykernel_26436\\3692040554.py:9: FutureWarning: The frame.append method is deprecated and will be removed from pandas in a future version. Use pandas.concat instead.\n",
      "  pvalue_df=pvalue_df.append(pd.DataFrame(zip([i],[float(results.pvalues[4])]),columns =['Predictor', 'pvalue']))\n",
      "C:\\Users\\sbiswal\\AppData\\Local\\Temp\\ipykernel_26436\\3692040554.py:9: FutureWarning: The frame.append method is deprecated and will be removed from pandas in a future version. Use pandas.concat instead.\n",
      "  pvalue_df=pvalue_df.append(pd.DataFrame(zip([i],[float(results.pvalues[4])]),columns =['Predictor', 'pvalue']))\n",
      "C:\\Users\\sbiswal\\AppData\\Local\\Temp\\ipykernel_26436\\3692040554.py:9: FutureWarning: The frame.append method is deprecated and will be removed from pandas in a future version. Use pandas.concat instead.\n",
      "  pvalue_df=pvalue_df.append(pd.DataFrame(zip([i],[float(results.pvalues[4])]),columns =['Predictor', 'pvalue']))\n",
      "C:\\Users\\sbiswal\\AppData\\Local\\Temp\\ipykernel_26436\\3692040554.py:9: FutureWarning: The frame.append method is deprecated and will be removed from pandas in a future version. Use pandas.concat instead.\n",
      "  pvalue_df=pvalue_df.append(pd.DataFrame(zip([i],[float(results.pvalues[4])]),columns =['Predictor', 'pvalue']))\n"
     ]
    }
   ],
   "source": [
    "x_sel=X[b]\n",
    "x_opt=X[a]\n",
    "pvalue_df = pd.DataFrame()\n",
    "\n",
    "for i in x_opt:\n",
    "    x_vars=pd.concat([x_sel,x_opt[i]], join = 'outer', axis = 1)\n",
    "    x_vars=sm.add_constant(x_vars)\n",
    "    results = sm.OLS(y,x_vars).fit()\n",
    "    pvalue_df=pvalue_df.append(pd.DataFrame(zip([i],[float(results.pvalues[4])]),columns =['Predictor', 'pvalue']))\n",
    "    print(\"extracted pvalue for {} is {}\".format(i,float(results.pvalues[4])))\n",
    "    print(\"extracted pvalue for\",b[0],\"is\",float(results.pvalues[1]))\n",
    "    print(\"extracted pvalue for\",b[1],\"is\",float(results.pvalues[2]))\n",
    "    print(\"extracted pvalue for\",b[2],\"is\",float(results.pvalues[3]))\n",
    "    print('adj R Sq. is',results.rsquared_adj)\n",
    "    print('----------------------------------------------')"
   ]
  },
  {
   "cell_type": "code",
   "execution_count": 174,
   "id": "f362f710",
   "metadata": {},
   "outputs": [],
   "source": [
    "pvalue_df.sort_values('pvalue',inplace=True)"
   ]
  },
  {
   "cell_type": "code",
   "execution_count": 175,
   "id": "fef95be7",
   "metadata": {},
   "outputs": [
    {
     "data": {
      "text/html": [
       "<div>\n",
       "<style scoped>\n",
       "    .dataframe tbody tr th:only-of-type {\n",
       "        vertical-align: middle;\n",
       "    }\n",
       "\n",
       "    .dataframe tbody tr th {\n",
       "        vertical-align: top;\n",
       "    }\n",
       "\n",
       "    .dataframe thead th {\n",
       "        text-align: right;\n",
       "    }\n",
       "</style>\n",
       "<table border=\"1\" class=\"dataframe\">\n",
       "  <thead>\n",
       "    <tr style=\"text-align: right;\">\n",
       "      <th></th>\n",
       "      <th>Predictor</th>\n",
       "      <th>pvalue</th>\n",
       "    </tr>\n",
       "  </thead>\n",
       "  <tbody>\n",
       "    <tr>\n",
       "      <th>0</th>\n",
       "      <td>Family Size</td>\n",
       "      <td>1.240645e-11</td>\n",
       "    </tr>\n",
       "    <tr>\n",
       "      <th>0</th>\n",
       "      <td>Own_1</td>\n",
       "      <td>5.058328e-10</td>\n",
       "    </tr>\n",
       "    <tr>\n",
       "      <th>0</th>\n",
       "      <td>Sector No_2</td>\n",
       "      <td>2.274115e-08</td>\n",
       "    </tr>\n",
       "    <tr>\n",
       "      <th>0</th>\n",
       "      <td>Sector No_3</td>\n",
       "      <td>1.566975e-06</td>\n",
       "    </tr>\n",
       "    <tr>\n",
       "      <th>0</th>\n",
       "      <td>Income_replace</td>\n",
       "      <td>2.672890e-01</td>\n",
       "    </tr>\n",
       "  </tbody>\n",
       "</table>\n",
       "</div>"
      ],
      "text/plain": [
       "        Predictor        pvalue\n",
       "0     Family Size  1.240645e-11\n",
       "0           Own_1  5.058328e-10\n",
       "0     Sector No_2  2.274115e-08\n",
       "0     Sector No_3  1.566975e-06\n",
       "0  Income_replace  2.672890e-01"
      ]
     },
     "execution_count": 175,
     "metadata": {},
     "output_type": "execute_result"
    }
   ],
   "source": [
    "pvalue_df"
   ]
  },
  {
   "cell_type": "code",
   "execution_count": 176,
   "id": "014e1fc0",
   "metadata": {},
   "outputs": [],
   "source": [
    "a=list(pvalue_df[\"Predictor\"])\n",
    "b=b+[a.pop(0)]"
   ]
  },
  {
   "cell_type": "code",
   "execution_count": 177,
   "id": "730dd6a0",
   "metadata": {},
   "outputs": [
    {
     "data": {
      "text/plain": [
       "['Utilities_replace', 'Sector No_4', 'Debt_replace', 'Family Size']"
      ]
     },
     "execution_count": 177,
     "metadata": {},
     "output_type": "execute_result"
    }
   ],
   "source": [
    "b"
   ]
  },
  {
   "cell_type": "code",
   "execution_count": 178,
   "id": "a2f58819",
   "metadata": {},
   "outputs": [
    {
     "data": {
      "text/plain": [
       "['Own_1', 'Sector No_2', 'Sector No_3', 'Income_replace']"
      ]
     },
     "execution_count": 178,
     "metadata": {},
     "output_type": "execute_result"
    }
   ],
   "source": [
    "a"
   ]
  },
  {
   "cell_type": "code",
   "execution_count": 179,
   "id": "171ec811",
   "metadata": {},
   "outputs": [
    {
     "name": "stdout",
     "output_type": "stream",
     "text": [
      "extracted pvalue for Own_1 is 0.13784235926007887\n",
      "extracted pvalue for Utilities_replace is 0.37978316445901517\n",
      "extracted pvalue for Sector No_4 is 1.3997280658872996e-14\n",
      "extracted pvalue for Debt_replace is 3.348812108045216e-15\n",
      "extracted pvalue for Family Size is 0.0021247507835733905\n",
      "adj R Sq. is 0.49866128205695326\n",
      "----------------------------------------------\n",
      "extracted pvalue for Sector No_2 is 6.669747001301282e-07\n",
      "extracted pvalue for Utilities_replace is 0.14208798262208436\n",
      "extracted pvalue for Sector No_4 is 3.8404584414812904e-12\n",
      "extracted pvalue for Debt_replace is 1.9103203723906934e-14\n",
      "extracted pvalue for Family Size is 3.561771789472034e-10\n",
      "adj R Sq. is 0.5210115202710108\n",
      "----------------------------------------------\n",
      "extracted pvalue for Sector No_3 is 1.216267377507737e-05\n",
      "extracted pvalue for Utilities_replace is 0.1382088454971828\n",
      "extracted pvalue for Sector No_4 is 1.096305350390276e-18\n",
      "extracted pvalue for Debt_replace is 2.4182327892366952e-14\n",
      "extracted pvalue for Family Size is 9.443718563847604e-11\n",
      "adj R Sq. is 0.5155740472166308\n",
      "----------------------------------------------\n",
      "extracted pvalue for Income_replace is 0.045971109159398824\n",
      "extracted pvalue for Utilities_replace is 0.05432407551440764\n",
      "extracted pvalue for Sector No_4 is 4.2142890611984584e-12\n",
      "extracted pvalue for Debt_replace is 1.379704386334077e-12\n",
      "extracted pvalue for Family Size is 3.1907193944440177e-12\n",
      "adj R Sq. is 0.5004670756590449\n",
      "----------------------------------------------\n"
     ]
    },
    {
     "name": "stderr",
     "output_type": "stream",
     "text": [
      "C:\\Users\\sbiswal\\AppData\\Local\\Temp\\ipykernel_26436\\2352267937.py:9: FutureWarning: The frame.append method is deprecated and will be removed from pandas in a future version. Use pandas.concat instead.\n",
      "  pvalue_df=pvalue_df.append(pd.DataFrame(zip([i],[float(results.pvalues[5])]),columns =['Predictor', 'pvalue']))\n",
      "C:\\Users\\sbiswal\\AppData\\Local\\Temp\\ipykernel_26436\\2352267937.py:9: FutureWarning: The frame.append method is deprecated and will be removed from pandas in a future version. Use pandas.concat instead.\n",
      "  pvalue_df=pvalue_df.append(pd.DataFrame(zip([i],[float(results.pvalues[5])]),columns =['Predictor', 'pvalue']))\n",
      "C:\\Users\\sbiswal\\AppData\\Local\\Temp\\ipykernel_26436\\2352267937.py:9: FutureWarning: The frame.append method is deprecated and will be removed from pandas in a future version. Use pandas.concat instead.\n",
      "  pvalue_df=pvalue_df.append(pd.DataFrame(zip([i],[float(results.pvalues[5])]),columns =['Predictor', 'pvalue']))\n",
      "C:\\Users\\sbiswal\\AppData\\Local\\Temp\\ipykernel_26436\\2352267937.py:9: FutureWarning: The frame.append method is deprecated and will be removed from pandas in a future version. Use pandas.concat instead.\n",
      "  pvalue_df=pvalue_df.append(pd.DataFrame(zip([i],[float(results.pvalues[5])]),columns =['Predictor', 'pvalue']))\n"
     ]
    }
   ],
   "source": [
    "x_sel=X[b]\n",
    "x_opt=X[a]\n",
    "pvalue_df = pd.DataFrame()\n",
    "\n",
    "for i in x_opt:\n",
    "    x_vars=pd.concat([x_sel,x_opt[i]], join = 'outer', axis = 1)\n",
    "    x_vars=sm.add_constant(x_vars)\n",
    "    results = sm.OLS(y,x_vars).fit()\n",
    "    pvalue_df=pvalue_df.append(pd.DataFrame(zip([i],[float(results.pvalues[5])]),columns =['Predictor', 'pvalue']))\n",
    "    print(\"extracted pvalue for {} is {}\".format(i,float(results.pvalues[5])))\n",
    "    print(\"extracted pvalue for\",b[0],\"is\",float(results.pvalues[1]))\n",
    "    print(\"extracted pvalue for\",b[1],\"is\",float(results.pvalues[2]))\n",
    "    print(\"extracted pvalue for\",b[2],\"is\",float(results.pvalues[3]))\n",
    "    print(\"extracted pvalue for\",b[3],\"is\",float(results.pvalues[4]))\n",
    "    print('adj R Sq. is',results.rsquared_adj)\n",
    "    print('----------------------------------------------')"
   ]
  },
  {
   "cell_type": "code",
   "execution_count": 180,
   "id": "2eecab46",
   "metadata": {},
   "outputs": [],
   "source": [
    "pvalue_df.sort_values('pvalue',inplace=True)"
   ]
  },
  {
   "cell_type": "code",
   "execution_count": 181,
   "id": "2d62581b",
   "metadata": {},
   "outputs": [
    {
     "data": {
      "text/html": [
       "<div>\n",
       "<style scoped>\n",
       "    .dataframe tbody tr th:only-of-type {\n",
       "        vertical-align: middle;\n",
       "    }\n",
       "\n",
       "    .dataframe tbody tr th {\n",
       "        vertical-align: top;\n",
       "    }\n",
       "\n",
       "    .dataframe thead th {\n",
       "        text-align: right;\n",
       "    }\n",
       "</style>\n",
       "<table border=\"1\" class=\"dataframe\">\n",
       "  <thead>\n",
       "    <tr style=\"text-align: right;\">\n",
       "      <th></th>\n",
       "      <th>Predictor</th>\n",
       "      <th>pvalue</th>\n",
       "    </tr>\n",
       "  </thead>\n",
       "  <tbody>\n",
       "    <tr>\n",
       "      <th>0</th>\n",
       "      <td>Sector No_2</td>\n",
       "      <td>6.669747e-07</td>\n",
       "    </tr>\n",
       "    <tr>\n",
       "      <th>0</th>\n",
       "      <td>Sector No_3</td>\n",
       "      <td>1.216267e-05</td>\n",
       "    </tr>\n",
       "    <tr>\n",
       "      <th>0</th>\n",
       "      <td>Income_replace</td>\n",
       "      <td>4.597111e-02</td>\n",
       "    </tr>\n",
       "    <tr>\n",
       "      <th>0</th>\n",
       "      <td>Own_1</td>\n",
       "      <td>1.378424e-01</td>\n",
       "    </tr>\n",
       "  </tbody>\n",
       "</table>\n",
       "</div>"
      ],
      "text/plain": [
       "        Predictor        pvalue\n",
       "0     Sector No_2  6.669747e-07\n",
       "0     Sector No_3  1.216267e-05\n",
       "0  Income_replace  4.597111e-02\n",
       "0           Own_1  1.378424e-01"
      ]
     },
     "execution_count": 181,
     "metadata": {},
     "output_type": "execute_result"
    }
   ],
   "source": [
    "pvalue_df"
   ]
  },
  {
   "cell_type": "code",
   "execution_count": 182,
   "id": "a840d725",
   "metadata": {},
   "outputs": [],
   "source": [
    "a=list(pvalue_df[\"Predictor\"])\n",
    "b=b+[a.pop(0)]"
   ]
  },
  {
   "cell_type": "code",
   "execution_count": 183,
   "id": "65169011",
   "metadata": {},
   "outputs": [
    {
     "data": {
      "text/plain": [
       "['Utilities_replace',\n",
       " 'Sector No_4',\n",
       " 'Debt_replace',\n",
       " 'Family Size',\n",
       " 'Sector No_2']"
      ]
     },
     "execution_count": 183,
     "metadata": {},
     "output_type": "execute_result"
    }
   ],
   "source": [
    "b"
   ]
  },
  {
   "cell_type": "code",
   "execution_count": 184,
   "id": "c09045db",
   "metadata": {},
   "outputs": [
    {
     "data": {
      "text/plain": [
       "['Sector No_3', 'Income_replace', 'Own_1']"
      ]
     },
     "execution_count": 184,
     "metadata": {},
     "output_type": "execute_result"
    }
   ],
   "source": [
    "a"
   ]
  },
  {
   "cell_type": "code",
   "execution_count": 185,
   "id": "57c83126",
   "metadata": {},
   "outputs": [
    {
     "name": "stdout",
     "output_type": "stream",
     "text": [
      "extracted pvalue for Sector No_3 is 0.011278236633759159\n",
      "extracted pvalue for Utilities_replace is 0.13973133680461106\n",
      "extracted pvalue for Sector No_4 is 4.790378919037337e-13\n",
      "extracted pvalue for Debt_replace is 4.1154043165599495e-13\n",
      "extracted pvalue for Family Size is 5.78775360184669e-10\n",
      "extracted pvalue for Sector No_2 is 0.0005376529539942015\n",
      "adj R Sq. is 0.5262567698145891\n",
      "----------------------------------------------\n",
      "extracted pvalue for Income_replace is 0.6798161821404083\n",
      "extracted pvalue for Utilities_replace is 0.12762765517557745\n",
      "extracted pvalue for Sector No_4 is 2.4560229513712516e-11\n",
      "extracted pvalue for Debt_replace is 3.6039856704358486e-12\n",
      "extracted pvalue for Family Size is 4.180073562761979e-10\n",
      "extracted pvalue for Sector No_2 is 4.95675991618056e-06\n",
      "adj R Sq. is 0.5202059082584598\n",
      "----------------------------------------------\n",
      "extracted pvalue for Own_1 is 0.27345859695729274\n",
      "extracted pvalue for Utilities_replace is 0.6061185517738622\n",
      "extracted pvalue for Sector No_4 is 3.353543458814619e-12\n",
      "extracted pvalue for Debt_replace is 1.1907380487069803e-12\n",
      "extracted pvalue for Family Size is 0.0020485726302656476\n",
      "extracted pvalue for Sector No_2 is 1.1494184378304447e-06\n",
      "adj R Sq. is 0.5212072968724308\n",
      "----------------------------------------------\n"
     ]
    },
    {
     "name": "stderr",
     "output_type": "stream",
     "text": [
      "C:\\Users\\sbiswal\\AppData\\Local\\Temp\\ipykernel_26436\\193970350.py:9: FutureWarning: The frame.append method is deprecated and will be removed from pandas in a future version. Use pandas.concat instead.\n",
      "  pvalue_df=pvalue_df.append(pd.DataFrame(zip([i],[float(results.pvalues[6])]),columns =['Predictor', 'pvalue']))\n",
      "C:\\Users\\sbiswal\\AppData\\Local\\Temp\\ipykernel_26436\\193970350.py:9: FutureWarning: The frame.append method is deprecated and will be removed from pandas in a future version. Use pandas.concat instead.\n",
      "  pvalue_df=pvalue_df.append(pd.DataFrame(zip([i],[float(results.pvalues[6])]),columns =['Predictor', 'pvalue']))\n",
      "C:\\Users\\sbiswal\\AppData\\Local\\Temp\\ipykernel_26436\\193970350.py:9: FutureWarning: The frame.append method is deprecated and will be removed from pandas in a future version. Use pandas.concat instead.\n",
      "  pvalue_df=pvalue_df.append(pd.DataFrame(zip([i],[float(results.pvalues[6])]),columns =['Predictor', 'pvalue']))\n"
     ]
    }
   ],
   "source": [
    "x_sel=X[b]\n",
    "x_opt=X[a]\n",
    "pvalue_df = pd.DataFrame()\n",
    "\n",
    "for i in x_opt:\n",
    "    x_vars=pd.concat([x_sel,x_opt[i]], join = 'outer', axis = 1)\n",
    "    x_vars=sm.add_constant(x_vars)\n",
    "    results = sm.OLS(y,x_vars).fit()\n",
    "    pvalue_df=pvalue_df.append(pd.DataFrame(zip([i],[float(results.pvalues[6])]),columns =['Predictor', 'pvalue']))\n",
    "    print(\"extracted pvalue for {} is {}\".format(i,float(results.pvalues[6])))\n",
    "    print(\"extracted pvalue for\",b[0],\"is\",float(results.pvalues[1]))\n",
    "    print(\"extracted pvalue for\",b[1],\"is\",float(results.pvalues[2]))\n",
    "    print(\"extracted pvalue for\",b[2],\"is\",float(results.pvalues[3]))\n",
    "    print(\"extracted pvalue for\",b[3],\"is\",float(results.pvalues[4]))\n",
    "    print(\"extracted pvalue for\",b[4],\"is\",float(results.pvalues[5]))\n",
    "    print('adj R Sq. is',results.rsquared_adj)\n",
    "    print('----------------------------------------------')"
   ]
  },
  {
   "cell_type": "code",
   "execution_count": 186,
   "id": "a435cd44",
   "metadata": {},
   "outputs": [],
   "source": [
    "pvalue_df.sort_values('pvalue',inplace=True)"
   ]
  },
  {
   "cell_type": "code",
   "execution_count": 187,
   "id": "43050e99",
   "metadata": {},
   "outputs": [
    {
     "data": {
      "text/html": [
       "<div>\n",
       "<style scoped>\n",
       "    .dataframe tbody tr th:only-of-type {\n",
       "        vertical-align: middle;\n",
       "    }\n",
       "\n",
       "    .dataframe tbody tr th {\n",
       "        vertical-align: top;\n",
       "    }\n",
       "\n",
       "    .dataframe thead th {\n",
       "        text-align: right;\n",
       "    }\n",
       "</style>\n",
       "<table border=\"1\" class=\"dataframe\">\n",
       "  <thead>\n",
       "    <tr style=\"text-align: right;\">\n",
       "      <th></th>\n",
       "      <th>Predictor</th>\n",
       "      <th>pvalue</th>\n",
       "    </tr>\n",
       "  </thead>\n",
       "  <tbody>\n",
       "    <tr>\n",
       "      <th>0</th>\n",
       "      <td>Sector No_3</td>\n",
       "      <td>0.011278</td>\n",
       "    </tr>\n",
       "    <tr>\n",
       "      <th>0</th>\n",
       "      <td>Own_1</td>\n",
       "      <td>0.273459</td>\n",
       "    </tr>\n",
       "    <tr>\n",
       "      <th>0</th>\n",
       "      <td>Income_replace</td>\n",
       "      <td>0.679816</td>\n",
       "    </tr>\n",
       "  </tbody>\n",
       "</table>\n",
       "</div>"
      ],
      "text/plain": [
       "        Predictor    pvalue\n",
       "0     Sector No_3  0.011278\n",
       "0           Own_1  0.273459\n",
       "0  Income_replace  0.679816"
      ]
     },
     "execution_count": 187,
     "metadata": {},
     "output_type": "execute_result"
    }
   ],
   "source": [
    "pvalue_df"
   ]
  },
  {
   "cell_type": "code",
   "execution_count": 188,
   "id": "cca620da",
   "metadata": {},
   "outputs": [],
   "source": [
    "a=list(pvalue_df[\"Predictor\"])\n",
    "b=b+[a.pop(0)]"
   ]
  },
  {
   "cell_type": "code",
   "execution_count": 189,
   "id": "12427168",
   "metadata": {},
   "outputs": [
    {
     "data": {
      "text/plain": [
       "['Utilities_replace',\n",
       " 'Sector No_4',\n",
       " 'Debt_replace',\n",
       " 'Family Size',\n",
       " 'Sector No_2',\n",
       " 'Sector No_3']"
      ]
     },
     "execution_count": 189,
     "metadata": {},
     "output_type": "execute_result"
    }
   ],
   "source": [
    "b"
   ]
  },
  {
   "cell_type": "code",
   "execution_count": 190,
   "id": "b20a2d39",
   "metadata": {},
   "outputs": [
    {
     "data": {
      "text/plain": [
       "['Own_1', 'Income_replace']"
      ]
     },
     "execution_count": 190,
     "metadata": {},
     "output_type": "execute_result"
    }
   ],
   "source": [
    "a"
   ]
  },
  {
   "cell_type": "code",
   "execution_count": 191,
   "id": "d7f613bd",
   "metadata": {},
   "outputs": [
    {
     "name": "stdout",
     "output_type": "stream",
     "text": [
      "extracted pvalue for Own_1 is 0.46702332799418866\n",
      "extracted pvalue for Utilities_replace is 0.8620033712409849\n",
      "extracted pvalue for Sector No_4 is 7.425842549746153e-13\n",
      "extracted pvalue for Debt_replace is 7.101434084660884e-12\n",
      "extracted pvalue for Family Size is 0.0009582917923867338\n",
      "extracted pvalue for Sector No_2 is 0.0005603216103684447\n",
      "extracted pvalue for Sector No_3 is 0.016582483146178183\n",
      "adj R Sq. is 0.5258045364569686\n",
      "----------------------------------------------\n",
      "extracted pvalue for Income_replace is 0.9554902253524087\n",
      "extracted pvalue for Utilities_replace is 0.15996935741582954\n",
      "extracted pvalue for Sector No_4 is 3.731263618181944e-12\n",
      "extracted pvalue for Debt_replace is 1.067726035614108e-11\n",
      "extracted pvalue for Family Size is 1.1584364060962773e-09\n",
      "extracted pvalue for Sector No_2 is 0.000732472191608621\n",
      "extracted pvalue for Sector No_3 is 0.012482374037890214\n",
      "adj R Sq. is 0.5252968857866961\n",
      "----------------------------------------------\n"
     ]
    },
    {
     "name": "stderr",
     "output_type": "stream",
     "text": [
      "C:\\Users\\sbiswal\\AppData\\Local\\Temp\\ipykernel_26436\\1668511632.py:9: FutureWarning: The frame.append method is deprecated and will be removed from pandas in a future version. Use pandas.concat instead.\n",
      "  pvalue_df=pvalue_df.append(pd.DataFrame(zip([i],[float(results.pvalues[7])]),columns =['Predictor', 'pvalue']))\n",
      "C:\\Users\\sbiswal\\AppData\\Local\\Temp\\ipykernel_26436\\1668511632.py:9: FutureWarning: The frame.append method is deprecated and will be removed from pandas in a future version. Use pandas.concat instead.\n",
      "  pvalue_df=pvalue_df.append(pd.DataFrame(zip([i],[float(results.pvalues[7])]),columns =['Predictor', 'pvalue']))\n"
     ]
    }
   ],
   "source": [
    "x_sel=X[b]\n",
    "x_opt=X[a]\n",
    "pvalue_df = pd.DataFrame()\n",
    "\n",
    "for i in x_opt:\n",
    "    x_vars=pd.concat([x_sel,x_opt[i]], join = 'outer', axis = 1)\n",
    "    x_vars=sm.add_constant(x_vars)\n",
    "    results = sm.OLS(y,x_vars).fit()\n",
    "    pvalue_df=pvalue_df.append(pd.DataFrame(zip([i],[float(results.pvalues[7])]),columns =['Predictor', 'pvalue']))\n",
    "    print(\"extracted pvalue for {} is {}\".format(i,float(results.pvalues[7])))\n",
    "    print(\"extracted pvalue for\",b[0],\"is\",float(results.pvalues[1]))\n",
    "    print(\"extracted pvalue for\",b[1],\"is\",float(results.pvalues[2]))\n",
    "    print(\"extracted pvalue for\",b[2],\"is\",float(results.pvalues[3]))\n",
    "    print(\"extracted pvalue for\",b[3],\"is\",float(results.pvalues[4]))\n",
    "    print(\"extracted pvalue for\",b[4],\"is\",float(results.pvalues[5]))\n",
    "    print(\"extracted pvalue for\",b[5],\"is\",float(results.pvalues[6]))\n",
    "    print('adj R Sq. is',results.rsquared_adj)\n",
    "    print('----------------------------------------------')"
   ]
  },
  {
   "cell_type": "code",
   "execution_count": 192,
   "id": "b8664d0b",
   "metadata": {},
   "outputs": [],
   "source": [
    "pvalue_df.sort_values('pvalue',inplace=True)"
   ]
  },
  {
   "cell_type": "code",
   "execution_count": 193,
   "id": "1965b184",
   "metadata": {},
   "outputs": [
    {
     "data": {
      "text/html": [
       "<div>\n",
       "<style scoped>\n",
       "    .dataframe tbody tr th:only-of-type {\n",
       "        vertical-align: middle;\n",
       "    }\n",
       "\n",
       "    .dataframe tbody tr th {\n",
       "        vertical-align: top;\n",
       "    }\n",
       "\n",
       "    .dataframe thead th {\n",
       "        text-align: right;\n",
       "    }\n",
       "</style>\n",
       "<table border=\"1\" class=\"dataframe\">\n",
       "  <thead>\n",
       "    <tr style=\"text-align: right;\">\n",
       "      <th></th>\n",
       "      <th>Predictor</th>\n",
       "      <th>pvalue</th>\n",
       "    </tr>\n",
       "  </thead>\n",
       "  <tbody>\n",
       "    <tr>\n",
       "      <th>0</th>\n",
       "      <td>Own_1</td>\n",
       "      <td>0.467023</td>\n",
       "    </tr>\n",
       "    <tr>\n",
       "      <th>0</th>\n",
       "      <td>Income_replace</td>\n",
       "      <td>0.955490</td>\n",
       "    </tr>\n",
       "  </tbody>\n",
       "</table>\n",
       "</div>"
      ],
      "text/plain": [
       "        Predictor    pvalue\n",
       "0           Own_1  0.467023\n",
       "0  Income_replace  0.955490"
      ]
     },
     "execution_count": 193,
     "metadata": {},
     "output_type": "execute_result"
    }
   ],
   "source": [
    "pvalue_df"
   ]
  },
  {
   "cell_type": "code",
   "execution_count": 194,
   "id": "192f9355",
   "metadata": {},
   "outputs": [],
   "source": [
    "# we have to drop Own_1 and Income_replace as they have insignificant p-value"
   ]
  },
  {
   "cell_type": "code",
   "execution_count": 195,
   "id": "e540caf6",
   "metadata": {},
   "outputs": [],
   "source": [
    "X.drop(['Income_replace','Own_1'],inplace=True,axis=1)"
   ]
  },
  {
   "cell_type": "code",
   "execution_count": 196,
   "id": "26a83284",
   "metadata": {},
   "outputs": [],
   "source": [
    "# final model\n",
    "\n",
    "final_model= sm.OLS(y, X).fit()"
   ]
  },
  {
   "cell_type": "code",
   "execution_count": 197,
   "id": "72580b85",
   "metadata": {},
   "outputs": [
    {
     "name": "stdout",
     "output_type": "stream",
     "text": [
      "                            OLS Regression Results                            \n",
      "==============================================================================\n",
      "Dep. Variable:     MonthlyPay_replace   R-squared:                       0.532\n",
      "Model:                            OLS   Adj. R-squared:                  0.526\n",
      "Method:                 Least Squares   F-statistic:                     93.39\n",
      "Date:                Mon, 12 Sep 2022   Prob (F-statistic):           4.67e-78\n",
      "Time:                        18:19:41   Log-Likelihood:                -3454.8\n",
      "No. Observations:                 500   AIC:                             6924.\n",
      "Df Residuals:                     493   BIC:                             6953.\n",
      "Df Model:                           6                                         \n",
      "Covariance Type:            nonrobust                                         \n",
      "=====================================================================================\n",
      "                        coef    std err          t      P>|t|      [0.025      0.975]\n",
      "-------------------------------------------------------------------------------------\n",
      "const               581.1166    130.987      4.436      0.000     323.755     838.479\n",
      "Family Size         -47.4234      7.501     -6.322      0.000     -62.162     -32.685\n",
      "Utilities_replace     0.9947      0.672      1.479      0.140      -0.327       2.316\n",
      "Debt_replace          0.0838      0.011      7.453      0.000       0.062       0.106\n",
      "Sector No_2         109.0397     31.296      3.484      0.001      47.550     170.529\n",
      "Sector No_3         -80.6606     31.712     -2.544      0.011    -142.968     -18.353\n",
      "Sector No_4        -251.8567     33.892     -7.431      0.000    -318.448    -185.266\n",
      "==============================================================================\n",
      "Omnibus:                        7.664   Durbin-Watson:                   2.074\n",
      "Prob(Omnibus):                  0.022   Jarque-Bera (JB):                7.548\n",
      "Skew:                           0.292   Prob(JB):                       0.0230\n",
      "Kurtosis:                       3.148   Cond. No.                     5.60e+04\n",
      "==============================================================================\n",
      "\n",
      "Notes:\n",
      "[1] Standard Errors assume that the covariance matrix of the errors is correctly specified.\n",
      "[2] The condition number is large, 5.6e+04. This might indicate that there are\n",
      "strong multicollinearity or other numerical problems.\n"
     ]
    }
   ],
   "source": [
    "print(final_model.summary())"
   ]
  },
  {
   "cell_type": "code",
   "execution_count": 198,
   "id": "047b2979",
   "metadata": {},
   "outputs": [],
   "source": [
    "# we may have to drop Utilities_replace , as the p value seems to be insignificant."
   ]
  },
  {
   "cell_type": "markdown",
   "id": "9fe18e6e",
   "metadata": {},
   "source": [
    "# ML XTEND"
   ]
  },
  {
   "cell_type": "code",
   "execution_count": 217,
   "id": "8ae5e770",
   "metadata": {},
   "outputs": [],
   "source": [
    "from mlxtend.feature_selection import SequentialFeatureSelector as sfs\n",
    "from mlxtend.plotting import plot_sequential_feature_selection as plot_sfs\n",
    "\n",
    "from sklearn.linear_model import LinearRegression\n",
    "from sklearn.preprocessing import StandardScaler\n",
    "from sklearn.preprocessing import OneHotEncoder\n",
    "from sklearn.preprocessing import LabelEncoder\n",
    "import matplotlib.pyplot as plt"
   ]
  },
  {
   "cell_type": "code",
   "execution_count": 200,
   "id": "34f282b8",
   "metadata": {},
   "outputs": [],
   "source": [
    "y1=HouseHoldExp_df1['MonthlyPay_replace']"
   ]
  },
  {
   "cell_type": "code",
   "execution_count": 201,
   "id": "3d8a07de",
   "metadata": {},
   "outputs": [],
   "source": [
    "X1=HouseHoldExp_df1\n",
    "X1.drop(['MonthlyPay_replace'],inplace=True,axis=1)\n"
   ]
  },
  {
   "cell_type": "code",
   "execution_count": 202,
   "id": "9a6682bd",
   "metadata": {},
   "outputs": [
    {
     "data": {
      "text/plain": [
       "Household\n",
       "1      1585\n",
       "2      1314\n",
       "3       383\n",
       "4      1002\n",
       "5       743\n",
       "       ... \n",
       "496    1184\n",
       "497     990\n",
       "498    1603\n",
       "499     831\n",
       "500     948\n",
       "Name: MonthlyPay_replace, Length: 500, dtype: int64"
      ]
     },
     "execution_count": 202,
     "metadata": {},
     "output_type": "execute_result"
    }
   ],
   "source": [
    "y1"
   ]
  },
  {
   "cell_type": "code",
   "execution_count": 203,
   "id": "94be508d",
   "metadata": {},
   "outputs": [
    {
     "data": {
      "text/html": [
       "<div>\n",
       "<style scoped>\n",
       "    .dataframe tbody tr th:only-of-type {\n",
       "        vertical-align: middle;\n",
       "    }\n",
       "\n",
       "    .dataframe tbody tr th {\n",
       "        vertical-align: top;\n",
       "    }\n",
       "\n",
       "    .dataframe thead th {\n",
       "        text-align: right;\n",
       "    }\n",
       "</style>\n",
       "<table border=\"1\" class=\"dataframe\">\n",
       "  <thead>\n",
       "    <tr style=\"text-align: right;\">\n",
       "      <th></th>\n",
       "      <th>Family Size</th>\n",
       "      <th>Sector No</th>\n",
       "      <th>Own</th>\n",
       "      <th>Income_replace</th>\n",
       "      <th>Utilities_replace</th>\n",
       "      <th>Debt_replace</th>\n",
       "    </tr>\n",
       "    <tr>\n",
       "      <th>Household</th>\n",
       "      <th></th>\n",
       "      <th></th>\n",
       "      <th></th>\n",
       "      <th></th>\n",
       "      <th></th>\n",
       "      <th></th>\n",
       "    </tr>\n",
       "  </thead>\n",
       "  <tbody>\n",
       "    <tr>\n",
       "      <th>1</th>\n",
       "      <td>2</td>\n",
       "      <td>2</td>\n",
       "      <td>1</td>\n",
       "      <td>96709</td>\n",
       "      <td>252</td>\n",
       "      <td>5692</td>\n",
       "    </tr>\n",
       "    <tr>\n",
       "      <th>2</th>\n",
       "      <td>6</td>\n",
       "      <td>2</td>\n",
       "      <td>0</td>\n",
       "      <td>77470</td>\n",
       "      <td>216</td>\n",
       "      <td>4267</td>\n",
       "    </tr>\n",
       "    <tr>\n",
       "      <th>3</th>\n",
       "      <td>3</td>\n",
       "      <td>4</td>\n",
       "      <td>0</td>\n",
       "      <td>65746</td>\n",
       "      <td>207</td>\n",
       "      <td>2903</td>\n",
       "    </tr>\n",
       "    <tr>\n",
       "      <th>4</th>\n",
       "      <td>1</td>\n",
       "      <td>1</td>\n",
       "      <td>1</td>\n",
       "      <td>56610</td>\n",
       "      <td>249</td>\n",
       "      <td>3896</td>\n",
       "    </tr>\n",
       "    <tr>\n",
       "      <th>5</th>\n",
       "      <td>3</td>\n",
       "      <td>3</td>\n",
       "      <td>0</td>\n",
       "      <td>59185</td>\n",
       "      <td>217</td>\n",
       "      <td>3011</td>\n",
       "    </tr>\n",
       "    <tr>\n",
       "      <th>...</th>\n",
       "      <td>...</td>\n",
       "      <td>...</td>\n",
       "      <td>...</td>\n",
       "      <td>...</td>\n",
       "      <td>...</td>\n",
       "      <td>...</td>\n",
       "    </tr>\n",
       "    <tr>\n",
       "      <th>496</th>\n",
       "      <td>3</td>\n",
       "      <td>1</td>\n",
       "      <td>0</td>\n",
       "      <td>76825</td>\n",
       "      <td>197</td>\n",
       "      <td>3194</td>\n",
       "    </tr>\n",
       "    <tr>\n",
       "      <th>497</th>\n",
       "      <td>5</td>\n",
       "      <td>2</td>\n",
       "      <td>1</td>\n",
       "      <td>121113</td>\n",
       "      <td>274</td>\n",
       "      <td>8400</td>\n",
       "    </tr>\n",
       "    <tr>\n",
       "      <th>498</th>\n",
       "      <td>2</td>\n",
       "      <td>2</td>\n",
       "      <td>1</td>\n",
       "      <td>76963</td>\n",
       "      <td>253</td>\n",
       "      <td>5675</td>\n",
       "    </tr>\n",
       "    <tr>\n",
       "      <th>499</th>\n",
       "      <td>4</td>\n",
       "      <td>4</td>\n",
       "      <td>1</td>\n",
       "      <td>25713</td>\n",
       "      <td>266</td>\n",
       "      <td>4879</td>\n",
       "    </tr>\n",
       "    <tr>\n",
       "      <th>500</th>\n",
       "      <td>1</td>\n",
       "      <td>4</td>\n",
       "      <td>1</td>\n",
       "      <td>39187</td>\n",
       "      <td>251</td>\n",
       "      <td>3278</td>\n",
       "    </tr>\n",
       "  </tbody>\n",
       "</table>\n",
       "<p>500 rows × 6 columns</p>\n",
       "</div>"
      ],
      "text/plain": [
       "           Family Size  Sector No  Own  Income_replace  Utilities_replace  \\\n",
       "Household                                                                   \n",
       "1                    2          2    1           96709                252   \n",
       "2                    6          2    0           77470                216   \n",
       "3                    3          4    0           65746                207   \n",
       "4                    1          1    1           56610                249   \n",
       "5                    3          3    0           59185                217   \n",
       "...                ...        ...  ...             ...                ...   \n",
       "496                  3          1    0           76825                197   \n",
       "497                  5          2    1          121113                274   \n",
       "498                  2          2    1           76963                253   \n",
       "499                  4          4    1           25713                266   \n",
       "500                  1          4    1           39187                251   \n",
       "\n",
       "           Debt_replace  \n",
       "Household                \n",
       "1                  5692  \n",
       "2                  4267  \n",
       "3                  2903  \n",
       "4                  3896  \n",
       "5                  3011  \n",
       "...                 ...  \n",
       "496                3194  \n",
       "497                8400  \n",
       "498                5675  \n",
       "499                4879  \n",
       "500                3278  \n",
       "\n",
       "[500 rows x 6 columns]"
      ]
     },
     "execution_count": 203,
     "metadata": {},
     "output_type": "execute_result"
    }
   ],
   "source": [
    "X1"
   ]
  },
  {
   "cell_type": "code",
   "execution_count": 210,
   "id": "889d4a62",
   "metadata": {},
   "outputs": [
    {
     "name": "stdout",
     "output_type": "stream",
     "text": [
      "Scaled X with  StandardScaler\n"
     ]
    },
    {
     "data": {
      "text/html": [
       "<div>\n",
       "<style scoped>\n",
       "    .dataframe tbody tr th:only-of-type {\n",
       "        vertical-align: middle;\n",
       "    }\n",
       "\n",
       "    .dataframe tbody tr th {\n",
       "        vertical-align: top;\n",
       "    }\n",
       "\n",
       "    .dataframe thead th {\n",
       "        text-align: right;\n",
       "    }\n",
       "</style>\n",
       "<table border=\"1\" class=\"dataframe\">\n",
       "  <thead>\n",
       "    <tr style=\"text-align: right;\">\n",
       "      <th></th>\n",
       "      <th>Family Size</th>\n",
       "      <th>Sector No</th>\n",
       "      <th>Own</th>\n",
       "      <th>Income_replace</th>\n",
       "      <th>Utilities_replace</th>\n",
       "      <th>Debt_replace</th>\n",
       "    </tr>\n",
       "    <tr>\n",
       "      <th>Household</th>\n",
       "      <th></th>\n",
       "      <th></th>\n",
       "      <th></th>\n",
       "      <th></th>\n",
       "      <th></th>\n",
       "      <th></th>\n",
       "    </tr>\n",
       "  </thead>\n",
       "  <tbody>\n",
       "    <tr>\n",
       "      <th>1</th>\n",
       "      <td>1</td>\n",
       "      <td>1</td>\n",
       "      <td>1</td>\n",
       "      <td>1.029164</td>\n",
       "      <td>0.632283</td>\n",
       "      <td>0.796121</td>\n",
       "    </tr>\n",
       "    <tr>\n",
       "      <th>2</th>\n",
       "      <td>5</td>\n",
       "      <td>1</td>\n",
       "      <td>0</td>\n",
       "      <td>0.379936</td>\n",
       "      <td>-0.760070</td>\n",
       "      <td>-0.030290</td>\n",
       "    </tr>\n",
       "    <tr>\n",
       "      <th>3</th>\n",
       "      <td>2</td>\n",
       "      <td>3</td>\n",
       "      <td>0</td>\n",
       "      <td>-0.015695</td>\n",
       "      <td>-1.108159</td>\n",
       "      <td>-0.821325</td>\n",
       "    </tr>\n",
       "    <tr>\n",
       "      <th>4</th>\n",
       "      <td>0</td>\n",
       "      <td>0</td>\n",
       "      <td>1</td>\n",
       "      <td>-0.323994</td>\n",
       "      <td>0.516254</td>\n",
       "      <td>-0.245447</td>\n",
       "    </tr>\n",
       "    <tr>\n",
       "      <th>5</th>\n",
       "      <td>2</td>\n",
       "      <td>2</td>\n",
       "      <td>0</td>\n",
       "      <td>-0.237099</td>\n",
       "      <td>-0.721394</td>\n",
       "      <td>-0.758692</td>\n",
       "    </tr>\n",
       "  </tbody>\n",
       "</table>\n",
       "</div>"
      ],
      "text/plain": [
       "           Family Size  Sector No  Own  Income_replace  Utilities_replace  \\\n",
       "Household                                                                   \n",
       "1                    1          1    1        1.029164           0.632283   \n",
       "2                    5          1    0        0.379936          -0.760070   \n",
       "3                    2          3    0       -0.015695          -1.108159   \n",
       "4                    0          0    1       -0.323994           0.516254   \n",
       "5                    2          2    0       -0.237099          -0.721394   \n",
       "\n",
       "           Debt_replace  \n",
       "Household                \n",
       "1              0.796121  \n",
       "2             -0.030290  \n",
       "3             -0.821325  \n",
       "4             -0.245447  \n",
       "5             -0.758692  "
      ]
     },
     "execution_count": 210,
     "metadata": {},
     "output_type": "execute_result"
    }
   ],
   "source": [
    "# Define which columns should be encoded vs scaled\n",
    "columns_to_encode = ['Sector No','Own','Family Size']\n",
    "columns_to_scale  = ['Income_replace', 'Utilities_replace','Debt_replace']\n",
    "\n",
    "# Instantiate encoder/scaler\n",
    "scaler = StandardScaler()\n",
    "le  = LabelEncoder()\n",
    "\n",
    "X1[columns_to_encode] = X1[columns_to_encode].apply(le.fit_transform)\n",
    "\n",
    "X1[columns_to_scale] = scaler.fit_transform(X1[columns_to_scale])\n",
    "\n",
    "print(\"Scaled X with  StandardScaler\")\n",
    "X1.head()"
   ]
  },
  {
   "cell_type": "code",
   "execution_count": 211,
   "id": "5167efb5",
   "metadata": {},
   "outputs": [],
   "source": [
    "lr = LinearRegression()"
   ]
  },
  {
   "cell_type": "code",
   "execution_count": 218,
   "id": "0a5f4bb7",
   "metadata": {},
   "outputs": [],
   "source": [
    "sfs_forward = sfs(lr,\n",
    "            k_features=(1,4),\n",
    "            forward=True,\n",
    "            floating=False,\n",
    "            scoring='neg_mean_squared_error',\n",
    "            cv=10)\n",
    "sfs = sfs_forward.fit(X1, y1)"
   ]
  },
  {
   "cell_type": "code",
   "execution_count": 215,
   "id": "7e91d855",
   "metadata": {},
   "outputs": [
    {
     "name": "stdout",
     "output_type": "stream",
     "text": [
      "Best subset: ('Family Size', 'Sector No', 'Income_replace', 'Debt_replace')\n"
     ]
    }
   ],
   "source": [
    "print('Best subset:', sfs.k_feature_names_)"
   ]
  },
  {
   "cell_type": "code",
   "execution_count": 219,
   "id": "d54c7b7e",
   "metadata": {},
   "outputs": [
    {
     "data": {
      "image/png": "[encoded data removed]",
      "text/plain": [
       "<Figure size 640x480 with 1 Axes>"
      ]
     },
     "metadata": {},
     "output_type": "display_data"
    }
   ],
   "source": [
    "fig = plot_sfs(sfs.get_metric_dict(), kind='std_err')\n",
    "plt.title('Sequential Forward Selection (w. StdErr)')\n",
    "plt.grid()\n",
    "plt.show()"
   ]
  },
  {
   "cell_type": "code",
   "execution_count": 220,
   "id": "61b036c7",
   "metadata": {},
   "outputs": [
    {
     "name": "stdout",
     "output_type": "stream",
     "text": [
      "Best subset: ('Family Size', 'Sector No', 'Income_replace', 'Utilities_replace', 'Debt_replace')\n"
     ]
    }
   ],
   "source": [
    "from mlxtend.feature_selection import SequentialFeatureSelector as sfs\n",
    "sfs_back = sfs(lr,\n",
    "            k_features=5,\n",
    "            forward=False,\n",
    "            floating=False,\n",
    "            scoring='r2',\n",
    "            cv=10)\n",
    "\n",
    "sfs = sfs_back.fit(X_s, y1)\n",
    "print('Best subset:', sfs.k_feature_names_)"
   ]
  },
  {
   "cell_type": "code",
   "execution_count": 221,
   "id": "08e61928",
   "metadata": {},
   "outputs": [
    {
     "data": {
      "image/png": "[encoded data removed]",
      "text/plain": [
       "<Figure size 640x480 with 1 Axes>"
      ]
     },
     "metadata": {},
     "output_type": "display_data"
    }
   ],
   "source": [
    "fig = plot_sfs(sfs.get_metric_dict(), kind='std_err')\n",
    "plt.title('Sequential Backward Selection (w. StdErr)')\n",
    "plt.grid()\n",
    "plt.show()"
   ]
  },
  {
   "cell_type": "markdown",
   "id": "df457404",
   "metadata": {},
   "source": [
    "### Q2. MLR Feature Selection – Box Office Revenue Prediction\n",
    "An industry analyst is interested in building a predictive model to understand the impact of various factors and opening week revenue numbers in the overall collections of a movie (Total revenue).\n",
    "Box Office collection of Bollywood movies were recorded. The data is provided in file: MLR_MovieBoxOffice_data.csv.\n",
    "1) Identify the variables that can be used to fit a linear regression model.\n",
    "2) How is the revenue impacted by genre of the movie?\n",
    "3) Does the month have any role to play in movie opening?\n",
    "4) Use any variable reduction technique to fit a model using all relevant variables.\n",
    "5) Do you find any outliers in the dataset? What could be the possible reason for those being outliers?"
   ]
  },
  {
   "cell_type": "code",
   "execution_count": 222,
   "id": "cf761126",
   "metadata": {},
   "outputs": [
    {
     "data": {
      "text/html": [
       "<div>\n",
       "<style scoped>\n",
       "    .dataframe tbody tr th:only-of-type {\n",
       "        vertical-align: middle;\n",
       "    }\n",
       "\n",
       "    .dataframe tbody tr th {\n",
       "        vertical-align: top;\n",
       "    }\n",
       "\n",
       "    .dataframe thead th {\n",
       "        text-align: right;\n",
       "    }\n",
       "</style>\n",
       "<table border=\"1\" class=\"dataframe\">\n",
       "  <thead>\n",
       "    <tr style=\"text-align: right;\">\n",
       "      <th></th>\n",
       "      <th>revenue_total</th>\n",
       "      <th>revenue_opening_day</th>\n",
       "      <th>revenue_opening_weekend</th>\n",
       "      <th>revenue_firstweek</th>\n",
       "      <th>movie_genre</th>\n",
       "      <th>runtime</th>\n",
       "      <th>movie_director</th>\n",
       "      <th>release_month</th>\n",
       "      <th>release_year</th>\n",
       "    </tr>\n",
       "    <tr>\n",
       "      <th>movie_name</th>\n",
       "      <th></th>\n",
       "      <th></th>\n",
       "      <th></th>\n",
       "      <th></th>\n",
       "      <th></th>\n",
       "      <th></th>\n",
       "      <th></th>\n",
       "      <th></th>\n",
       "      <th></th>\n",
       "    </tr>\n",
       "  </thead>\n",
       "  <tbody>\n",
       "    <tr>\n",
       "      <th>De De Pyaar De</th>\n",
       "      <td>95.86</td>\n",
       "      <td>10.41</td>\n",
       "      <td>38.54</td>\n",
       "      <td>61.05</td>\n",
       "      <td>Comedy</td>\n",
       "      <td>135</td>\n",
       "      <td>Akiv Ali</td>\n",
       "      <td>May</td>\n",
       "      <td>2019</td>\n",
       "    </tr>\n",
       "    <tr>\n",
       "      <th>Judwaa 2</th>\n",
       "      <td>138.47</td>\n",
       "      <td>16.10</td>\n",
       "      <td>59.25</td>\n",
       "      <td>98.08</td>\n",
       "      <td>Comedy</td>\n",
       "      <td>150</td>\n",
       "      <td>David Dhawan</td>\n",
       "      <td>Sep</td>\n",
       "      <td>2017</td>\n",
       "    </tr>\n",
       "    <tr>\n",
       "      <th>Game Over</th>\n",
       "      <td>11.06</td>\n",
       "      <td>0.97</td>\n",
       "      <td>4.95</td>\n",
       "      <td>9.02</td>\n",
       "      <td>Thriller</td>\n",
       "      <td>103</td>\n",
       "      <td>Ashwin Saravanan</td>\n",
       "      <td>Jun</td>\n",
       "      <td>2019</td>\n",
       "    </tr>\n",
       "    <tr>\n",
       "      <th>Soorma</th>\n",
       "      <td>30.11</td>\n",
       "      <td>3.20</td>\n",
       "      <td>13.85</td>\n",
       "      <td>21.21</td>\n",
       "      <td>Biographical</td>\n",
       "      <td>131</td>\n",
       "      <td>Shaad Ali</td>\n",
       "      <td>Jul</td>\n",
       "      <td>2018</td>\n",
       "    </tr>\n",
       "    <tr>\n",
       "      <th>October</th>\n",
       "      <td>45.36</td>\n",
       "      <td>5.04</td>\n",
       "      <td>20.25</td>\n",
       "      <td>30.24</td>\n",
       "      <td>Drama</td>\n",
       "      <td>116</td>\n",
       "      <td>Shoojit Sircar</td>\n",
       "      <td>Apr</td>\n",
       "      <td>2018</td>\n",
       "    </tr>\n",
       "    <tr>\n",
       "      <th>Jawaani Jaaneman</th>\n",
       "      <td>27.91</td>\n",
       "      <td>3.24</td>\n",
       "      <td>12.83</td>\n",
       "      <td>20.21</td>\n",
       "      <td>Comedy</td>\n",
       "      <td>119</td>\n",
       "      <td>Nitin Kakkar</td>\n",
       "      <td>Jan</td>\n",
       "      <td>2020</td>\n",
       "    </tr>\n",
       "    <tr>\n",
       "      <th>Satyameva Jayate</th>\n",
       "      <td>75.09</td>\n",
       "      <td>20.52</td>\n",
       "      <td>56.91</td>\n",
       "      <td>75.09</td>\n",
       "      <td>Action</td>\n",
       "      <td>141</td>\n",
       "      <td>Milap Zaveri</td>\n",
       "      <td>Aug</td>\n",
       "      <td>2018</td>\n",
       "    </tr>\n",
       "    <tr>\n",
       "      <th>Panipat</th>\n",
       "      <td>34.28</td>\n",
       "      <td>4.12</td>\n",
       "      <td>17.68</td>\n",
       "      <td>25.68</td>\n",
       "      <td>Historical</td>\n",
       "      <td>162</td>\n",
       "      <td>Ashutosh Gowariker</td>\n",
       "      <td>Dec</td>\n",
       "      <td>2019</td>\n",
       "    </tr>\n",
       "    <tr>\n",
       "      <th>Pari</th>\n",
       "      <td>22.75</td>\n",
       "      <td>4.36</td>\n",
       "      <td>15.34</td>\n",
       "      <td>22.75</td>\n",
       "      <td>Horror</td>\n",
       "      <td>137</td>\n",
       "      <td>Prosit Roy</td>\n",
       "      <td>Mar</td>\n",
       "      <td>2018</td>\n",
       "    </tr>\n",
       "    <tr>\n",
       "      <th>Mukkabaaz</th>\n",
       "      <td>8.87</td>\n",
       "      <td>0.82</td>\n",
       "      <td>4.04</td>\n",
       "      <td>6.73</td>\n",
       "      <td>Drama</td>\n",
       "      <td>155</td>\n",
       "      <td>Anurag Kashyap</td>\n",
       "      <td>Jan</td>\n",
       "      <td>2018</td>\n",
       "    </tr>\n",
       "  </tbody>\n",
       "</table>\n",
       "</div>"
      ],
      "text/plain": [
       "                  revenue_total  revenue_opening_day  revenue_opening_weekend  \\\n",
       "movie_name                                                                      \n",
       "De De Pyaar De            95.86                10.41                    38.54   \n",
       "Judwaa 2                 138.47                16.10                    59.25   \n",
       "Game Over                 11.06                 0.97                     4.95   \n",
       "Soorma                    30.11                 3.20                    13.85   \n",
       "October                   45.36                 5.04                    20.25   \n",
       "Jawaani Jaaneman          27.91                 3.24                    12.83   \n",
       "Satyameva Jayate          75.09                20.52                    56.91   \n",
       "Panipat                   34.28                 4.12                    17.68   \n",
       "Pari                      22.75                 4.36                    15.34   \n",
       "Mukkabaaz                  8.87                 0.82                     4.04   \n",
       "\n",
       "                  revenue_firstweek   movie_genre  runtime  \\\n",
       "movie_name                                                   \n",
       "De De Pyaar De                61.05        Comedy      135   \n",
       "Judwaa 2                      98.08        Comedy      150   \n",
       "Game Over                      9.02      Thriller      103   \n",
       "Soorma                        21.21  Biographical      131   \n",
       "October                       30.24         Drama      116   \n",
       "Jawaani Jaaneman              20.21        Comedy      119   \n",
       "Satyameva Jayate              75.09        Action      141   \n",
       "Panipat                       25.68    Historical      162   \n",
       "Pari                          22.75        Horror      137   \n",
       "Mukkabaaz                      6.73         Drama      155   \n",
       "\n",
       "                      movie_director release_month  release_year  \n",
       "movie_name                                                        \n",
       "De De Pyaar De              Akiv Ali           May          2019  \n",
       "Judwaa 2                David Dhawan           Sep          2017  \n",
       "Game Over           Ashwin Saravanan           Jun          2019  \n",
       "Soorma                     Shaad Ali           Jul          2018  \n",
       "October               Shoojit Sircar           Apr          2018  \n",
       "Jawaani Jaaneman        Nitin Kakkar           Jan          2020  \n",
       "Satyameva Jayate        Milap Zaveri           Aug          2018  \n",
       "Panipat           Ashutosh Gowariker           Dec          2019  \n",
       "Pari                      Prosit Roy           Mar          2018  \n",
       "Mukkabaaz             Anurag Kashyap           Jan          2018  "
      ]
     },
     "execution_count": 222,
     "metadata": {},
     "output_type": "execute_result"
    }
   ],
   "source": [
    "MovieBoxOff_df=pd.read_csv('MLR_MovieBoxOffice_data.csv')\n",
    "MovieBoxOff_plot_df=pd.read_csv('MLR_MovieBoxOffice_data.csv')\n",
    "MovieBoxOff_df=MovieBoxOff_df.set_index(['movie_name'])\n",
    "MovieBoxOff_df.sample(10)\n"
   ]
  },
  {
   "cell_type": "code",
   "execution_count": 223,
   "id": "5cf532d2",
   "metadata": {},
   "outputs": [
    {
     "data": {
      "text/plain": [
       "59"
      ]
     },
     "execution_count": 223,
     "metadata": {},
     "output_type": "execute_result"
    }
   ],
   "source": [
    "# Length of movie (run tim) a categorical variable  can not  influence  revenue- we should drop it\n",
    "len(MovieBoxOff_df['runtime'].unique())"
   ]
  },
  {
   "cell_type": "code",
   "execution_count": 224,
   "id": "5eb56886",
   "metadata": {},
   "outputs": [
    {
     "data": {
      "text/plain": [
       "116"
      ]
     },
     "execution_count": 224,
     "metadata": {},
     "output_type": "execute_result"
    }
   ],
   "source": [
    "# 116 Directors - no relationship drop\n",
    "len(MovieBoxOff_df['movie_director'].unique())"
   ]
  },
  {
   "cell_type": "code",
   "execution_count": 225,
   "id": "c8b62f2e",
   "metadata": {},
   "outputs": [
    {
     "data": {
      "text/plain": [
       "12"
      ]
     },
     "execution_count": 225,
     "metadata": {},
     "output_type": "execute_result"
    }
   ],
   "source": [
    "# we should consider this \n",
    "len(MovieBoxOff_df['release_month'].unique())"
   ]
  },
  {
   "cell_type": "code",
   "execution_count": 226,
   "id": "ed3669e5",
   "metadata": {},
   "outputs": [],
   "source": [
    "# since we are trying to predict future Total revenue - release year  can be dropped\n"
   ]
  },
  {
   "cell_type": "code",
   "execution_count": 227,
   "id": "27370c11",
   "metadata": {},
   "outputs": [],
   "source": [
    "y=MovieBoxOff_df['revenue_total']\n",
    "X=MovieBoxOff_df\n",
    "X.drop(['revenue_total','runtime','movie_director','release_year'],inplace=True , axis=1)"
   ]
  },
  {
   "cell_type": "code",
   "execution_count": 228,
   "id": "19069927",
   "metadata": {},
   "outputs": [
    {
     "data": {
      "text/html": [
       "<div>\n",
       "<style scoped>\n",
       "    .dataframe tbody tr th:only-of-type {\n",
       "        vertical-align: middle;\n",
       "    }\n",
       "\n",
       "    .dataframe tbody tr th {\n",
       "        vertical-align: top;\n",
       "    }\n",
       "\n",
       "    .dataframe thead th {\n",
       "        text-align: right;\n",
       "    }\n",
       "</style>\n",
       "<table border=\"1\" class=\"dataframe\">\n",
       "  <thead>\n",
       "    <tr style=\"text-align: right;\">\n",
       "      <th></th>\n",
       "      <th>revenue_opening_day</th>\n",
       "      <th>revenue_opening_weekend</th>\n",
       "      <th>revenue_firstweek</th>\n",
       "      <th>movie_genre</th>\n",
       "      <th>release_month</th>\n",
       "    </tr>\n",
       "    <tr>\n",
       "      <th>movie_name</th>\n",
       "      <th></th>\n",
       "      <th></th>\n",
       "      <th></th>\n",
       "      <th></th>\n",
       "      <th></th>\n",
       "    </tr>\n",
       "  </thead>\n",
       "  <tbody>\n",
       "    <tr>\n",
       "      <th>Angrezi Medium</th>\n",
       "      <td>4.03</td>\n",
       "      <td>9.03</td>\n",
       "      <td>9.36</td>\n",
       "      <td>Drama</td>\n",
       "      <td>Mar</td>\n",
       "    </tr>\n",
       "    <tr>\n",
       "      <th>Baaghi 3</th>\n",
       "      <td>17.50</td>\n",
       "      <td>53.83</td>\n",
       "      <td>90.67</td>\n",
       "      <td>Action</td>\n",
       "      <td>Mar</td>\n",
       "    </tr>\n",
       "    <tr>\n",
       "      <th>Thappad</th>\n",
       "      <td>3.07</td>\n",
       "      <td>14.66</td>\n",
       "      <td>22.79</td>\n",
       "      <td>Drama</td>\n",
       "      <td>Feb</td>\n",
       "    </tr>\n",
       "    <tr>\n",
       "      <th>Shubh Mangal Zyada Saavdhan</th>\n",
       "      <td>9.55</td>\n",
       "      <td>32.66</td>\n",
       "      <td>44.84</td>\n",
       "      <td>Comedy</td>\n",
       "      <td>Feb</td>\n",
       "    </tr>\n",
       "    <tr>\n",
       "      <th>Bhoot: Part One - The Haunted Ship</th>\n",
       "      <td>5.10</td>\n",
       "      <td>16.36</td>\n",
       "      <td>24.18</td>\n",
       "      <td>Horror</td>\n",
       "      <td>Feb</td>\n",
       "    </tr>\n",
       "    <tr>\n",
       "      <th>...</th>\n",
       "      <td>...</td>\n",
       "      <td>...</td>\n",
       "      <td>...</td>\n",
       "      <td>...</td>\n",
       "      <td>...</td>\n",
       "    </tr>\n",
       "    <tr>\n",
       "      <th>Bhoomi</th>\n",
       "      <td>2.25</td>\n",
       "      <td>7.48</td>\n",
       "      <td>10.28</td>\n",
       "      <td>Drama</td>\n",
       "      <td>Sep</td>\n",
       "    </tr>\n",
       "    <tr>\n",
       "      <th>Haseena Parkar</th>\n",
       "      <td>1.87</td>\n",
       "      <td>6.10</td>\n",
       "      <td>8.00</td>\n",
       "      <td>Biographical</td>\n",
       "      <td>Sep</td>\n",
       "    </tr>\n",
       "    <tr>\n",
       "      <th>Lucknow Central</th>\n",
       "      <td>2.04</td>\n",
       "      <td>8.42</td>\n",
       "      <td>10.42</td>\n",
       "      <td>Thriller</td>\n",
       "      <td>Sep</td>\n",
       "    </tr>\n",
       "    <tr>\n",
       "      <th>Simran</th>\n",
       "      <td>2.77</td>\n",
       "      <td>10.65</td>\n",
       "      <td>15.48</td>\n",
       "      <td>Drama</td>\n",
       "      <td>Sep</td>\n",
       "    </tr>\n",
       "    <tr>\n",
       "      <th>Poster Boys</th>\n",
       "      <td>1.75</td>\n",
       "      <td>7.25</td>\n",
       "      <td>11.20</td>\n",
       "      <td>Comedy</td>\n",
       "      <td>Sep</td>\n",
       "    </tr>\n",
       "  </tbody>\n",
       "</table>\n",
       "<p>130 rows × 5 columns</p>\n",
       "</div>"
      ],
      "text/plain": [
       "                                    revenue_opening_day  \\\n",
       "movie_name                                                \n",
       "Angrezi Medium                                     4.03   \n",
       "Baaghi 3                                          17.50   \n",
       "Thappad                                            3.07   \n",
       "Shubh Mangal Zyada Saavdhan                        9.55   \n",
       "Bhoot: Part One - The Haunted Ship                 5.10   \n",
       "...                                                 ...   \n",
       "Bhoomi                                             2.25   \n",
       "Haseena Parkar                                     1.87   \n",
       "Lucknow Central                                    2.04   \n",
       "Simran                                             2.77   \n",
       "Poster Boys                                        1.75   \n",
       "\n",
       "                                    revenue_opening_weekend  \\\n",
       "movie_name                                                    \n",
       "Angrezi Medium                                         9.03   \n",
       "Baaghi 3                                              53.83   \n",
       "Thappad                                               14.66   \n",
       "Shubh Mangal Zyada Saavdhan                           32.66   \n",
       "Bhoot: Part One - The Haunted Ship                    16.36   \n",
       "...                                                     ...   \n",
       "Bhoomi                                                 7.48   \n",
       "Haseena Parkar                                         6.10   \n",
       "Lucknow Central                                        8.42   \n",
       "Simran                                                10.65   \n",
       "Poster Boys                                            7.25   \n",
       "\n",
       "                                    revenue_firstweek   movie_genre  \\\n",
       "movie_name                                                            \n",
       "Angrezi Medium                                   9.36         Drama   \n",
       "Baaghi 3                                        90.67        Action   \n",
       "Thappad                                         22.79         Drama   \n",
       "Shubh Mangal Zyada Saavdhan                     44.84        Comedy   \n",
       "Bhoot: Part One - The Haunted Ship              24.18        Horror   \n",
       "...                                               ...           ...   \n",
       "Bhoomi                                          10.28         Drama   \n",
       "Haseena Parkar                                   8.00  Biographical   \n",
       "Lucknow Central                                 10.42      Thriller   \n",
       "Simran                                          15.48         Drama   \n",
       "Poster Boys                                     11.20        Comedy   \n",
       "\n",
       "                                   release_month  \n",
       "movie_name                                        \n",
       "Angrezi Medium                               Mar  \n",
       "Baaghi 3                                     Mar  \n",
       "Thappad                                      Feb  \n",
       "Shubh Mangal Zyada Saavdhan                  Feb  \n",
       "Bhoot: Part One - The Haunted Ship           Feb  \n",
       "...                                          ...  \n",
       "Bhoomi                                       Sep  \n",
       "Haseena Parkar                               Sep  \n",
       "Lucknow Central                              Sep  \n",
       "Simran                                       Sep  \n",
       "Poster Boys                                  Sep  \n",
       "\n",
       "[130 rows x 5 columns]"
      ]
     },
     "execution_count": 228,
     "metadata": {},
     "output_type": "execute_result"
    }
   ],
   "source": [
    "X\n"
   ]
  },
  {
   "cell_type": "code",
   "execution_count": 229,
   "id": "2b6763d1",
   "metadata": {},
   "outputs": [
    {
     "data": {
      "text/plain": [
       "<seaborn.axisgrid.PairGrid at 0x17e5fd36220>"
      ]
     },
     "execution_count": 229,
     "metadata": {},
     "output_type": "execute_result"
    },
    {
     "data": {
      "image/png": "[encoded data removed]",
      "text/plain": [
       "<Figure size 750x250 with 3 Axes>"
      ]
     },
     "metadata": {},
     "output_type": "display_data"
    }
   ],
   "source": [
    "sns.pairplot(MovieBoxOff_plot_df,x_vars=['revenue_opening_day','revenue_opening_weekend','revenue_firstweek'],y_vars=['revenue_total'])"
   ]
  },
  {
   "cell_type": "code",
   "execution_count": 230,
   "id": "c2c13fc7",
   "metadata": {},
   "outputs": [
    {
     "data": {
      "text/plain": [
       "<AxesSubplot:xlabel='revenue_total', ylabel='movie_genre'>"
      ]
     },
     "execution_count": 230,
     "metadata": {},
     "output_type": "execute_result"
    },
    {
     "data": {
      "image/png": "[encoded data removed]",
      "text/plain": [
       "<Figure size 640x480 with 1 Axes>"
      ]
     },
     "metadata": {},
     "output_type": "display_data"
    }
   ],
   "source": [
    "sns.boxplot(data=MovieBoxOff_plot_df, y=\"movie_genre\", x=\"revenue_total\")"
   ]
  },
  {
   "cell_type": "code",
   "execution_count": 231,
   "id": "f2e20da2",
   "metadata": {},
   "outputs": [
    {
     "data": {
      "text/plain": [
       "<AxesSubplot:xlabel='revenue_total', ylabel='release_month'>"
      ]
     },
     "execution_count": 231,
     "metadata": {},
     "output_type": "execute_result"
    },
    {
     "data": {
      "image/png": "[encoded data removed]",
      "text/plain": [
       "<Figure size 640x480 with 1 Axes>"
      ]
     },
     "metadata": {},
     "output_type": "display_data"
    }
   ],
   "source": [
    "sns.boxplot(data=MovieBoxOff_plot_df, y=\"release_month\", x=\"revenue_total\")"
   ]
  },
  {
   "cell_type": "code",
   "execution_count": 232,
   "id": "5d7a2fb9",
   "metadata": {},
   "outputs": [
    {
     "data": {
      "text/html": [
       "<div>\n",
       "<style scoped>\n",
       "    .dataframe tbody tr th:only-of-type {\n",
       "        vertical-align: middle;\n",
       "    }\n",
       "\n",
       "    .dataframe tbody tr th {\n",
       "        vertical-align: top;\n",
       "    }\n",
       "\n",
       "    .dataframe thead th {\n",
       "        text-align: right;\n",
       "    }\n",
       "</style>\n",
       "<table border=\"1\" class=\"dataframe\">\n",
       "  <thead>\n",
       "    <tr style=\"text-align: right;\">\n",
       "      <th></th>\n",
       "      <th>revenue_opening_day</th>\n",
       "      <th>revenue_opening_weekend</th>\n",
       "      <th>revenue_firstweek</th>\n",
       "      <th>movie_genre</th>\n",
       "      <th>release_month</th>\n",
       "    </tr>\n",
       "    <tr>\n",
       "      <th>movie_name</th>\n",
       "      <th></th>\n",
       "      <th></th>\n",
       "      <th></th>\n",
       "      <th></th>\n",
       "      <th></th>\n",
       "    </tr>\n",
       "  </thead>\n",
       "  <tbody>\n",
       "    <tr>\n",
       "      <th>Angrezi Medium</th>\n",
       "      <td>4.03</td>\n",
       "      <td>9.03</td>\n",
       "      <td>9.36</td>\n",
       "      <td>Drama</td>\n",
       "      <td>Mar</td>\n",
       "    </tr>\n",
       "    <tr>\n",
       "      <th>Baaghi 3</th>\n",
       "      <td>17.50</td>\n",
       "      <td>53.83</td>\n",
       "      <td>90.67</td>\n",
       "      <td>Action</td>\n",
       "      <td>Mar</td>\n",
       "    </tr>\n",
       "    <tr>\n",
       "      <th>Thappad</th>\n",
       "      <td>3.07</td>\n",
       "      <td>14.66</td>\n",
       "      <td>22.79</td>\n",
       "      <td>Drama</td>\n",
       "      <td>Feb</td>\n",
       "    </tr>\n",
       "    <tr>\n",
       "      <th>Shubh Mangal Zyada Saavdhan</th>\n",
       "      <td>9.55</td>\n",
       "      <td>32.66</td>\n",
       "      <td>44.84</td>\n",
       "      <td>Comedy</td>\n",
       "      <td>Feb</td>\n",
       "    </tr>\n",
       "    <tr>\n",
       "      <th>Bhoot: Part One - The Haunted Ship</th>\n",
       "      <td>5.10</td>\n",
       "      <td>16.36</td>\n",
       "      <td>24.18</td>\n",
       "      <td>Horror</td>\n",
       "      <td>Feb</td>\n",
       "    </tr>\n",
       "    <tr>\n",
       "      <th>...</th>\n",
       "      <td>...</td>\n",
       "      <td>...</td>\n",
       "      <td>...</td>\n",
       "      <td>...</td>\n",
       "      <td>...</td>\n",
       "    </tr>\n",
       "    <tr>\n",
       "      <th>Bhoomi</th>\n",
       "      <td>2.25</td>\n",
       "      <td>7.48</td>\n",
       "      <td>10.28</td>\n",
       "      <td>Drama</td>\n",
       "      <td>Sep</td>\n",
       "    </tr>\n",
       "    <tr>\n",
       "      <th>Haseena Parkar</th>\n",
       "      <td>1.87</td>\n",
       "      <td>6.10</td>\n",
       "      <td>8.00</td>\n",
       "      <td>Biographical</td>\n",
       "      <td>Sep</td>\n",
       "    </tr>\n",
       "    <tr>\n",
       "      <th>Lucknow Central</th>\n",
       "      <td>2.04</td>\n",
       "      <td>8.42</td>\n",
       "      <td>10.42</td>\n",
       "      <td>Thriller</td>\n",
       "      <td>Sep</td>\n",
       "    </tr>\n",
       "    <tr>\n",
       "      <th>Simran</th>\n",
       "      <td>2.77</td>\n",
       "      <td>10.65</td>\n",
       "      <td>15.48</td>\n",
       "      <td>Drama</td>\n",
       "      <td>Sep</td>\n",
       "    </tr>\n",
       "    <tr>\n",
       "      <th>Poster Boys</th>\n",
       "      <td>1.75</td>\n",
       "      <td>7.25</td>\n",
       "      <td>11.20</td>\n",
       "      <td>Comedy</td>\n",
       "      <td>Sep</td>\n",
       "    </tr>\n",
       "  </tbody>\n",
       "</table>\n",
       "<p>130 rows × 5 columns</p>\n",
       "</div>"
      ],
      "text/plain": [
       "                                    revenue_opening_day  \\\n",
       "movie_name                                                \n",
       "Angrezi Medium                                     4.03   \n",
       "Baaghi 3                                          17.50   \n",
       "Thappad                                            3.07   \n",
       "Shubh Mangal Zyada Saavdhan                        9.55   \n",
       "Bhoot: Part One - The Haunted Ship                 5.10   \n",
       "...                                                 ...   \n",
       "Bhoomi                                             2.25   \n",
       "Haseena Parkar                                     1.87   \n",
       "Lucknow Central                                    2.04   \n",
       "Simran                                             2.77   \n",
       "Poster Boys                                        1.75   \n",
       "\n",
       "                                    revenue_opening_weekend  \\\n",
       "movie_name                                                    \n",
       "Angrezi Medium                                         9.03   \n",
       "Baaghi 3                                              53.83   \n",
       "Thappad                                               14.66   \n",
       "Shubh Mangal Zyada Saavdhan                           32.66   \n",
       "Bhoot: Part One - The Haunted Ship                    16.36   \n",
       "...                                                     ...   \n",
       "Bhoomi                                                 7.48   \n",
       "Haseena Parkar                                         6.10   \n",
       "Lucknow Central                                        8.42   \n",
       "Simran                                                10.65   \n",
       "Poster Boys                                            7.25   \n",
       "\n",
       "                                    revenue_firstweek   movie_genre  \\\n",
       "movie_name                                                            \n",
       "Angrezi Medium                                   9.36         Drama   \n",
       "Baaghi 3                                        90.67        Action   \n",
       "Thappad                                         22.79         Drama   \n",
       "Shubh Mangal Zyada Saavdhan                     44.84        Comedy   \n",
       "Bhoot: Part One - The Haunted Ship              24.18        Horror   \n",
       "...                                               ...           ...   \n",
       "Bhoomi                                          10.28         Drama   \n",
       "Haseena Parkar                                   8.00  Biographical   \n",
       "Lucknow Central                                 10.42      Thriller   \n",
       "Simran                                          15.48         Drama   \n",
       "Poster Boys                                     11.20        Comedy   \n",
       "\n",
       "                                   release_month  \n",
       "movie_name                                        \n",
       "Angrezi Medium                               Mar  \n",
       "Baaghi 3                                     Mar  \n",
       "Thappad                                      Feb  \n",
       "Shubh Mangal Zyada Saavdhan                  Feb  \n",
       "Bhoot: Part One - The Haunted Ship           Feb  \n",
       "...                                          ...  \n",
       "Bhoomi                                       Sep  \n",
       "Haseena Parkar                               Sep  \n",
       "Lucknow Central                              Sep  \n",
       "Simran                                       Sep  \n",
       "Poster Boys                                  Sep  \n",
       "\n",
       "[130 rows x 5 columns]"
      ]
     },
     "execution_count": 232,
     "metadata": {},
     "output_type": "execute_result"
    }
   ],
   "source": [
    "X"
   ]
  },
  {
   "cell_type": "code",
   "execution_count": 233,
   "id": "cc944e00",
   "metadata": {},
   "outputs": [],
   "source": [
    "# Define which columns should be encoded vs scaled\n",
    "columns_to_encode = ['movie_genre','release_month']\n",
    "columns_to_scale  = ['revenue_opening_day', 'revenue_opening_weekend','revenue_firstweek']\n",
    "\n",
    "# Instantiate encoder/scaler\n",
    "scaler = StandardScaler()\n",
    "le  = LabelEncoder()\n",
    "\n",
    "X[columns_to_encode] = X[columns_to_encode].apply(le.fit_transform)\n",
    "\n",
    "X[columns_to_scale] = scaler.fit_transform(X[columns_to_scale])\n",
    "\n"
   ]
  },
  {
   "cell_type": "code",
   "execution_count": 234,
   "id": "f2b12c0b",
   "metadata": {},
   "outputs": [],
   "source": [
    "lr = LinearRegression()"
   ]
  },
  {
   "cell_type": "code",
   "execution_count": 235,
   "id": "2560bcdf",
   "metadata": {},
   "outputs": [
    {
     "name": "stdout",
     "output_type": "stream",
     "text": [
      "Best subset: ('revenue_opening_day', 'revenue_firstweek', 'movie_genre', 'release_month')\n"
     ]
    }
   ],
   "source": [
    "\n",
    "from mlxtend.feature_selection import SequentialFeatureSelector as sfs\n",
    "sfs_forward = sfs(lr,\n",
    "            k_features=4,\n",
    "            forward=True,\n",
    "            floating=False,\n",
    "            scoring='neg_mean_squared_error',\n",
    "            cv=10)\n",
    "\n",
    "sfs = sfs_forward.fit(X, y)\n",
    "print('Best subset:', sfs.k_feature_names_)"
   ]
  },
  {
   "cell_type": "code",
   "execution_count": 236,
   "id": "73c2f2f7",
   "metadata": {},
   "outputs": [
    {
     "data": {
      "image/png": "[encoded data removed]",
      "text/plain": [
       "<Figure size 640x480 with 1 Axes>"
      ]
     },
     "metadata": {},
     "output_type": "display_data"
    }
   ],
   "source": [
    "fig = plot_sfs(sfs.get_metric_dict(), kind='std_err')\n",
    "plt.title('Sequential Forward Selection (w. StdErr)')\n",
    "plt.grid()\n",
    "plt.show()"
   ]
  },
  {
   "cell_type": "code",
   "execution_count": null,
   "id": "02a988c8",
   "metadata": {},
   "outputs": [],
   "source": [
    "#q2_1 : The variables to be used {'revenue_opening_day', 'revenue_firstweek', 'movie_genre', 'release_month'}\n",
    "#q2_2: The genre has minimal impact on he revenue\n",
    "#q2_3: The release month has no effect on the revenue\n",
    "#q2_4: There are outliers in the data."
   ]
  }
 ],
 "metadata": {
  "kernelspec": {
   "display_name": "Python 3 (ipykernel)",
   "language": "python",
   "name": "python3"
  },
  "language_info": {
   "codemirror_mode": {
    "name": "ipython",
    "version": 3
   },
   "file_extension": ".py",
   "mimetype": "text/x-python",
   "name": "python",
   "nbconvert_exporter": "python",
   "pygments_lexer": "ipython3",
   "version": "3.8.13"
  }
 },
 "nbformat": 4,
 "nbformat_minor": 5
}
